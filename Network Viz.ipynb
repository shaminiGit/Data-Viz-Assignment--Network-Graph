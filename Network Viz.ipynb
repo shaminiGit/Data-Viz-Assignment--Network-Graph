{
 "cells": [
  {
   "cell_type": "code",
   "execution_count": 1,
   "metadata": {},
   "outputs": [],
   "source": [
    "#importing json and bqplot packages\n",
    "import json"
   ]
  },
  {
   "cell_type": "code",
   "execution_count": 2,
   "metadata": {},
   "outputs": [],
   "source": [
    "import bqplot"
   ]
  },
  {
   "cell_type": "code",
   "execution_count": 3,
   "metadata": {},
   "outputs": [],
   "source": [
    "#the dataset that contains the star war movie collection with characters,etc.\n",
    "films = json.load(open(\"shared/sp18-is590dv/data/star_wars/films.json\"))"
   ]
  },
  {
   "cell_type": "code",
   "execution_count": 4,
   "metadata": {},
   "outputs": [],
   "source": [
    "char_input = json.load(open(\"shared/sp18-is590dv/data/star_wars/people.json\"))"
   ]
  },
  {
   "cell_type": "code",
   "execution_count": 5,
   "metadata": {},
   "outputs": [],
   "source": [
    "#list of characters for which network gragh is to be visualised\n",
    "chars = [\"Boba Fett\", \"Yoda\", \"Jabba Desilijic Tiure\", \"Darth Vader\", \"Obi-Wan Kenobi\",\n",
    "         \"Beru Whitesun lars\", \"Mon Mothma\"]"
   ]
  },
  {
   "cell_type": "code",
   "execution_count": 7,
   "metadata": {},
   "outputs": [],
   "source": [
    "#Creating a character dictionary to get the corresponding character from the char_input json\n",
    "characters = {}\n",
    "for character in char_input:\n",
    "    characters[character['pk']] = character['fields']"
   ]
  },
  {
   "cell_type": "code",
   "execution_count": 8,
   "metadata": {},
   "outputs": [
    {
     "name": "stdout",
     "output_type": "stream",
     "text": [
      "A New Hope \n",
      " ['Luke Skywalker', 'C-3PO', 'R2-D2', 'Darth Vader', 'Leia Organa', 'Owen Lars', 'Beru Whitesun lars', 'R5-D4', 'Biggs Darklighter', 'Obi-Wan Kenobi', 'Wilhuff Tarkin', 'Chewbacca', 'Han Solo', 'Greedo', 'Jabba Desilijic Tiure', 'Wedge Antilles', 'Jek Tono Porkins', 'Raymus Antilles'] \n",
      "\n",
      "The Empire Strikes Back \n",
      " ['Luke Skywalker', 'C-3PO', 'R2-D2', 'Darth Vader', 'Leia Organa', 'Obi-Wan Kenobi', 'Chewbacca', 'Han Solo', 'Wedge Antilles', 'Yoda', 'Palpatine', 'Boba Fett', 'IG-88', 'Bossk', 'Lando Calrissian', 'Lobot'] \n",
      "\n",
      "Return of the Jedi \n",
      " ['Luke Skywalker', 'C-3PO', 'R2-D2', 'Darth Vader', 'Leia Organa', 'Obi-Wan Kenobi', 'Chewbacca', 'Han Solo', 'Jabba Desilijic Tiure', 'Wedge Antilles', 'Yoda', 'Palpatine', 'Boba Fett', 'Lando Calrissian', 'Ackbar', 'Mon Mothma', 'Arvel Crynyd', 'Wicket Systri Warrick', 'Nien Nunb', 'Bib Fortuna'] \n",
      "\n",
      "The Phantom Menace \n",
      " ['C-3PO', 'R2-D2', 'Obi-Wan Kenobi', 'Anakin Skywalker', 'Jabba Desilijic Tiure', 'Yoda', 'Palpatine', 'Qui-Gon Jinn', 'Nute Gunray', 'Finis Valorum', 'Padmé Amidala', 'Jar Jar Binks', 'Roos Tarpals', 'Rugor Nass', 'Ric Olié', 'Watto', 'Sebulba', 'Quarsh Panaka', 'Shmi Skywalker', 'Darth Maul', 'Ayla Secura', 'Ratts Tyerel', 'Dud Bolt', 'Gasgano', 'Ben Quadinaros', 'Mace Windu', 'Ki-Adi-Mundi', 'Kit Fisto', 'Eeth Koth', 'Adi Gallia', 'Saesee Tiin', 'Yarael Poof', 'Plo Koon', 'Mas Amedda'] \n",
      "\n",
      "Attack of the Clones \n",
      " ['C-3PO', 'R2-D2', 'Owen Lars', 'Beru Whitesun lars', 'Obi-Wan Kenobi', 'Anakin Skywalker', 'Yoda', 'Palpatine', 'Boba Fett', 'Nute Gunray', 'Padmé Amidala', 'Jar Jar Binks', 'Watto', 'Shmi Skywalker', 'Ayla Secura', 'Mace Windu', 'Ki-Adi-Mundi', 'Kit Fisto', 'Plo Koon', 'Mas Amedda', 'Gregar Typho', 'Cordé', 'Cliegg Lars', 'Poggle the Lesser', 'Luminara Unduli', 'Barriss Offee', 'Dormé', 'Dooku', 'Bail Prestor Organa', 'Jango Fett', 'Zam Wesell', 'Dexter Jettster', 'Lama Su', 'Taun We', 'Jocasta Nu', 'R4-P17', 'Wat Tambor', 'San Hill', 'Shaak Ti', 'Sly Moore'] \n",
      "\n",
      "Revenge of the Sith \n",
      " ['Luke Skywalker', 'C-3PO', 'R2-D2', 'Darth Vader', 'Leia Organa', 'Owen Lars', 'Beru Whitesun lars', 'Obi-Wan Kenobi', 'Anakin Skywalker', 'Wilhuff Tarkin', 'Chewbacca', 'Yoda', 'Palpatine', 'Nute Gunray', 'Padmé Amidala', 'Ayla Secura', 'Mace Windu', 'Ki-Adi-Mundi', 'Kit Fisto', 'Eeth Koth', 'Adi Gallia', 'Saesee Tiin', 'Plo Koon', 'Poggle the Lesser', 'Luminara Unduli', 'Dooku', 'Bail Prestor Organa', 'R4-P17', 'Shaak Ti', 'Grievous', 'Tarfful', 'Raymus Antilles', 'Sly Moore', 'Tion Medon'] \n",
      "\n"
     ]
    }
   ],
   "source": [
    "#creating a movie dictionary with movie name and characters\n",
    "movies = {}\n",
    "for film in films:\n",
    "    movies[film[\"fields\"][\"title\"]] = [characters[character][\"name\"] for character in film[\"fields\"][\"characters\"]]\n",
    "    \n",
    "for i in movies:\n",
    "    print (i, '\\n', movies[i],'\\n')\n",
    "    "
   ]
  },
  {
   "cell_type": "code",
   "execution_count": 11,
   "metadata": {},
   "outputs": [],
   "source": [
    "#Creating the node data to create the graph\n",
    "chars = [\"Boba Fett\", \"Yoda\", \"Jabba Desilijic Tiure\", \"Darth Vader\", \"Obi-Wan Kenobi\",\n",
    "         \"Beru Whitesun lars\", \"Mon Mothma\"]\n",
    "\n",
    "node_data = []\n",
    "char_data = {}\n",
    "for char_name in chars:\n",
    "    for movie_name in movies:\n",
    "        if char_name in movies[movie_name]:\n",
    "            if char_name in char_data:\n",
    "                char_data[char_name].append(movie_name)\n",
    "            else:\n",
    "                char_data[char_name] = [movie_name]\n",
    "\n",
    "for i in char_data:\n",
    "    node_data.append({\"label\":i, \"media\": char_data[i]})"
   ]
  },
  {
   "cell_type": "code",
   "execution_count": 13,
   "metadata": {},
   "outputs": [
    {
     "data": {
      "application/vnd.jupyter.widget-view+json": {
       "model_id": "e6b289fcffc746a18d1e3bc99b206b7f",
       "version_major": 2,
       "version_minor": 0
      },
      "text/plain": [
       "Figure(fig_margin={'top': 60, 'bottom': 60, 'left': 60, 'right': 60}, layout=Layout(min_width='125px'), marks=…"
      ]
     },
     "metadata": {},
     "output_type": "display_data"
    },
    {
     "name": "stdout",
     "output_type": "stream",
     "text": [
      "Boba Fett - The Empire Strikes Back, Return of the Jedi, Attack of the Clones\n"
     ]
    }
   ],
   "source": [
    "#creating the link data to create the graph\n",
    "#creatin a label to display the character that is selected\n",
    "#using undirected graph since the arrows doesnt make sense in this graph\n",
    "name1 = []\n",
    "name2 = []\n",
    "link_data = []\n",
    "for film in films:\n",
    "   film_chars = film[\"fields\"][\"characters\"]\n",
    "   for character in film_chars:\n",
    "       name1 = characters[character][\"name\"]\n",
    "       if name1 not in chars: continue\n",
    "       for character in film_chars:\n",
    "           name2 = characters[character][\"name\"]\n",
    "           if name2 not in chars: continue\n",
    "           link_data.append({'source': chars.index(name1), 'target': chars.index(name2)})\n",
    "\n",
    "\n",
    "tooltip = bqplot.Tooltip(fields = [\"label\", \"media\"])\n",
    "graph = bqplot.Graph(node_data=node_data, link_data=link_data, tooltip = tooltip,directed= False\n",
    "                   )\n",
    "\n",
    "fig = bqplot.Figure(marks = [graph])\n",
    "display(fig)\n",
    "\n",
    "def lblcharmedia(obj, element):\n",
    "    charac=str(element['data']['label'])\n",
    "    media =str (\", \".join(element['data']['media']))\n",
    "    #final_lbl=(charmedia),'-',(m_name)\n",
    "    print (charac,'-',media)\n",
    "\n",
    "graph.on_element_click(lblcharmedia)"
   ]
  },
  {
   "cell_type": "code",
   "execution_count": null,
   "metadata": {},
   "outputs": [],
   "source": []
  }
 ],
 "metadata": {
  "kernelspec": {
   "display_name": "Environment (conda_is590dv-default)",
   "language": "python",
   "name": "conda_is590dv-default"
  },
  "language_info": {
   "codemirror_mode": {
    "name": "ipython",
    "version": 3
   },
   "file_extension": ".py",
   "mimetype": "text/x-python",
   "name": "python",
   "nbconvert_exporter": "python",
   "pygments_lexer": "ipython3",
   "version": "3.6.6"
  },
  "widgets": {
   "application/vnd.jupyter.widget-state+json": {
    "state": {
     "18a46bf9854942218d8729aac0169973": {
      "model_module": "@jupyter-widgets/base",
      "model_module_version": "1.1.0",
      "model_name": "LayoutModel",
      "state": {
       "min_width": "125px"
      }
     },
     "18b3c8315cff4720a3de5bf0490f9e80": {
      "model_module": "bqplot",
      "model_module_version": "^0.4.1",
      "model_name": "LinearScaleModel",
      "state": {
       "_model_module_version": "^0.4.1",
       "_view_module_version": "^0.4.1",
       "allow_padding": false,
       "max": 1,
       "min": 0,
       "stabilized": false
      }
     },
     "39e9068aaea54c8e83f427b0588e3371": {
      "model_module": "bqplot",
      "model_module_version": "^0.4.1",
      "model_name": "TooltipModel",
      "state": {
       "_model_module_version": "^0.4.1",
       "_view_module_version": "^0.4.1",
       "fields": [
        "label",
        "media"
       ],
       "layout": "IPY_MODEL_b5ae582b67224b02b1fd1141f92214df"
      }
     },
     "4ce198f8d74f4210af22f9bc6af9fc33": {
      "model_module": "@jupyter-widgets/base",
      "model_module_version": "1.1.0",
      "model_name": "LayoutModel",
      "state": {}
     },
     "6e994b51491d406097181081c60f427d": {
      "model_module": "bqplot",
      "model_module_version": "^0.4.1",
      "model_name": "GraphModel",
      "state": {
       "_model_module": "bqplot",
       "_model_module_version": "^0.4.1",
       "_view_count": null,
       "_view_module": "bqplot",
       "_view_module_version": "^0.4.1",
       "apply_clip": true,
       "charge": -600,
       "color": {
        "type": null,
        "values": null
       },
       "colors": [
        "#1f77b4",
        "#ff7f0e",
        "#2ca02c",
        "#d62728",
        "#9467bd",
        "#8c564b",
        "#e377c2",
        "#7f7f7f",
        "#bcbd22",
        "#17becf"
       ],
       "directed": false,
       "display_legend": false,
       "enable_hover": true,
       "highlight_links": true,
       "hovered_style": {},
       "interactions": {
        "click": "select",
        "hover": "tooltip"
       },
       "labels": [],
       "link_color": {
        "type": "float",
        "values": []
       },
       "link_data": [
        {
         "source": {
          "index": 3,
          "label": "Darth Vader",
          "label_display": "center",
          "media": [
           "A New Hope",
           "The Empire Strikes Back",
           "Return of the Jedi",
           "Revenge of the Sith"
          ],
          "px": 415.91620418123887,
          "py": 270.1791043549457,
          "shape": "circle",
          "shape_attrs": {
           "r": 15
          },
          "value": null,
          "weight": 36,
          "x": 416.0314672740903,
          "y": 270.22545001153503
         },
         "target": {
          "index": 3,
          "label": "Darth Vader",
          "label_display": "center",
          "media": [
           "A New Hope",
           "The Empire Strikes Back",
           "Return of the Jedi",
           "Revenge of the Sith"
          ],
          "px": 415.91620418123887,
          "py": 270.1791043549457,
          "shape": "circle",
          "shape_attrs": {
           "r": 15
          },
          "value": null,
          "weight": 36,
          "x": 416.0314672740903,
          "y": 270.22545001153503
         }
        },
        {
         "source": {
          "index": 3,
          "label": "Darth Vader",
          "label_display": "center",
          "media": [
           "A New Hope",
           "The Empire Strikes Back",
           "Return of the Jedi",
           "Revenge of the Sith"
          ],
          "px": 415.91620418123887,
          "py": 270.1791043549457,
          "shape": "circle",
          "shape_attrs": {
           "r": 15
          },
          "value": null,
          "weight": 36,
          "x": 416.0314672740903,
          "y": 270.22545001153503
         },
         "target": {
          "index": 5,
          "label": "Beru Whitesun lars",
          "label_display": "center",
          "media": [
           "A New Hope",
           "Attack of the Clones",
           "Revenge of the Sith"
          ],
          "px": 381.01812215625176,
          "py": 323.39363561033457,
          "shape": "circle",
          "shape_attrs": {
           "r": 15
          },
          "value": null,
          "weight": 24,
          "x": 381.04236167350064,
          "y": 323.5324776320964
         }
        },
        {
         "source": {
          "index": 3,
          "label": "Darth Vader",
          "label_display": "center",
          "media": [
           "A New Hope",
           "The Empire Strikes Back",
           "Return of the Jedi",
           "Revenge of the Sith"
          ],
          "px": 415.91620418123887,
          "py": 270.1791043549457,
          "shape": "circle",
          "shape_attrs": {
           "r": 15
          },
          "value": null,
          "weight": 36,
          "x": 416.0314672740903,
          "y": 270.22545001153503
         },
         "target": {
          "index": 4,
          "label": "Obi-Wan Kenobi",
          "label_display": "center",
          "media": [
           "A New Hope",
           "The Empire Strikes Back",
           "Return of the Jedi",
           "The Phantom Menace",
           "Attack of the Clones",
           "Revenge of the Sith"
          ],
          "px": 320.170166111405,
          "py": 277.57646187084174,
          "shape": "circle",
          "shape_attrs": {
           "r": 15
          },
          "value": null,
          "weight": 50,
          "x": 320.1350306605256,
          "y": 277.65979460302145
         }
        },
        {
         "source": {
          "index": 3,
          "label": "Darth Vader",
          "label_display": "center",
          "media": [
           "A New Hope",
           "The Empire Strikes Back",
           "Return of the Jedi",
           "Revenge of the Sith"
          ],
          "px": 415.91620418123887,
          "py": 270.1791043549457,
          "shape": "circle",
          "shape_attrs": {
           "r": 15
          },
          "value": null,
          "weight": 36,
          "x": 416.0314672740903,
          "y": 270.22545001153503
         },
         "target": {
          "index": 2,
          "label": "Jabba Desilijic Tiure",
          "label_display": "center",
          "media": [
           "A New Hope",
           "Return of the Jedi",
           "The Phantom Menace"
          ],
          "px": 344.9077127328109,
          "py": 178.410067370591,
          "shape": "circle",
          "shape_attrs": {
           "r": 15
          },
          "value": null,
          "weight": 26,
          "x": 344.9418029249622,
          "y": 178.28702993954698
         }
        },
        {
         "source": {
          "index": 5,
          "label": "Beru Whitesun lars",
          "label_display": "center",
          "media": [
           "A New Hope",
           "Attack of the Clones",
           "Revenge of the Sith"
          ],
          "px": 381.01812215625176,
          "py": 323.39363561033457,
          "shape": "circle",
          "shape_attrs": {
           "r": 15
          },
          "value": null,
          "weight": 24,
          "x": 381.04236167350064,
          "y": 323.5324776320964
         },
         "target": {
          "index": 3,
          "label": "Darth Vader",
          "label_display": "center",
          "media": [
           "A New Hope",
           "The Empire Strikes Back",
           "Return of the Jedi",
           "Revenge of the Sith"
          ],
          "px": 415.91620418123887,
          "py": 270.1791043549457,
          "shape": "circle",
          "shape_attrs": {
           "r": 15
          },
          "value": null,
          "weight": 36,
          "x": 416.0314672740903,
          "y": 270.22545001153503
         }
        },
        {
         "source": {
          "index": 5,
          "label": "Beru Whitesun lars",
          "label_display": "center",
          "media": [
           "A New Hope",
           "Attack of the Clones",
           "Revenge of the Sith"
          ],
          "px": 381.01812215625176,
          "py": 323.39363561033457,
          "shape": "circle",
          "shape_attrs": {
           "r": 15
          },
          "value": null,
          "weight": 24,
          "x": 381.04236167350064,
          "y": 323.5324776320964
         },
         "target": {
          "index": 5,
          "label": "Beru Whitesun lars",
          "label_display": "center",
          "media": [
           "A New Hope",
           "Attack of the Clones",
           "Revenge of the Sith"
          ],
          "px": 381.01812215625176,
          "py": 323.39363561033457,
          "shape": "circle",
          "shape_attrs": {
           "r": 15
          },
          "value": null,
          "weight": 24,
          "x": 381.04236167350064,
          "y": 323.5324776320964
         }
        },
        {
         "source": {
          "index": 5,
          "label": "Beru Whitesun lars",
          "label_display": "center",
          "media": [
           "A New Hope",
           "Attack of the Clones",
           "Revenge of the Sith"
          ],
          "px": 381.01812215625176,
          "py": 323.39363561033457,
          "shape": "circle",
          "shape_attrs": {
           "r": 15
          },
          "value": null,
          "weight": 24,
          "x": 381.04236167350064,
          "y": 323.5324776320964
         },
         "target": {
          "index": 4,
          "label": "Obi-Wan Kenobi",
          "label_display": "center",
          "media": [
           "A New Hope",
           "The Empire Strikes Back",
           "Return of the Jedi",
           "The Phantom Menace",
           "Attack of the Clones",
           "Revenge of the Sith"
          ],
          "px": 320.170166111405,
          "py": 277.57646187084174,
          "shape": "circle",
          "shape_attrs": {
           "r": 15
          },
          "value": null,
          "weight": 50,
          "x": 320.1350306605256,
          "y": 277.65979460302145
         }
        },
        {
         "source": {
          "index": 5,
          "label": "Beru Whitesun lars",
          "label_display": "center",
          "media": [
           "A New Hope",
           "Attack of the Clones",
           "Revenge of the Sith"
          ],
          "px": 381.01812215625176,
          "py": 323.39363561033457,
          "shape": "circle",
          "shape_attrs": {
           "r": 15
          },
          "value": null,
          "weight": 24,
          "x": 381.04236167350064,
          "y": 323.5324776320964
         },
         "target": {
          "index": 2,
          "label": "Jabba Desilijic Tiure",
          "label_display": "center",
          "media": [
           "A New Hope",
           "Return of the Jedi",
           "The Phantom Menace"
          ],
          "px": 344.9077127328109,
          "py": 178.410067370591,
          "shape": "circle",
          "shape_attrs": {
           "r": 15
          },
          "value": null,
          "weight": 26,
          "x": 344.9418029249622,
          "y": 178.28702993954698
         }
        },
        {
         "source": {
          "index": 4,
          "label": "Obi-Wan Kenobi",
          "label_display": "center",
          "media": [
           "A New Hope",
           "The Empire Strikes Back",
           "Return of the Jedi",
           "The Phantom Menace",
           "Attack of the Clones",
           "Revenge of the Sith"
          ],
          "px": 320.170166111405,
          "py": 277.57646187084174,
          "shape": "circle",
          "shape_attrs": {
           "r": 15
          },
          "value": null,
          "weight": 50,
          "x": 320.1350306605256,
          "y": 277.65979460302145
         },
         "target": {
          "index": 3,
          "label": "Darth Vader",
          "label_display": "center",
          "media": [
           "A New Hope",
           "The Empire Strikes Back",
           "Return of the Jedi",
           "Revenge of the Sith"
          ],
          "px": 415.91620418123887,
          "py": 270.1791043549457,
          "shape": "circle",
          "shape_attrs": {
           "r": 15
          },
          "value": null,
          "weight": 36,
          "x": 416.0314672740903,
          "y": 270.22545001153503
         }
        },
        {
         "source": {
          "index": 4,
          "label": "Obi-Wan Kenobi",
          "label_display": "center",
          "media": [
           "A New Hope",
           "The Empire Strikes Back",
           "Return of the Jedi",
           "The Phantom Menace",
           "Attack of the Clones",
           "Revenge of the Sith"
          ],
          "px": 320.170166111405,
          "py": 277.57646187084174,
          "shape": "circle",
          "shape_attrs": {
           "r": 15
          },
          "value": null,
          "weight": 50,
          "x": 320.1350306605256,
          "y": 277.65979460302145
         },
         "target": {
          "index": 5,
          "label": "Beru Whitesun lars",
          "label_display": "center",
          "media": [
           "A New Hope",
           "Attack of the Clones",
           "Revenge of the Sith"
          ],
          "px": 381.01812215625176,
          "py": 323.39363561033457,
          "shape": "circle",
          "shape_attrs": {
           "r": 15
          },
          "value": null,
          "weight": 24,
          "x": 381.04236167350064,
          "y": 323.5324776320964
         }
        },
        {
         "source": {
          "index": 4,
          "label": "Obi-Wan Kenobi",
          "label_display": "center",
          "media": [
           "A New Hope",
           "The Empire Strikes Back",
           "Return of the Jedi",
           "The Phantom Menace",
           "Attack of the Clones",
           "Revenge of the Sith"
          ],
          "px": 320.170166111405,
          "py": 277.57646187084174,
          "shape": "circle",
          "shape_attrs": {
           "r": 15
          },
          "value": null,
          "weight": 50,
          "x": 320.1350306605256,
          "y": 277.65979460302145
         },
         "target": {
          "index": 4,
          "label": "Obi-Wan Kenobi",
          "label_display": "center",
          "media": [
           "A New Hope",
           "The Empire Strikes Back",
           "Return of the Jedi",
           "The Phantom Menace",
           "Attack of the Clones",
           "Revenge of the Sith"
          ],
          "px": 320.170166111405,
          "py": 277.57646187084174,
          "shape": "circle",
          "shape_attrs": {
           "r": 15
          },
          "value": null,
          "weight": 50,
          "x": 320.1350306605256,
          "y": 277.65979460302145
         }
        },
        {
         "source": {
          "index": 4,
          "label": "Obi-Wan Kenobi",
          "label_display": "center",
          "media": [
           "A New Hope",
           "The Empire Strikes Back",
           "Return of the Jedi",
           "The Phantom Menace",
           "Attack of the Clones",
           "Revenge of the Sith"
          ],
          "px": 320.170166111405,
          "py": 277.57646187084174,
          "shape": "circle",
          "shape_attrs": {
           "r": 15
          },
          "value": null,
          "weight": 50,
          "x": 320.1350306605256,
          "y": 277.65979460302145
         },
         "target": {
          "index": 2,
          "label": "Jabba Desilijic Tiure",
          "label_display": "center",
          "media": [
           "A New Hope",
           "Return of the Jedi",
           "The Phantom Menace"
          ],
          "px": 344.9077127328109,
          "py": 178.410067370591,
          "shape": "circle",
          "shape_attrs": {
           "r": 15
          },
          "value": null,
          "weight": 26,
          "x": 344.9418029249622,
          "y": 178.28702993954698
         }
        },
        {
         "source": {
          "index": 2,
          "label": "Jabba Desilijic Tiure",
          "label_display": "center",
          "media": [
           "A New Hope",
           "Return of the Jedi",
           "The Phantom Menace"
          ],
          "px": 344.9077127328109,
          "py": 178.410067370591,
          "shape": "circle",
          "shape_attrs": {
           "r": 15
          },
          "value": null,
          "weight": 26,
          "x": 344.9418029249622,
          "y": 178.28702993954698
         },
         "target": {
          "index": 3,
          "label": "Darth Vader",
          "label_display": "center",
          "media": [
           "A New Hope",
           "The Empire Strikes Back",
           "Return of the Jedi",
           "Revenge of the Sith"
          ],
          "px": 415.91620418123887,
          "py": 270.1791043549457,
          "shape": "circle",
          "shape_attrs": {
           "r": 15
          },
          "value": null,
          "weight": 36,
          "x": 416.0314672740903,
          "y": 270.22545001153503
         }
        },
        {
         "source": {
          "index": 2,
          "label": "Jabba Desilijic Tiure",
          "label_display": "center",
          "media": [
           "A New Hope",
           "Return of the Jedi",
           "The Phantom Menace"
          ],
          "px": 344.9077127328109,
          "py": 178.410067370591,
          "shape": "circle",
          "shape_attrs": {
           "r": 15
          },
          "value": null,
          "weight": 26,
          "x": 344.9418029249622,
          "y": 178.28702993954698
         },
         "target": {
          "index": 5,
          "label": "Beru Whitesun lars",
          "label_display": "center",
          "media": [
           "A New Hope",
           "Attack of the Clones",
           "Revenge of the Sith"
          ],
          "px": 381.01812215625176,
          "py": 323.39363561033457,
          "shape": "circle",
          "shape_attrs": {
           "r": 15
          },
          "value": null,
          "weight": 24,
          "x": 381.04236167350064,
          "y": 323.5324776320964
         }
        },
        {
         "source": {
          "index": 2,
          "label": "Jabba Desilijic Tiure",
          "label_display": "center",
          "media": [
           "A New Hope",
           "Return of the Jedi",
           "The Phantom Menace"
          ],
          "px": 344.9077127328109,
          "py": 178.410067370591,
          "shape": "circle",
          "shape_attrs": {
           "r": 15
          },
          "value": null,
          "weight": 26,
          "x": 344.9418029249622,
          "y": 178.28702993954698
         },
         "target": {
          "index": 4,
          "label": "Obi-Wan Kenobi",
          "label_display": "center",
          "media": [
           "A New Hope",
           "The Empire Strikes Back",
           "Return of the Jedi",
           "The Phantom Menace",
           "Attack of the Clones",
           "Revenge of the Sith"
          ],
          "px": 320.170166111405,
          "py": 277.57646187084174,
          "shape": "circle",
          "shape_attrs": {
           "r": 15
          },
          "value": null,
          "weight": 50,
          "x": 320.1350306605256,
          "y": 277.65979460302145
         }
        },
        {
         "source": {
          "index": 2,
          "label": "Jabba Desilijic Tiure",
          "label_display": "center",
          "media": [
           "A New Hope",
           "Return of the Jedi",
           "The Phantom Menace"
          ],
          "px": 344.9077127328109,
          "py": 178.410067370591,
          "shape": "circle",
          "shape_attrs": {
           "r": 15
          },
          "value": null,
          "weight": 26,
          "x": 344.9418029249622,
          "y": 178.28702993954698
         },
         "target": {
          "index": 2,
          "label": "Jabba Desilijic Tiure",
          "label_display": "center",
          "media": [
           "A New Hope",
           "Return of the Jedi",
           "The Phantom Menace"
          ],
          "px": 344.9077127328109,
          "py": 178.410067370591,
          "shape": "circle",
          "shape_attrs": {
           "r": 15
          },
          "value": null,
          "weight": 26,
          "x": 344.9418029249622,
          "y": 178.28702993954698
         }
        },
        {
         "source": {
          "index": 3,
          "label": "Darth Vader",
          "label_display": "center",
          "media": [
           "A New Hope",
           "The Empire Strikes Back",
           "Return of the Jedi",
           "Revenge of the Sith"
          ],
          "px": 415.91620418123887,
          "py": 270.1791043549457,
          "shape": "circle",
          "shape_attrs": {
           "r": 15
          },
          "value": null,
          "weight": 36,
          "x": 416.0314672740903,
          "y": 270.22545001153503
         },
         "target": {
          "index": 3,
          "label": "Darth Vader",
          "label_display": "center",
          "media": [
           "A New Hope",
           "The Empire Strikes Back",
           "Return of the Jedi",
           "Revenge of the Sith"
          ],
          "px": 415.91620418123887,
          "py": 270.1791043549457,
          "shape": "circle",
          "shape_attrs": {
           "r": 15
          },
          "value": null,
          "weight": 36,
          "x": 416.0314672740903,
          "y": 270.22545001153503
         }
        },
        {
         "source": {
          "index": 3,
          "label": "Darth Vader",
          "label_display": "center",
          "media": [
           "A New Hope",
           "The Empire Strikes Back",
           "Return of the Jedi",
           "Revenge of the Sith"
          ],
          "px": 415.91620418123887,
          "py": 270.1791043549457,
          "shape": "circle",
          "shape_attrs": {
           "r": 15
          },
          "value": null,
          "weight": 36,
          "x": 416.0314672740903,
          "y": 270.22545001153503
         },
         "target": {
          "index": 4,
          "label": "Obi-Wan Kenobi",
          "label_display": "center",
          "media": [
           "A New Hope",
           "The Empire Strikes Back",
           "Return of the Jedi",
           "The Phantom Menace",
           "Attack of the Clones",
           "Revenge of the Sith"
          ],
          "px": 320.170166111405,
          "py": 277.57646187084174,
          "shape": "circle",
          "shape_attrs": {
           "r": 15
          },
          "value": null,
          "weight": 50,
          "x": 320.1350306605256,
          "y": 277.65979460302145
         }
        },
        {
         "source": {
          "index": 3,
          "label": "Darth Vader",
          "label_display": "center",
          "media": [
           "A New Hope",
           "The Empire Strikes Back",
           "Return of the Jedi",
           "Revenge of the Sith"
          ],
          "px": 415.91620418123887,
          "py": 270.1791043549457,
          "shape": "circle",
          "shape_attrs": {
           "r": 15
          },
          "value": null,
          "weight": 36,
          "x": 416.0314672740903,
          "y": 270.22545001153503
         },
         "target": {
          "index": 1,
          "label": "Yoda",
          "label_display": "center",
          "media": [
           "The Empire Strikes Back",
           "Return of the Jedi",
           "The Phantom Menace",
           "Attack of the Clones",
           "Revenge of the Sith"
          ],
          "px": 401.0004374853167,
          "py": 204.00609604719617,
          "shape": "circle",
          "shape_attrs": {
           "r": 15
          },
          "value": null,
          "weight": 42,
          "x": 401.11364336614804,
          "y": 203.9373978504709
         }
        },
        {
         "source": {
          "index": 3,
          "label": "Darth Vader",
          "label_display": "center",
          "media": [
           "A New Hope",
           "The Empire Strikes Back",
           "Return of the Jedi",
           "Revenge of the Sith"
          ],
          "px": 415.91620418123887,
          "py": 270.1791043549457,
          "shape": "circle",
          "shape_attrs": {
           "r": 15
          },
          "value": null,
          "weight": 36,
          "x": 416.0314672740903,
          "y": 270.22545001153503
         },
         "target": {
          "fixed": 0,
          "index": 0,
          "label": "Boba Fett",
          "label_display": "center",
          "media": [
           "The Empire Strikes Back",
           "Return of the Jedi",
           "Attack of the Clones"
          ],
          "px": 305.57269334902554,
          "py": 197.22779085280817,
          "shape": "circle",
          "shape_attrs": {
           "r": 15
          },
          "value": null,
          "weight": 28,
          "x": 305.4836019800392,
          "y": 197.15264418061838
         }
        },
        {
         "source": {
          "index": 4,
          "label": "Obi-Wan Kenobi",
          "label_display": "center",
          "media": [
           "A New Hope",
           "The Empire Strikes Back",
           "Return of the Jedi",
           "The Phantom Menace",
           "Attack of the Clones",
           "Revenge of the Sith"
          ],
          "px": 320.170166111405,
          "py": 277.57646187084174,
          "shape": "circle",
          "shape_attrs": {
           "r": 15
          },
          "value": null,
          "weight": 50,
          "x": 320.1350306605256,
          "y": 277.65979460302145
         },
         "target": {
          "index": 3,
          "label": "Darth Vader",
          "label_display": "center",
          "media": [
           "A New Hope",
           "The Empire Strikes Back",
           "Return of the Jedi",
           "Revenge of the Sith"
          ],
          "px": 415.91620418123887,
          "py": 270.1791043549457,
          "shape": "circle",
          "shape_attrs": {
           "r": 15
          },
          "value": null,
          "weight": 36,
          "x": 416.0314672740903,
          "y": 270.22545001153503
         }
        },
        {
         "source": {
          "index": 4,
          "label": "Obi-Wan Kenobi",
          "label_display": "center",
          "media": [
           "A New Hope",
           "The Empire Strikes Back",
           "Return of the Jedi",
           "The Phantom Menace",
           "Attack of the Clones",
           "Revenge of the Sith"
          ],
          "px": 320.170166111405,
          "py": 277.57646187084174,
          "shape": "circle",
          "shape_attrs": {
           "r": 15
          },
          "value": null,
          "weight": 50,
          "x": 320.1350306605256,
          "y": 277.65979460302145
         },
         "target": {
          "index": 4,
          "label": "Obi-Wan Kenobi",
          "label_display": "center",
          "media": [
           "A New Hope",
           "The Empire Strikes Back",
           "Return of the Jedi",
           "The Phantom Menace",
           "Attack of the Clones",
           "Revenge of the Sith"
          ],
          "px": 320.170166111405,
          "py": 277.57646187084174,
          "shape": "circle",
          "shape_attrs": {
           "r": 15
          },
          "value": null,
          "weight": 50,
          "x": 320.1350306605256,
          "y": 277.65979460302145
         }
        },
        {
         "source": {
          "index": 4,
          "label": "Obi-Wan Kenobi",
          "label_display": "center",
          "media": [
           "A New Hope",
           "The Empire Strikes Back",
           "Return of the Jedi",
           "The Phantom Menace",
           "Attack of the Clones",
           "Revenge of the Sith"
          ],
          "px": 320.170166111405,
          "py": 277.57646187084174,
          "shape": "circle",
          "shape_attrs": {
           "r": 15
          },
          "value": null,
          "weight": 50,
          "x": 320.1350306605256,
          "y": 277.65979460302145
         },
         "target": {
          "index": 1,
          "label": "Yoda",
          "label_display": "center",
          "media": [
           "The Empire Strikes Back",
           "Return of the Jedi",
           "The Phantom Menace",
           "Attack of the Clones",
           "Revenge of the Sith"
          ],
          "px": 401.0004374853167,
          "py": 204.00609604719617,
          "shape": "circle",
          "shape_attrs": {
           "r": 15
          },
          "value": null,
          "weight": 42,
          "x": 401.11364336614804,
          "y": 203.9373978504709
         }
        },
        {
         "source": {
          "index": 4,
          "label": "Obi-Wan Kenobi",
          "label_display": "center",
          "media": [
           "A New Hope",
           "The Empire Strikes Back",
           "Return of the Jedi",
           "The Phantom Menace",
           "Attack of the Clones",
           "Revenge of the Sith"
          ],
          "px": 320.170166111405,
          "py": 277.57646187084174,
          "shape": "circle",
          "shape_attrs": {
           "r": 15
          },
          "value": null,
          "weight": 50,
          "x": 320.1350306605256,
          "y": 277.65979460302145
         },
         "target": {
          "fixed": 0,
          "index": 0,
          "label": "Boba Fett",
          "label_display": "center",
          "media": [
           "The Empire Strikes Back",
           "Return of the Jedi",
           "Attack of the Clones"
          ],
          "px": 305.57269334902554,
          "py": 197.22779085280817,
          "shape": "circle",
          "shape_attrs": {
           "r": 15
          },
          "value": null,
          "weight": 28,
          "x": 305.4836019800392,
          "y": 197.15264418061838
         }
        },
        {
         "source": {
          "index": 1,
          "label": "Yoda",
          "label_display": "center",
          "media": [
           "The Empire Strikes Back",
           "Return of the Jedi",
           "The Phantom Menace",
           "Attack of the Clones",
           "Revenge of the Sith"
          ],
          "px": 401.0004374853167,
          "py": 204.00609604719617,
          "shape": "circle",
          "shape_attrs": {
           "r": 15
          },
          "value": null,
          "weight": 42,
          "x": 401.11364336614804,
          "y": 203.9373978504709
         },
         "target": {
          "index": 3,
          "label": "Darth Vader",
          "label_display": "center",
          "media": [
           "A New Hope",
           "The Empire Strikes Back",
           "Return of the Jedi",
           "Revenge of the Sith"
          ],
          "px": 415.91620418123887,
          "py": 270.1791043549457,
          "shape": "circle",
          "shape_attrs": {
           "r": 15
          },
          "value": null,
          "weight": 36,
          "x": 416.0314672740903,
          "y": 270.22545001153503
         }
        },
        {
         "source": {
          "index": 1,
          "label": "Yoda",
          "label_display": "center",
          "media": [
           "The Empire Strikes Back",
           "Return of the Jedi",
           "The Phantom Menace",
           "Attack of the Clones",
           "Revenge of the Sith"
          ],
          "px": 401.0004374853167,
          "py": 204.00609604719617,
          "shape": "circle",
          "shape_attrs": {
           "r": 15
          },
          "value": null,
          "weight": 42,
          "x": 401.11364336614804,
          "y": 203.9373978504709
         },
         "target": {
          "index": 4,
          "label": "Obi-Wan Kenobi",
          "label_display": "center",
          "media": [
           "A New Hope",
           "The Empire Strikes Back",
           "Return of the Jedi",
           "The Phantom Menace",
           "Attack of the Clones",
           "Revenge of the Sith"
          ],
          "px": 320.170166111405,
          "py": 277.57646187084174,
          "shape": "circle",
          "shape_attrs": {
           "r": 15
          },
          "value": null,
          "weight": 50,
          "x": 320.1350306605256,
          "y": 277.65979460302145
         }
        },
        {
         "source": {
          "index": 1,
          "label": "Yoda",
          "label_display": "center",
          "media": [
           "The Empire Strikes Back",
           "Return of the Jedi",
           "The Phantom Menace",
           "Attack of the Clones",
           "Revenge of the Sith"
          ],
          "px": 401.0004374853167,
          "py": 204.00609604719617,
          "shape": "circle",
          "shape_attrs": {
           "r": 15
          },
          "value": null,
          "weight": 42,
          "x": 401.11364336614804,
          "y": 203.9373978504709
         },
         "target": {
          "index": 1,
          "label": "Yoda",
          "label_display": "center",
          "media": [
           "The Empire Strikes Back",
           "Return of the Jedi",
           "The Phantom Menace",
           "Attack of the Clones",
           "Revenge of the Sith"
          ],
          "px": 401.0004374853167,
          "py": 204.00609604719617,
          "shape": "circle",
          "shape_attrs": {
           "r": 15
          },
          "value": null,
          "weight": 42,
          "x": 401.11364336614804,
          "y": 203.9373978504709
         }
        },
        {
         "source": {
          "index": 1,
          "label": "Yoda",
          "label_display": "center",
          "media": [
           "The Empire Strikes Back",
           "Return of the Jedi",
           "The Phantom Menace",
           "Attack of the Clones",
           "Revenge of the Sith"
          ],
          "px": 401.0004374853167,
          "py": 204.00609604719617,
          "shape": "circle",
          "shape_attrs": {
           "r": 15
          },
          "value": null,
          "weight": 42,
          "x": 401.11364336614804,
          "y": 203.9373978504709
         },
         "target": {
          "fixed": 0,
          "index": 0,
          "label": "Boba Fett",
          "label_display": "center",
          "media": [
           "The Empire Strikes Back",
           "Return of the Jedi",
           "Attack of the Clones"
          ],
          "px": 305.57269334902554,
          "py": 197.22779085280817,
          "shape": "circle",
          "shape_attrs": {
           "r": 15
          },
          "value": null,
          "weight": 28,
          "x": 305.4836019800392,
          "y": 197.15264418061838
         }
        },
        {
         "source": {
          "fixed": 0,
          "index": 0,
          "label": "Boba Fett",
          "label_display": "center",
          "media": [
           "The Empire Strikes Back",
           "Return of the Jedi",
           "Attack of the Clones"
          ],
          "px": 305.57269334902554,
          "py": 197.22779085280817,
          "shape": "circle",
          "shape_attrs": {
           "r": 15
          },
          "value": null,
          "weight": 28,
          "x": 305.4836019800392,
          "y": 197.15264418061838
         },
         "target": {
          "index": 3,
          "label": "Darth Vader",
          "label_display": "center",
          "media": [
           "A New Hope",
           "The Empire Strikes Back",
           "Return of the Jedi",
           "Revenge of the Sith"
          ],
          "px": 415.91620418123887,
          "py": 270.1791043549457,
          "shape": "circle",
          "shape_attrs": {
           "r": 15
          },
          "value": null,
          "weight": 36,
          "x": 416.0314672740903,
          "y": 270.22545001153503
         }
        },
        {
         "source": {
          "fixed": 0,
          "index": 0,
          "label": "Boba Fett",
          "label_display": "center",
          "media": [
           "The Empire Strikes Back",
           "Return of the Jedi",
           "Attack of the Clones"
          ],
          "px": 305.57269334902554,
          "py": 197.22779085280817,
          "shape": "circle",
          "shape_attrs": {
           "r": 15
          },
          "value": null,
          "weight": 28,
          "x": 305.4836019800392,
          "y": 197.15264418061838
         },
         "target": {
          "index": 4,
          "label": "Obi-Wan Kenobi",
          "label_display": "center",
          "media": [
           "A New Hope",
           "The Empire Strikes Back",
           "Return of the Jedi",
           "The Phantom Menace",
           "Attack of the Clones",
           "Revenge of the Sith"
          ],
          "px": 320.170166111405,
          "py": 277.57646187084174,
          "shape": "circle",
          "shape_attrs": {
           "r": 15
          },
          "value": null,
          "weight": 50,
          "x": 320.1350306605256,
          "y": 277.65979460302145
         }
        },
        {
         "source": {
          "fixed": 0,
          "index": 0,
          "label": "Boba Fett",
          "label_display": "center",
          "media": [
           "The Empire Strikes Back",
           "Return of the Jedi",
           "Attack of the Clones"
          ],
          "px": 305.57269334902554,
          "py": 197.22779085280817,
          "shape": "circle",
          "shape_attrs": {
           "r": 15
          },
          "value": null,
          "weight": 28,
          "x": 305.4836019800392,
          "y": 197.15264418061838
         },
         "target": {
          "index": 1,
          "label": "Yoda",
          "label_display": "center",
          "media": [
           "The Empire Strikes Back",
           "Return of the Jedi",
           "The Phantom Menace",
           "Attack of the Clones",
           "Revenge of the Sith"
          ],
          "px": 401.0004374853167,
          "py": 204.00609604719617,
          "shape": "circle",
          "shape_attrs": {
           "r": 15
          },
          "value": null,
          "weight": 42,
          "x": 401.11364336614804,
          "y": 203.9373978504709
         }
        },
        {
         "source": {
          "fixed": 0,
          "index": 0,
          "label": "Boba Fett",
          "label_display": "center",
          "media": [
           "The Empire Strikes Back",
           "Return of the Jedi",
           "Attack of the Clones"
          ],
          "px": 305.57269334902554,
          "py": 197.22779085280817,
          "shape": "circle",
          "shape_attrs": {
           "r": 15
          },
          "value": null,
          "weight": 28,
          "x": 305.4836019800392,
          "y": 197.15264418061838
         },
         "target": {
          "fixed": 0,
          "index": 0,
          "label": "Boba Fett",
          "label_display": "center",
          "media": [
           "The Empire Strikes Back",
           "Return of the Jedi",
           "Attack of the Clones"
          ],
          "px": 305.57269334902554,
          "py": 197.22779085280817,
          "shape": "circle",
          "shape_attrs": {
           "r": 15
          },
          "value": null,
          "weight": 28,
          "x": 305.4836019800392,
          "y": 197.15264418061838
         }
        },
        {
         "source": {
          "index": 3,
          "label": "Darth Vader",
          "label_display": "center",
          "media": [
           "A New Hope",
           "The Empire Strikes Back",
           "Return of the Jedi",
           "Revenge of the Sith"
          ],
          "px": 415.91620418123887,
          "py": 270.1791043549457,
          "shape": "circle",
          "shape_attrs": {
           "r": 15
          },
          "value": null,
          "weight": 36,
          "x": 416.0314672740903,
          "y": 270.22545001153503
         },
         "target": {
          "index": 3,
          "label": "Darth Vader",
          "label_display": "center",
          "media": [
           "A New Hope",
           "The Empire Strikes Back",
           "Return of the Jedi",
           "Revenge of the Sith"
          ],
          "px": 415.91620418123887,
          "py": 270.1791043549457,
          "shape": "circle",
          "shape_attrs": {
           "r": 15
          },
          "value": null,
          "weight": 36,
          "x": 416.0314672740903,
          "y": 270.22545001153503
         }
        },
        {
         "source": {
          "index": 3,
          "label": "Darth Vader",
          "label_display": "center",
          "media": [
           "A New Hope",
           "The Empire Strikes Back",
           "Return of the Jedi",
           "Revenge of the Sith"
          ],
          "px": 415.91620418123887,
          "py": 270.1791043549457,
          "shape": "circle",
          "shape_attrs": {
           "r": 15
          },
          "value": null,
          "weight": 36,
          "x": 416.0314672740903,
          "y": 270.22545001153503
         },
         "target": {
          "index": 4,
          "label": "Obi-Wan Kenobi",
          "label_display": "center",
          "media": [
           "A New Hope",
           "The Empire Strikes Back",
           "Return of the Jedi",
           "The Phantom Menace",
           "Attack of the Clones",
           "Revenge of the Sith"
          ],
          "px": 320.170166111405,
          "py": 277.57646187084174,
          "shape": "circle",
          "shape_attrs": {
           "r": 15
          },
          "value": null,
          "weight": 50,
          "x": 320.1350306605256,
          "y": 277.65979460302145
         }
        },
        {
         "source": {
          "index": 3,
          "label": "Darth Vader",
          "label_display": "center",
          "media": [
           "A New Hope",
           "The Empire Strikes Back",
           "Return of the Jedi",
           "Revenge of the Sith"
          ],
          "px": 415.91620418123887,
          "py": 270.1791043549457,
          "shape": "circle",
          "shape_attrs": {
           "r": 15
          },
          "value": null,
          "weight": 36,
          "x": 416.0314672740903,
          "y": 270.22545001153503
         },
         "target": {
          "index": 2,
          "label": "Jabba Desilijic Tiure",
          "label_display": "center",
          "media": [
           "A New Hope",
           "Return of the Jedi",
           "The Phantom Menace"
          ],
          "px": 344.9077127328109,
          "py": 178.410067370591,
          "shape": "circle",
          "shape_attrs": {
           "r": 15
          },
          "value": null,
          "weight": 26,
          "x": 344.9418029249622,
          "y": 178.28702993954698
         }
        },
        {
         "source": {
          "index": 3,
          "label": "Darth Vader",
          "label_display": "center",
          "media": [
           "A New Hope",
           "The Empire Strikes Back",
           "Return of the Jedi",
           "Revenge of the Sith"
          ],
          "px": 415.91620418123887,
          "py": 270.1791043549457,
          "shape": "circle",
          "shape_attrs": {
           "r": 15
          },
          "value": null,
          "weight": 36,
          "x": 416.0314672740903,
          "y": 270.22545001153503
         },
         "target": {
          "index": 1,
          "label": "Yoda",
          "label_display": "center",
          "media": [
           "The Empire Strikes Back",
           "Return of the Jedi",
           "The Phantom Menace",
           "Attack of the Clones",
           "Revenge of the Sith"
          ],
          "px": 401.0004374853167,
          "py": 204.00609604719617,
          "shape": "circle",
          "shape_attrs": {
           "r": 15
          },
          "value": null,
          "weight": 42,
          "x": 401.11364336614804,
          "y": 203.9373978504709
         }
        },
        {
         "source": {
          "index": 3,
          "label": "Darth Vader",
          "label_display": "center",
          "media": [
           "A New Hope",
           "The Empire Strikes Back",
           "Return of the Jedi",
           "Revenge of the Sith"
          ],
          "px": 415.91620418123887,
          "py": 270.1791043549457,
          "shape": "circle",
          "shape_attrs": {
           "r": 15
          },
          "value": null,
          "weight": 36,
          "x": 416.0314672740903,
          "y": 270.22545001153503
         },
         "target": {
          "fixed": 0,
          "index": 0,
          "label": "Boba Fett",
          "label_display": "center",
          "media": [
           "The Empire Strikes Back",
           "Return of the Jedi",
           "Attack of the Clones"
          ],
          "px": 305.57269334902554,
          "py": 197.22779085280817,
          "shape": "circle",
          "shape_attrs": {
           "r": 15
          },
          "value": null,
          "weight": 28,
          "x": 305.4836019800392,
          "y": 197.15264418061838
         }
        },
        {
         "source": {
          "index": 3,
          "label": "Darth Vader",
          "label_display": "center",
          "media": [
           "A New Hope",
           "The Empire Strikes Back",
           "Return of the Jedi",
           "Revenge of the Sith"
          ],
          "px": 415.91620418123887,
          "py": 270.1791043549457,
          "shape": "circle",
          "shape_attrs": {
           "r": 15
          },
          "value": null,
          "weight": 36,
          "x": 416.0314672740903,
          "y": 270.22545001153503
         },
         "target": {
          "index": 6,
          "label": "Mon Mothma",
          "label_display": "center",
          "media": [
           "Return of the Jedi"
          ],
          "px": 274.44664807820186,
          "py": 250.89762641363717,
          "shape": "circle",
          "shape_attrs": {
           "r": 15
          },
          "value": null,
          "weight": 12,
          "x": 274.30420723962504,
          "y": 250.91679302676826
         }
        },
        {
         "source": {
          "index": 4,
          "label": "Obi-Wan Kenobi",
          "label_display": "center",
          "media": [
           "A New Hope",
           "The Empire Strikes Back",
           "Return of the Jedi",
           "The Phantom Menace",
           "Attack of the Clones",
           "Revenge of the Sith"
          ],
          "px": 320.170166111405,
          "py": 277.57646187084174,
          "shape": "circle",
          "shape_attrs": {
           "r": 15
          },
          "value": null,
          "weight": 50,
          "x": 320.1350306605256,
          "y": 277.65979460302145
         },
         "target": {
          "index": 3,
          "label": "Darth Vader",
          "label_display": "center",
          "media": [
           "A New Hope",
           "The Empire Strikes Back",
           "Return of the Jedi",
           "Revenge of the Sith"
          ],
          "px": 415.91620418123887,
          "py": 270.1791043549457,
          "shape": "circle",
          "shape_attrs": {
           "r": 15
          },
          "value": null,
          "weight": 36,
          "x": 416.0314672740903,
          "y": 270.22545001153503
         }
        },
        {
         "source": {
          "index": 4,
          "label": "Obi-Wan Kenobi",
          "label_display": "center",
          "media": [
           "A New Hope",
           "The Empire Strikes Back",
           "Return of the Jedi",
           "The Phantom Menace",
           "Attack of the Clones",
           "Revenge of the Sith"
          ],
          "px": 320.170166111405,
          "py": 277.57646187084174,
          "shape": "circle",
          "shape_attrs": {
           "r": 15
          },
          "value": null,
          "weight": 50,
          "x": 320.1350306605256,
          "y": 277.65979460302145
         },
         "target": {
          "index": 4,
          "label": "Obi-Wan Kenobi",
          "label_display": "center",
          "media": [
           "A New Hope",
           "The Empire Strikes Back",
           "Return of the Jedi",
           "The Phantom Menace",
           "Attack of the Clones",
           "Revenge of the Sith"
          ],
          "px": 320.170166111405,
          "py": 277.57646187084174,
          "shape": "circle",
          "shape_attrs": {
           "r": 15
          },
          "value": null,
          "weight": 50,
          "x": 320.1350306605256,
          "y": 277.65979460302145
         }
        },
        {
         "source": {
          "index": 4,
          "label": "Obi-Wan Kenobi",
          "label_display": "center",
          "media": [
           "A New Hope",
           "The Empire Strikes Back",
           "Return of the Jedi",
           "The Phantom Menace",
           "Attack of the Clones",
           "Revenge of the Sith"
          ],
          "px": 320.170166111405,
          "py": 277.57646187084174,
          "shape": "circle",
          "shape_attrs": {
           "r": 15
          },
          "value": null,
          "weight": 50,
          "x": 320.1350306605256,
          "y": 277.65979460302145
         },
         "target": {
          "index": 2,
          "label": "Jabba Desilijic Tiure",
          "label_display": "center",
          "media": [
           "A New Hope",
           "Return of the Jedi",
           "The Phantom Menace"
          ],
          "px": 344.9077127328109,
          "py": 178.410067370591,
          "shape": "circle",
          "shape_attrs": {
           "r": 15
          },
          "value": null,
          "weight": 26,
          "x": 344.9418029249622,
          "y": 178.28702993954698
         }
        },
        {
         "source": {
          "index": 4,
          "label": "Obi-Wan Kenobi",
          "label_display": "center",
          "media": [
           "A New Hope",
           "The Empire Strikes Back",
           "Return of the Jedi",
           "The Phantom Menace",
           "Attack of the Clones",
           "Revenge of the Sith"
          ],
          "px": 320.170166111405,
          "py": 277.57646187084174,
          "shape": "circle",
          "shape_attrs": {
           "r": 15
          },
          "value": null,
          "weight": 50,
          "x": 320.1350306605256,
          "y": 277.65979460302145
         },
         "target": {
          "index": 1,
          "label": "Yoda",
          "label_display": "center",
          "media": [
           "The Empire Strikes Back",
           "Return of the Jedi",
           "The Phantom Menace",
           "Attack of the Clones",
           "Revenge of the Sith"
          ],
          "px": 401.0004374853167,
          "py": 204.00609604719617,
          "shape": "circle",
          "shape_attrs": {
           "r": 15
          },
          "value": null,
          "weight": 42,
          "x": 401.11364336614804,
          "y": 203.9373978504709
         }
        },
        {
         "source": {
          "index": 4,
          "label": "Obi-Wan Kenobi",
          "label_display": "center",
          "media": [
           "A New Hope",
           "The Empire Strikes Back",
           "Return of the Jedi",
           "The Phantom Menace",
           "Attack of the Clones",
           "Revenge of the Sith"
          ],
          "px": 320.170166111405,
          "py": 277.57646187084174,
          "shape": "circle",
          "shape_attrs": {
           "r": 15
          },
          "value": null,
          "weight": 50,
          "x": 320.1350306605256,
          "y": 277.65979460302145
         },
         "target": {
          "fixed": 0,
          "index": 0,
          "label": "Boba Fett",
          "label_display": "center",
          "media": [
           "The Empire Strikes Back",
           "Return of the Jedi",
           "Attack of the Clones"
          ],
          "px": 305.57269334902554,
          "py": 197.22779085280817,
          "shape": "circle",
          "shape_attrs": {
           "r": 15
          },
          "value": null,
          "weight": 28,
          "x": 305.4836019800392,
          "y": 197.15264418061838
         }
        },
        {
         "source": {
          "index": 4,
          "label": "Obi-Wan Kenobi",
          "label_display": "center",
          "media": [
           "A New Hope",
           "The Empire Strikes Back",
           "Return of the Jedi",
           "The Phantom Menace",
           "Attack of the Clones",
           "Revenge of the Sith"
          ],
          "px": 320.170166111405,
          "py": 277.57646187084174,
          "shape": "circle",
          "shape_attrs": {
           "r": 15
          },
          "value": null,
          "weight": 50,
          "x": 320.1350306605256,
          "y": 277.65979460302145
         },
         "target": {
          "index": 6,
          "label": "Mon Mothma",
          "label_display": "center",
          "media": [
           "Return of the Jedi"
          ],
          "px": 274.44664807820186,
          "py": 250.89762641363717,
          "shape": "circle",
          "shape_attrs": {
           "r": 15
          },
          "value": null,
          "weight": 12,
          "x": 274.30420723962504,
          "y": 250.91679302676826
         }
        },
        {
         "source": {
          "index": 2,
          "label": "Jabba Desilijic Tiure",
          "label_display": "center",
          "media": [
           "A New Hope",
           "Return of the Jedi",
           "The Phantom Menace"
          ],
          "px": 344.9077127328109,
          "py": 178.410067370591,
          "shape": "circle",
          "shape_attrs": {
           "r": 15
          },
          "value": null,
          "weight": 26,
          "x": 344.9418029249622,
          "y": 178.28702993954698
         },
         "target": {
          "index": 3,
          "label": "Darth Vader",
          "label_display": "center",
          "media": [
           "A New Hope",
           "The Empire Strikes Back",
           "Return of the Jedi",
           "Revenge of the Sith"
          ],
          "px": 415.91620418123887,
          "py": 270.1791043549457,
          "shape": "circle",
          "shape_attrs": {
           "r": 15
          },
          "value": null,
          "weight": 36,
          "x": 416.0314672740903,
          "y": 270.22545001153503
         }
        },
        {
         "source": {
          "index": 2,
          "label": "Jabba Desilijic Tiure",
          "label_display": "center",
          "media": [
           "A New Hope",
           "Return of the Jedi",
           "The Phantom Menace"
          ],
          "px": 344.9077127328109,
          "py": 178.410067370591,
          "shape": "circle",
          "shape_attrs": {
           "r": 15
          },
          "value": null,
          "weight": 26,
          "x": 344.9418029249622,
          "y": 178.28702993954698
         },
         "target": {
          "index": 4,
          "label": "Obi-Wan Kenobi",
          "label_display": "center",
          "media": [
           "A New Hope",
           "The Empire Strikes Back",
           "Return of the Jedi",
           "The Phantom Menace",
           "Attack of the Clones",
           "Revenge of the Sith"
          ],
          "px": 320.170166111405,
          "py": 277.57646187084174,
          "shape": "circle",
          "shape_attrs": {
           "r": 15
          },
          "value": null,
          "weight": 50,
          "x": 320.1350306605256,
          "y": 277.65979460302145
         }
        },
        {
         "source": {
          "index": 2,
          "label": "Jabba Desilijic Tiure",
          "label_display": "center",
          "media": [
           "A New Hope",
           "Return of the Jedi",
           "The Phantom Menace"
          ],
          "px": 344.9077127328109,
          "py": 178.410067370591,
          "shape": "circle",
          "shape_attrs": {
           "r": 15
          },
          "value": null,
          "weight": 26,
          "x": 344.9418029249622,
          "y": 178.28702993954698
         },
         "target": {
          "index": 2,
          "label": "Jabba Desilijic Tiure",
          "label_display": "center",
          "media": [
           "A New Hope",
           "Return of the Jedi",
           "The Phantom Menace"
          ],
          "px": 344.9077127328109,
          "py": 178.410067370591,
          "shape": "circle",
          "shape_attrs": {
           "r": 15
          },
          "value": null,
          "weight": 26,
          "x": 344.9418029249622,
          "y": 178.28702993954698
         }
        },
        {
         "source": {
          "index": 2,
          "label": "Jabba Desilijic Tiure",
          "label_display": "center",
          "media": [
           "A New Hope",
           "Return of the Jedi",
           "The Phantom Menace"
          ],
          "px": 344.9077127328109,
          "py": 178.410067370591,
          "shape": "circle",
          "shape_attrs": {
           "r": 15
          },
          "value": null,
          "weight": 26,
          "x": 344.9418029249622,
          "y": 178.28702993954698
         },
         "target": {
          "index": 1,
          "label": "Yoda",
          "label_display": "center",
          "media": [
           "The Empire Strikes Back",
           "Return of the Jedi",
           "The Phantom Menace",
           "Attack of the Clones",
           "Revenge of the Sith"
          ],
          "px": 401.0004374853167,
          "py": 204.00609604719617,
          "shape": "circle",
          "shape_attrs": {
           "r": 15
          },
          "value": null,
          "weight": 42,
          "x": 401.11364336614804,
          "y": 203.9373978504709
         }
        },
        {
         "source": {
          "index": 2,
          "label": "Jabba Desilijic Tiure",
          "label_display": "center",
          "media": [
           "A New Hope",
           "Return of the Jedi",
           "The Phantom Menace"
          ],
          "px": 344.9077127328109,
          "py": 178.410067370591,
          "shape": "circle",
          "shape_attrs": {
           "r": 15
          },
          "value": null,
          "weight": 26,
          "x": 344.9418029249622,
          "y": 178.28702993954698
         },
         "target": {
          "fixed": 0,
          "index": 0,
          "label": "Boba Fett",
          "label_display": "center",
          "media": [
           "The Empire Strikes Back",
           "Return of the Jedi",
           "Attack of the Clones"
          ],
          "px": 305.57269334902554,
          "py": 197.22779085280817,
          "shape": "circle",
          "shape_attrs": {
           "r": 15
          },
          "value": null,
          "weight": 28,
          "x": 305.4836019800392,
          "y": 197.15264418061838
         }
        },
        {
         "source": {
          "index": 2,
          "label": "Jabba Desilijic Tiure",
          "label_display": "center",
          "media": [
           "A New Hope",
           "Return of the Jedi",
           "The Phantom Menace"
          ],
          "px": 344.9077127328109,
          "py": 178.410067370591,
          "shape": "circle",
          "shape_attrs": {
           "r": 15
          },
          "value": null,
          "weight": 26,
          "x": 344.9418029249622,
          "y": 178.28702993954698
         },
         "target": {
          "index": 6,
          "label": "Mon Mothma",
          "label_display": "center",
          "media": [
           "Return of the Jedi"
          ],
          "px": 274.44664807820186,
          "py": 250.89762641363717,
          "shape": "circle",
          "shape_attrs": {
           "r": 15
          },
          "value": null,
          "weight": 12,
          "x": 274.30420723962504,
          "y": 250.91679302676826
         }
        },
        {
         "source": {
          "index": 1,
          "label": "Yoda",
          "label_display": "center",
          "media": [
           "The Empire Strikes Back",
           "Return of the Jedi",
           "The Phantom Menace",
           "Attack of the Clones",
           "Revenge of the Sith"
          ],
          "px": 401.0004374853167,
          "py": 204.00609604719617,
          "shape": "circle",
          "shape_attrs": {
           "r": 15
          },
          "value": null,
          "weight": 42,
          "x": 401.11364336614804,
          "y": 203.9373978504709
         },
         "target": {
          "index": 3,
          "label": "Darth Vader",
          "label_display": "center",
          "media": [
           "A New Hope",
           "The Empire Strikes Back",
           "Return of the Jedi",
           "Revenge of the Sith"
          ],
          "px": 415.91620418123887,
          "py": 270.1791043549457,
          "shape": "circle",
          "shape_attrs": {
           "r": 15
          },
          "value": null,
          "weight": 36,
          "x": 416.0314672740903,
          "y": 270.22545001153503
         }
        },
        {
         "source": {
          "index": 1,
          "label": "Yoda",
          "label_display": "center",
          "media": [
           "The Empire Strikes Back",
           "Return of the Jedi",
           "The Phantom Menace",
           "Attack of the Clones",
           "Revenge of the Sith"
          ],
          "px": 401.0004374853167,
          "py": 204.00609604719617,
          "shape": "circle",
          "shape_attrs": {
           "r": 15
          },
          "value": null,
          "weight": 42,
          "x": 401.11364336614804,
          "y": 203.9373978504709
         },
         "target": {
          "index": 4,
          "label": "Obi-Wan Kenobi",
          "label_display": "center",
          "media": [
           "A New Hope",
           "The Empire Strikes Back",
           "Return of the Jedi",
           "The Phantom Menace",
           "Attack of the Clones",
           "Revenge of the Sith"
          ],
          "px": 320.170166111405,
          "py": 277.57646187084174,
          "shape": "circle",
          "shape_attrs": {
           "r": 15
          },
          "value": null,
          "weight": 50,
          "x": 320.1350306605256,
          "y": 277.65979460302145
         }
        },
        {
         "source": {
          "index": 1,
          "label": "Yoda",
          "label_display": "center",
          "media": [
           "The Empire Strikes Back",
           "Return of the Jedi",
           "The Phantom Menace",
           "Attack of the Clones",
           "Revenge of the Sith"
          ],
          "px": 401.0004374853167,
          "py": 204.00609604719617,
          "shape": "circle",
          "shape_attrs": {
           "r": 15
          },
          "value": null,
          "weight": 42,
          "x": 401.11364336614804,
          "y": 203.9373978504709
         },
         "target": {
          "index": 2,
          "label": "Jabba Desilijic Tiure",
          "label_display": "center",
          "media": [
           "A New Hope",
           "Return of the Jedi",
           "The Phantom Menace"
          ],
          "px": 344.9077127328109,
          "py": 178.410067370591,
          "shape": "circle",
          "shape_attrs": {
           "r": 15
          },
          "value": null,
          "weight": 26,
          "x": 344.9418029249622,
          "y": 178.28702993954698
         }
        },
        {
         "source": {
          "index": 1,
          "label": "Yoda",
          "label_display": "center",
          "media": [
           "The Empire Strikes Back",
           "Return of the Jedi",
           "The Phantom Menace",
           "Attack of the Clones",
           "Revenge of the Sith"
          ],
          "px": 401.0004374853167,
          "py": 204.00609604719617,
          "shape": "circle",
          "shape_attrs": {
           "r": 15
          },
          "value": null,
          "weight": 42,
          "x": 401.11364336614804,
          "y": 203.9373978504709
         },
         "target": {
          "index": 1,
          "label": "Yoda",
          "label_display": "center",
          "media": [
           "The Empire Strikes Back",
           "Return of the Jedi",
           "The Phantom Menace",
           "Attack of the Clones",
           "Revenge of the Sith"
          ],
          "px": 401.0004374853167,
          "py": 204.00609604719617,
          "shape": "circle",
          "shape_attrs": {
           "r": 15
          },
          "value": null,
          "weight": 42,
          "x": 401.11364336614804,
          "y": 203.9373978504709
         }
        },
        {
         "source": {
          "index": 1,
          "label": "Yoda",
          "label_display": "center",
          "media": [
           "The Empire Strikes Back",
           "Return of the Jedi",
           "The Phantom Menace",
           "Attack of the Clones",
           "Revenge of the Sith"
          ],
          "px": 401.0004374853167,
          "py": 204.00609604719617,
          "shape": "circle",
          "shape_attrs": {
           "r": 15
          },
          "value": null,
          "weight": 42,
          "x": 401.11364336614804,
          "y": 203.9373978504709
         },
         "target": {
          "fixed": 0,
          "index": 0,
          "label": "Boba Fett",
          "label_display": "center",
          "media": [
           "The Empire Strikes Back",
           "Return of the Jedi",
           "Attack of the Clones"
          ],
          "px": 305.57269334902554,
          "py": 197.22779085280817,
          "shape": "circle",
          "shape_attrs": {
           "r": 15
          },
          "value": null,
          "weight": 28,
          "x": 305.4836019800392,
          "y": 197.15264418061838
         }
        },
        {
         "source": {
          "index": 1,
          "label": "Yoda",
          "label_display": "center",
          "media": [
           "The Empire Strikes Back",
           "Return of the Jedi",
           "The Phantom Menace",
           "Attack of the Clones",
           "Revenge of the Sith"
          ],
          "px": 401.0004374853167,
          "py": 204.00609604719617,
          "shape": "circle",
          "shape_attrs": {
           "r": 15
          },
          "value": null,
          "weight": 42,
          "x": 401.11364336614804,
          "y": 203.9373978504709
         },
         "target": {
          "index": 6,
          "label": "Mon Mothma",
          "label_display": "center",
          "media": [
           "Return of the Jedi"
          ],
          "px": 274.44664807820186,
          "py": 250.89762641363717,
          "shape": "circle",
          "shape_attrs": {
           "r": 15
          },
          "value": null,
          "weight": 12,
          "x": 274.30420723962504,
          "y": 250.91679302676826
         }
        },
        {
         "source": {
          "fixed": 0,
          "index": 0,
          "label": "Boba Fett",
          "label_display": "center",
          "media": [
           "The Empire Strikes Back",
           "Return of the Jedi",
           "Attack of the Clones"
          ],
          "px": 305.57269334902554,
          "py": 197.22779085280817,
          "shape": "circle",
          "shape_attrs": {
           "r": 15
          },
          "value": null,
          "weight": 28,
          "x": 305.4836019800392,
          "y": 197.15264418061838
         },
         "target": {
          "index": 3,
          "label": "Darth Vader",
          "label_display": "center",
          "media": [
           "A New Hope",
           "The Empire Strikes Back",
           "Return of the Jedi",
           "Revenge of the Sith"
          ],
          "px": 415.91620418123887,
          "py": 270.1791043549457,
          "shape": "circle",
          "shape_attrs": {
           "r": 15
          },
          "value": null,
          "weight": 36,
          "x": 416.0314672740903,
          "y": 270.22545001153503
         }
        },
        {
         "source": {
          "fixed": 0,
          "index": 0,
          "label": "Boba Fett",
          "label_display": "center",
          "media": [
           "The Empire Strikes Back",
           "Return of the Jedi",
           "Attack of the Clones"
          ],
          "px": 305.57269334902554,
          "py": 197.22779085280817,
          "shape": "circle",
          "shape_attrs": {
           "r": 15
          },
          "value": null,
          "weight": 28,
          "x": 305.4836019800392,
          "y": 197.15264418061838
         },
         "target": {
          "index": 4,
          "label": "Obi-Wan Kenobi",
          "label_display": "center",
          "media": [
           "A New Hope",
           "The Empire Strikes Back",
           "Return of the Jedi",
           "The Phantom Menace",
           "Attack of the Clones",
           "Revenge of the Sith"
          ],
          "px": 320.170166111405,
          "py": 277.57646187084174,
          "shape": "circle",
          "shape_attrs": {
           "r": 15
          },
          "value": null,
          "weight": 50,
          "x": 320.1350306605256,
          "y": 277.65979460302145
         }
        },
        {
         "source": {
          "fixed": 0,
          "index": 0,
          "label": "Boba Fett",
          "label_display": "center",
          "media": [
           "The Empire Strikes Back",
           "Return of the Jedi",
           "Attack of the Clones"
          ],
          "px": 305.57269334902554,
          "py": 197.22779085280817,
          "shape": "circle",
          "shape_attrs": {
           "r": 15
          },
          "value": null,
          "weight": 28,
          "x": 305.4836019800392,
          "y": 197.15264418061838
         },
         "target": {
          "index": 2,
          "label": "Jabba Desilijic Tiure",
          "label_display": "center",
          "media": [
           "A New Hope",
           "Return of the Jedi",
           "The Phantom Menace"
          ],
          "px": 344.9077127328109,
          "py": 178.410067370591,
          "shape": "circle",
          "shape_attrs": {
           "r": 15
          },
          "value": null,
          "weight": 26,
          "x": 344.9418029249622,
          "y": 178.28702993954698
         }
        },
        {
         "source": {
          "fixed": 0,
          "index": 0,
          "label": "Boba Fett",
          "label_display": "center",
          "media": [
           "The Empire Strikes Back",
           "Return of the Jedi",
           "Attack of the Clones"
          ],
          "px": 305.57269334902554,
          "py": 197.22779085280817,
          "shape": "circle",
          "shape_attrs": {
           "r": 15
          },
          "value": null,
          "weight": 28,
          "x": 305.4836019800392,
          "y": 197.15264418061838
         },
         "target": {
          "index": 1,
          "label": "Yoda",
          "label_display": "center",
          "media": [
           "The Empire Strikes Back",
           "Return of the Jedi",
           "The Phantom Menace",
           "Attack of the Clones",
           "Revenge of the Sith"
          ],
          "px": 401.0004374853167,
          "py": 204.00609604719617,
          "shape": "circle",
          "shape_attrs": {
           "r": 15
          },
          "value": null,
          "weight": 42,
          "x": 401.11364336614804,
          "y": 203.9373978504709
         }
        },
        {
         "source": {
          "fixed": 0,
          "index": 0,
          "label": "Boba Fett",
          "label_display": "center",
          "media": [
           "The Empire Strikes Back",
           "Return of the Jedi",
           "Attack of the Clones"
          ],
          "px": 305.57269334902554,
          "py": 197.22779085280817,
          "shape": "circle",
          "shape_attrs": {
           "r": 15
          },
          "value": null,
          "weight": 28,
          "x": 305.4836019800392,
          "y": 197.15264418061838
         },
         "target": {
          "fixed": 0,
          "index": 0,
          "label": "Boba Fett",
          "label_display": "center",
          "media": [
           "The Empire Strikes Back",
           "Return of the Jedi",
           "Attack of the Clones"
          ],
          "px": 305.57269334902554,
          "py": 197.22779085280817,
          "shape": "circle",
          "shape_attrs": {
           "r": 15
          },
          "value": null,
          "weight": 28,
          "x": 305.4836019800392,
          "y": 197.15264418061838
         }
        },
        {
         "source": {
          "fixed": 0,
          "index": 0,
          "label": "Boba Fett",
          "label_display": "center",
          "media": [
           "The Empire Strikes Back",
           "Return of the Jedi",
           "Attack of the Clones"
          ],
          "px": 305.57269334902554,
          "py": 197.22779085280817,
          "shape": "circle",
          "shape_attrs": {
           "r": 15
          },
          "value": null,
          "weight": 28,
          "x": 305.4836019800392,
          "y": 197.15264418061838
         },
         "target": {
          "index": 6,
          "label": "Mon Mothma",
          "label_display": "center",
          "media": [
           "Return of the Jedi"
          ],
          "px": 274.44664807820186,
          "py": 250.89762641363717,
          "shape": "circle",
          "shape_attrs": {
           "r": 15
          },
          "value": null,
          "weight": 12,
          "x": 274.30420723962504,
          "y": 250.91679302676826
         }
        },
        {
         "source": {
          "index": 6,
          "label": "Mon Mothma",
          "label_display": "center",
          "media": [
           "Return of the Jedi"
          ],
          "px": 274.44664807820186,
          "py": 250.89762641363717,
          "shape": "circle",
          "shape_attrs": {
           "r": 15
          },
          "value": null,
          "weight": 12,
          "x": 274.30420723962504,
          "y": 250.91679302676826
         },
         "target": {
          "index": 3,
          "label": "Darth Vader",
          "label_display": "center",
          "media": [
           "A New Hope",
           "The Empire Strikes Back",
           "Return of the Jedi",
           "Revenge of the Sith"
          ],
          "px": 415.91620418123887,
          "py": 270.1791043549457,
          "shape": "circle",
          "shape_attrs": {
           "r": 15
          },
          "value": null,
          "weight": 36,
          "x": 416.0314672740903,
          "y": 270.22545001153503
         }
        },
        {
         "source": {
          "index": 6,
          "label": "Mon Mothma",
          "label_display": "center",
          "media": [
           "Return of the Jedi"
          ],
          "px": 274.44664807820186,
          "py": 250.89762641363717,
          "shape": "circle",
          "shape_attrs": {
           "r": 15
          },
          "value": null,
          "weight": 12,
          "x": 274.30420723962504,
          "y": 250.91679302676826
         },
         "target": {
          "index": 4,
          "label": "Obi-Wan Kenobi",
          "label_display": "center",
          "media": [
           "A New Hope",
           "The Empire Strikes Back",
           "Return of the Jedi",
           "The Phantom Menace",
           "Attack of the Clones",
           "Revenge of the Sith"
          ],
          "px": 320.170166111405,
          "py": 277.57646187084174,
          "shape": "circle",
          "shape_attrs": {
           "r": 15
          },
          "value": null,
          "weight": 50,
          "x": 320.1350306605256,
          "y": 277.65979460302145
         }
        },
        {
         "source": {
          "index": 6,
          "label": "Mon Mothma",
          "label_display": "center",
          "media": [
           "Return of the Jedi"
          ],
          "px": 274.44664807820186,
          "py": 250.89762641363717,
          "shape": "circle",
          "shape_attrs": {
           "r": 15
          },
          "value": null,
          "weight": 12,
          "x": 274.30420723962504,
          "y": 250.91679302676826
         },
         "target": {
          "index": 2,
          "label": "Jabba Desilijic Tiure",
          "label_display": "center",
          "media": [
           "A New Hope",
           "Return of the Jedi",
           "The Phantom Menace"
          ],
          "px": 344.9077127328109,
          "py": 178.410067370591,
          "shape": "circle",
          "shape_attrs": {
           "r": 15
          },
          "value": null,
          "weight": 26,
          "x": 344.9418029249622,
          "y": 178.28702993954698
         }
        },
        {
         "source": {
          "index": 6,
          "label": "Mon Mothma",
          "label_display": "center",
          "media": [
           "Return of the Jedi"
          ],
          "px": 274.44664807820186,
          "py": 250.89762641363717,
          "shape": "circle",
          "shape_attrs": {
           "r": 15
          },
          "value": null,
          "weight": 12,
          "x": 274.30420723962504,
          "y": 250.91679302676826
         },
         "target": {
          "index": 1,
          "label": "Yoda",
          "label_display": "center",
          "media": [
           "The Empire Strikes Back",
           "Return of the Jedi",
           "The Phantom Menace",
           "Attack of the Clones",
           "Revenge of the Sith"
          ],
          "px": 401.0004374853167,
          "py": 204.00609604719617,
          "shape": "circle",
          "shape_attrs": {
           "r": 15
          },
          "value": null,
          "weight": 42,
          "x": 401.11364336614804,
          "y": 203.9373978504709
         }
        },
        {
         "source": {
          "index": 6,
          "label": "Mon Mothma",
          "label_display": "center",
          "media": [
           "Return of the Jedi"
          ],
          "px": 274.44664807820186,
          "py": 250.89762641363717,
          "shape": "circle",
          "shape_attrs": {
           "r": 15
          },
          "value": null,
          "weight": 12,
          "x": 274.30420723962504,
          "y": 250.91679302676826
         },
         "target": {
          "fixed": 0,
          "index": 0,
          "label": "Boba Fett",
          "label_display": "center",
          "media": [
           "The Empire Strikes Back",
           "Return of the Jedi",
           "Attack of the Clones"
          ],
          "px": 305.57269334902554,
          "py": 197.22779085280817,
          "shape": "circle",
          "shape_attrs": {
           "r": 15
          },
          "value": null,
          "weight": 28,
          "x": 305.4836019800392,
          "y": 197.15264418061838
         }
        },
        {
         "source": {
          "index": 6,
          "label": "Mon Mothma",
          "label_display": "center",
          "media": [
           "Return of the Jedi"
          ],
          "px": 274.44664807820186,
          "py": 250.89762641363717,
          "shape": "circle",
          "shape_attrs": {
           "r": 15
          },
          "value": null,
          "weight": 12,
          "x": 274.30420723962504,
          "y": 250.91679302676826
         },
         "target": {
          "index": 6,
          "label": "Mon Mothma",
          "label_display": "center",
          "media": [
           "Return of the Jedi"
          ],
          "px": 274.44664807820186,
          "py": 250.89762641363717,
          "shape": "circle",
          "shape_attrs": {
           "r": 15
          },
          "value": null,
          "weight": 12,
          "x": 274.30420723962504,
          "y": 250.91679302676826
         }
        },
        {
         "source": {
          "index": 4,
          "label": "Obi-Wan Kenobi",
          "label_display": "center",
          "media": [
           "A New Hope",
           "The Empire Strikes Back",
           "Return of the Jedi",
           "The Phantom Menace",
           "Attack of the Clones",
           "Revenge of the Sith"
          ],
          "px": 320.170166111405,
          "py": 277.57646187084174,
          "shape": "circle",
          "shape_attrs": {
           "r": 15
          },
          "value": null,
          "weight": 50,
          "x": 320.1350306605256,
          "y": 277.65979460302145
         },
         "target": {
          "index": 4,
          "label": "Obi-Wan Kenobi",
          "label_display": "center",
          "media": [
           "A New Hope",
           "The Empire Strikes Back",
           "Return of the Jedi",
           "The Phantom Menace",
           "Attack of the Clones",
           "Revenge of the Sith"
          ],
          "px": 320.170166111405,
          "py": 277.57646187084174,
          "shape": "circle",
          "shape_attrs": {
           "r": 15
          },
          "value": null,
          "weight": 50,
          "x": 320.1350306605256,
          "y": 277.65979460302145
         }
        },
        {
         "source": {
          "index": 4,
          "label": "Obi-Wan Kenobi",
          "label_display": "center",
          "media": [
           "A New Hope",
           "The Empire Strikes Back",
           "Return of the Jedi",
           "The Phantom Menace",
           "Attack of the Clones",
           "Revenge of the Sith"
          ],
          "px": 320.170166111405,
          "py": 277.57646187084174,
          "shape": "circle",
          "shape_attrs": {
           "r": 15
          },
          "value": null,
          "weight": 50,
          "x": 320.1350306605256,
          "y": 277.65979460302145
         },
         "target": {
          "index": 2,
          "label": "Jabba Desilijic Tiure",
          "label_display": "center",
          "media": [
           "A New Hope",
           "Return of the Jedi",
           "The Phantom Menace"
          ],
          "px": 344.9077127328109,
          "py": 178.410067370591,
          "shape": "circle",
          "shape_attrs": {
           "r": 15
          },
          "value": null,
          "weight": 26,
          "x": 344.9418029249622,
          "y": 178.28702993954698
         }
        },
        {
         "source": {
          "index": 4,
          "label": "Obi-Wan Kenobi",
          "label_display": "center",
          "media": [
           "A New Hope",
           "The Empire Strikes Back",
           "Return of the Jedi",
           "The Phantom Menace",
           "Attack of the Clones",
           "Revenge of the Sith"
          ],
          "px": 320.170166111405,
          "py": 277.57646187084174,
          "shape": "circle",
          "shape_attrs": {
           "r": 15
          },
          "value": null,
          "weight": 50,
          "x": 320.1350306605256,
          "y": 277.65979460302145
         },
         "target": {
          "index": 1,
          "label": "Yoda",
          "label_display": "center",
          "media": [
           "The Empire Strikes Back",
           "Return of the Jedi",
           "The Phantom Menace",
           "Attack of the Clones",
           "Revenge of the Sith"
          ],
          "px": 401.0004374853167,
          "py": 204.00609604719617,
          "shape": "circle",
          "shape_attrs": {
           "r": 15
          },
          "value": null,
          "weight": 42,
          "x": 401.11364336614804,
          "y": 203.9373978504709
         }
        },
        {
         "source": {
          "index": 2,
          "label": "Jabba Desilijic Tiure",
          "label_display": "center",
          "media": [
           "A New Hope",
           "Return of the Jedi",
           "The Phantom Menace"
          ],
          "px": 344.9077127328109,
          "py": 178.410067370591,
          "shape": "circle",
          "shape_attrs": {
           "r": 15
          },
          "value": null,
          "weight": 26,
          "x": 344.9418029249622,
          "y": 178.28702993954698
         },
         "target": {
          "index": 4,
          "label": "Obi-Wan Kenobi",
          "label_display": "center",
          "media": [
           "A New Hope",
           "The Empire Strikes Back",
           "Return of the Jedi",
           "The Phantom Menace",
           "Attack of the Clones",
           "Revenge of the Sith"
          ],
          "px": 320.170166111405,
          "py": 277.57646187084174,
          "shape": "circle",
          "shape_attrs": {
           "r": 15
          },
          "value": null,
          "weight": 50,
          "x": 320.1350306605256,
          "y": 277.65979460302145
         }
        },
        {
         "source": {
          "index": 2,
          "label": "Jabba Desilijic Tiure",
          "label_display": "center",
          "media": [
           "A New Hope",
           "Return of the Jedi",
           "The Phantom Menace"
          ],
          "px": 344.9077127328109,
          "py": 178.410067370591,
          "shape": "circle",
          "shape_attrs": {
           "r": 15
          },
          "value": null,
          "weight": 26,
          "x": 344.9418029249622,
          "y": 178.28702993954698
         },
         "target": {
          "index": 2,
          "label": "Jabba Desilijic Tiure",
          "label_display": "center",
          "media": [
           "A New Hope",
           "Return of the Jedi",
           "The Phantom Menace"
          ],
          "px": 344.9077127328109,
          "py": 178.410067370591,
          "shape": "circle",
          "shape_attrs": {
           "r": 15
          },
          "value": null,
          "weight": 26,
          "x": 344.9418029249622,
          "y": 178.28702993954698
         }
        },
        {
         "source": {
          "index": 2,
          "label": "Jabba Desilijic Tiure",
          "label_display": "center",
          "media": [
           "A New Hope",
           "Return of the Jedi",
           "The Phantom Menace"
          ],
          "px": 344.9077127328109,
          "py": 178.410067370591,
          "shape": "circle",
          "shape_attrs": {
           "r": 15
          },
          "value": null,
          "weight": 26,
          "x": 344.9418029249622,
          "y": 178.28702993954698
         },
         "target": {
          "index": 1,
          "label": "Yoda",
          "label_display": "center",
          "media": [
           "The Empire Strikes Back",
           "Return of the Jedi",
           "The Phantom Menace",
           "Attack of the Clones",
           "Revenge of the Sith"
          ],
          "px": 401.0004374853167,
          "py": 204.00609604719617,
          "shape": "circle",
          "shape_attrs": {
           "r": 15
          },
          "value": null,
          "weight": 42,
          "x": 401.11364336614804,
          "y": 203.9373978504709
         }
        },
        {
         "source": {
          "index": 1,
          "label": "Yoda",
          "label_display": "center",
          "media": [
           "The Empire Strikes Back",
           "Return of the Jedi",
           "The Phantom Menace",
           "Attack of the Clones",
           "Revenge of the Sith"
          ],
          "px": 401.0004374853167,
          "py": 204.00609604719617,
          "shape": "circle",
          "shape_attrs": {
           "r": 15
          },
          "value": null,
          "weight": 42,
          "x": 401.11364336614804,
          "y": 203.9373978504709
         },
         "target": {
          "index": 4,
          "label": "Obi-Wan Kenobi",
          "label_display": "center",
          "media": [
           "A New Hope",
           "The Empire Strikes Back",
           "Return of the Jedi",
           "The Phantom Menace",
           "Attack of the Clones",
           "Revenge of the Sith"
          ],
          "px": 320.170166111405,
          "py": 277.57646187084174,
          "shape": "circle",
          "shape_attrs": {
           "r": 15
          },
          "value": null,
          "weight": 50,
          "x": 320.1350306605256,
          "y": 277.65979460302145
         }
        },
        {
         "source": {
          "index": 1,
          "label": "Yoda",
          "label_display": "center",
          "media": [
           "The Empire Strikes Back",
           "Return of the Jedi",
           "The Phantom Menace",
           "Attack of the Clones",
           "Revenge of the Sith"
          ],
          "px": 401.0004374853167,
          "py": 204.00609604719617,
          "shape": "circle",
          "shape_attrs": {
           "r": 15
          },
          "value": null,
          "weight": 42,
          "x": 401.11364336614804,
          "y": 203.9373978504709
         },
         "target": {
          "index": 2,
          "label": "Jabba Desilijic Tiure",
          "label_display": "center",
          "media": [
           "A New Hope",
           "Return of the Jedi",
           "The Phantom Menace"
          ],
          "px": 344.9077127328109,
          "py": 178.410067370591,
          "shape": "circle",
          "shape_attrs": {
           "r": 15
          },
          "value": null,
          "weight": 26,
          "x": 344.9418029249622,
          "y": 178.28702993954698
         }
        },
        {
         "source": {
          "index": 1,
          "label": "Yoda",
          "label_display": "center",
          "media": [
           "The Empire Strikes Back",
           "Return of the Jedi",
           "The Phantom Menace",
           "Attack of the Clones",
           "Revenge of the Sith"
          ],
          "px": 401.0004374853167,
          "py": 204.00609604719617,
          "shape": "circle",
          "shape_attrs": {
           "r": 15
          },
          "value": null,
          "weight": 42,
          "x": 401.11364336614804,
          "y": 203.9373978504709
         },
         "target": {
          "index": 1,
          "label": "Yoda",
          "label_display": "center",
          "media": [
           "The Empire Strikes Back",
           "Return of the Jedi",
           "The Phantom Menace",
           "Attack of the Clones",
           "Revenge of the Sith"
          ],
          "px": 401.0004374853167,
          "py": 204.00609604719617,
          "shape": "circle",
          "shape_attrs": {
           "r": 15
          },
          "value": null,
          "weight": 42,
          "x": 401.11364336614804,
          "y": 203.9373978504709
         }
        },
        {
         "source": {
          "index": 5,
          "label": "Beru Whitesun lars",
          "label_display": "center",
          "media": [
           "A New Hope",
           "Attack of the Clones",
           "Revenge of the Sith"
          ],
          "px": 381.01812215625176,
          "py": 323.39363561033457,
          "shape": "circle",
          "shape_attrs": {
           "r": 15
          },
          "value": null,
          "weight": 24,
          "x": 381.04236167350064,
          "y": 323.5324776320964
         },
         "target": {
          "index": 5,
          "label": "Beru Whitesun lars",
          "label_display": "center",
          "media": [
           "A New Hope",
           "Attack of the Clones",
           "Revenge of the Sith"
          ],
          "px": 381.01812215625176,
          "py": 323.39363561033457,
          "shape": "circle",
          "shape_attrs": {
           "r": 15
          },
          "value": null,
          "weight": 24,
          "x": 381.04236167350064,
          "y": 323.5324776320964
         }
        },
        {
         "source": {
          "index": 5,
          "label": "Beru Whitesun lars",
          "label_display": "center",
          "media": [
           "A New Hope",
           "Attack of the Clones",
           "Revenge of the Sith"
          ],
          "px": 381.01812215625176,
          "py": 323.39363561033457,
          "shape": "circle",
          "shape_attrs": {
           "r": 15
          },
          "value": null,
          "weight": 24,
          "x": 381.04236167350064,
          "y": 323.5324776320964
         },
         "target": {
          "index": 4,
          "label": "Obi-Wan Kenobi",
          "label_display": "center",
          "media": [
           "A New Hope",
           "The Empire Strikes Back",
           "Return of the Jedi",
           "The Phantom Menace",
           "Attack of the Clones",
           "Revenge of the Sith"
          ],
          "px": 320.170166111405,
          "py": 277.57646187084174,
          "shape": "circle",
          "shape_attrs": {
           "r": 15
          },
          "value": null,
          "weight": 50,
          "x": 320.1350306605256,
          "y": 277.65979460302145
         }
        },
        {
         "source": {
          "index": 5,
          "label": "Beru Whitesun lars",
          "label_display": "center",
          "media": [
           "A New Hope",
           "Attack of the Clones",
           "Revenge of the Sith"
          ],
          "px": 381.01812215625176,
          "py": 323.39363561033457,
          "shape": "circle",
          "shape_attrs": {
           "r": 15
          },
          "value": null,
          "weight": 24,
          "x": 381.04236167350064,
          "y": 323.5324776320964
         },
         "target": {
          "index": 1,
          "label": "Yoda",
          "label_display": "center",
          "media": [
           "The Empire Strikes Back",
           "Return of the Jedi",
           "The Phantom Menace",
           "Attack of the Clones",
           "Revenge of the Sith"
          ],
          "px": 401.0004374853167,
          "py": 204.00609604719617,
          "shape": "circle",
          "shape_attrs": {
           "r": 15
          },
          "value": null,
          "weight": 42,
          "x": 401.11364336614804,
          "y": 203.9373978504709
         }
        },
        {
         "source": {
          "index": 5,
          "label": "Beru Whitesun lars",
          "label_display": "center",
          "media": [
           "A New Hope",
           "Attack of the Clones",
           "Revenge of the Sith"
          ],
          "px": 381.01812215625176,
          "py": 323.39363561033457,
          "shape": "circle",
          "shape_attrs": {
           "r": 15
          },
          "value": null,
          "weight": 24,
          "x": 381.04236167350064,
          "y": 323.5324776320964
         },
         "target": {
          "fixed": 0,
          "index": 0,
          "label": "Boba Fett",
          "label_display": "center",
          "media": [
           "The Empire Strikes Back",
           "Return of the Jedi",
           "Attack of the Clones"
          ],
          "px": 305.57269334902554,
          "py": 197.22779085280817,
          "shape": "circle",
          "shape_attrs": {
           "r": 15
          },
          "value": null,
          "weight": 28,
          "x": 305.4836019800392,
          "y": 197.15264418061838
         }
        },
        {
         "source": {
          "index": 4,
          "label": "Obi-Wan Kenobi",
          "label_display": "center",
          "media": [
           "A New Hope",
           "The Empire Strikes Back",
           "Return of the Jedi",
           "The Phantom Menace",
           "Attack of the Clones",
           "Revenge of the Sith"
          ],
          "px": 320.170166111405,
          "py": 277.57646187084174,
          "shape": "circle",
          "shape_attrs": {
           "r": 15
          },
          "value": null,
          "weight": 50,
          "x": 320.1350306605256,
          "y": 277.65979460302145
         },
         "target": {
          "index": 5,
          "label": "Beru Whitesun lars",
          "label_display": "center",
          "media": [
           "A New Hope",
           "Attack of the Clones",
           "Revenge of the Sith"
          ],
          "px": 381.01812215625176,
          "py": 323.39363561033457,
          "shape": "circle",
          "shape_attrs": {
           "r": 15
          },
          "value": null,
          "weight": 24,
          "x": 381.04236167350064,
          "y": 323.5324776320964
         }
        },
        {
         "source": {
          "index": 4,
          "label": "Obi-Wan Kenobi",
          "label_display": "center",
          "media": [
           "A New Hope",
           "The Empire Strikes Back",
           "Return of the Jedi",
           "The Phantom Menace",
           "Attack of the Clones",
           "Revenge of the Sith"
          ],
          "px": 320.170166111405,
          "py": 277.57646187084174,
          "shape": "circle",
          "shape_attrs": {
           "r": 15
          },
          "value": null,
          "weight": 50,
          "x": 320.1350306605256,
          "y": 277.65979460302145
         },
         "target": {
          "index": 4,
          "label": "Obi-Wan Kenobi",
          "label_display": "center",
          "media": [
           "A New Hope",
           "The Empire Strikes Back",
           "Return of the Jedi",
           "The Phantom Menace",
           "Attack of the Clones",
           "Revenge of the Sith"
          ],
          "px": 320.170166111405,
          "py": 277.57646187084174,
          "shape": "circle",
          "shape_attrs": {
           "r": 15
          },
          "value": null,
          "weight": 50,
          "x": 320.1350306605256,
          "y": 277.65979460302145
         }
        },
        {
         "source": {
          "index": 4,
          "label": "Obi-Wan Kenobi",
          "label_display": "center",
          "media": [
           "A New Hope",
           "The Empire Strikes Back",
           "Return of the Jedi",
           "The Phantom Menace",
           "Attack of the Clones",
           "Revenge of the Sith"
          ],
          "px": 320.170166111405,
          "py": 277.57646187084174,
          "shape": "circle",
          "shape_attrs": {
           "r": 15
          },
          "value": null,
          "weight": 50,
          "x": 320.1350306605256,
          "y": 277.65979460302145
         },
         "target": {
          "index": 1,
          "label": "Yoda",
          "label_display": "center",
          "media": [
           "The Empire Strikes Back",
           "Return of the Jedi",
           "The Phantom Menace",
           "Attack of the Clones",
           "Revenge of the Sith"
          ],
          "px": 401.0004374853167,
          "py": 204.00609604719617,
          "shape": "circle",
          "shape_attrs": {
           "r": 15
          },
          "value": null,
          "weight": 42,
          "x": 401.11364336614804,
          "y": 203.9373978504709
         }
        },
        {
         "source": {
          "index": 4,
          "label": "Obi-Wan Kenobi",
          "label_display": "center",
          "media": [
           "A New Hope",
           "The Empire Strikes Back",
           "Return of the Jedi",
           "The Phantom Menace",
           "Attack of the Clones",
           "Revenge of the Sith"
          ],
          "px": 320.170166111405,
          "py": 277.57646187084174,
          "shape": "circle",
          "shape_attrs": {
           "r": 15
          },
          "value": null,
          "weight": 50,
          "x": 320.1350306605256,
          "y": 277.65979460302145
         },
         "target": {
          "fixed": 0,
          "index": 0,
          "label": "Boba Fett",
          "label_display": "center",
          "media": [
           "The Empire Strikes Back",
           "Return of the Jedi",
           "Attack of the Clones"
          ],
          "px": 305.57269334902554,
          "py": 197.22779085280817,
          "shape": "circle",
          "shape_attrs": {
           "r": 15
          },
          "value": null,
          "weight": 28,
          "x": 305.4836019800392,
          "y": 197.15264418061838
         }
        },
        {
         "source": {
          "index": 1,
          "label": "Yoda",
          "label_display": "center",
          "media": [
           "The Empire Strikes Back",
           "Return of the Jedi",
           "The Phantom Menace",
           "Attack of the Clones",
           "Revenge of the Sith"
          ],
          "px": 401.0004374853167,
          "py": 204.00609604719617,
          "shape": "circle",
          "shape_attrs": {
           "r": 15
          },
          "value": null,
          "weight": 42,
          "x": 401.11364336614804,
          "y": 203.9373978504709
         },
         "target": {
          "index": 5,
          "label": "Beru Whitesun lars",
          "label_display": "center",
          "media": [
           "A New Hope",
           "Attack of the Clones",
           "Revenge of the Sith"
          ],
          "px": 381.01812215625176,
          "py": 323.39363561033457,
          "shape": "circle",
          "shape_attrs": {
           "r": 15
          },
          "value": null,
          "weight": 24,
          "x": 381.04236167350064,
          "y": 323.5324776320964
         }
        },
        {
         "source": {
          "index": 1,
          "label": "Yoda",
          "label_display": "center",
          "media": [
           "The Empire Strikes Back",
           "Return of the Jedi",
           "The Phantom Menace",
           "Attack of the Clones",
           "Revenge of the Sith"
          ],
          "px": 401.0004374853167,
          "py": 204.00609604719617,
          "shape": "circle",
          "shape_attrs": {
           "r": 15
          },
          "value": null,
          "weight": 42,
          "x": 401.11364336614804,
          "y": 203.9373978504709
         },
         "target": {
          "index": 4,
          "label": "Obi-Wan Kenobi",
          "label_display": "center",
          "media": [
           "A New Hope",
           "The Empire Strikes Back",
           "Return of the Jedi",
           "The Phantom Menace",
           "Attack of the Clones",
           "Revenge of the Sith"
          ],
          "px": 320.170166111405,
          "py": 277.57646187084174,
          "shape": "circle",
          "shape_attrs": {
           "r": 15
          },
          "value": null,
          "weight": 50,
          "x": 320.1350306605256,
          "y": 277.65979460302145
         }
        },
        {
         "source": {
          "index": 1,
          "label": "Yoda",
          "label_display": "center",
          "media": [
           "The Empire Strikes Back",
           "Return of the Jedi",
           "The Phantom Menace",
           "Attack of the Clones",
           "Revenge of the Sith"
          ],
          "px": 401.0004374853167,
          "py": 204.00609604719617,
          "shape": "circle",
          "shape_attrs": {
           "r": 15
          },
          "value": null,
          "weight": 42,
          "x": 401.11364336614804,
          "y": 203.9373978504709
         },
         "target": {
          "index": 1,
          "label": "Yoda",
          "label_display": "center",
          "media": [
           "The Empire Strikes Back",
           "Return of the Jedi",
           "The Phantom Menace",
           "Attack of the Clones",
           "Revenge of the Sith"
          ],
          "px": 401.0004374853167,
          "py": 204.00609604719617,
          "shape": "circle",
          "shape_attrs": {
           "r": 15
          },
          "value": null,
          "weight": 42,
          "x": 401.11364336614804,
          "y": 203.9373978504709
         }
        },
        {
         "source": {
          "index": 1,
          "label": "Yoda",
          "label_display": "center",
          "media": [
           "The Empire Strikes Back",
           "Return of the Jedi",
           "The Phantom Menace",
           "Attack of the Clones",
           "Revenge of the Sith"
          ],
          "px": 401.0004374853167,
          "py": 204.00609604719617,
          "shape": "circle",
          "shape_attrs": {
           "r": 15
          },
          "value": null,
          "weight": 42,
          "x": 401.11364336614804,
          "y": 203.9373978504709
         },
         "target": {
          "fixed": 0,
          "index": 0,
          "label": "Boba Fett",
          "label_display": "center",
          "media": [
           "The Empire Strikes Back",
           "Return of the Jedi",
           "Attack of the Clones"
          ],
          "px": 305.57269334902554,
          "py": 197.22779085280817,
          "shape": "circle",
          "shape_attrs": {
           "r": 15
          },
          "value": null,
          "weight": 28,
          "x": 305.4836019800392,
          "y": 197.15264418061838
         }
        },
        {
         "source": {
          "fixed": 0,
          "index": 0,
          "label": "Boba Fett",
          "label_display": "center",
          "media": [
           "The Empire Strikes Back",
           "Return of the Jedi",
           "Attack of the Clones"
          ],
          "px": 305.57269334902554,
          "py": 197.22779085280817,
          "shape": "circle",
          "shape_attrs": {
           "r": 15
          },
          "value": null,
          "weight": 28,
          "x": 305.4836019800392,
          "y": 197.15264418061838
         },
         "target": {
          "index": 5,
          "label": "Beru Whitesun lars",
          "label_display": "center",
          "media": [
           "A New Hope",
           "Attack of the Clones",
           "Revenge of the Sith"
          ],
          "px": 381.01812215625176,
          "py": 323.39363561033457,
          "shape": "circle",
          "shape_attrs": {
           "r": 15
          },
          "value": null,
          "weight": 24,
          "x": 381.04236167350064,
          "y": 323.5324776320964
         }
        },
        {
         "source": {
          "fixed": 0,
          "index": 0,
          "label": "Boba Fett",
          "label_display": "center",
          "media": [
           "The Empire Strikes Back",
           "Return of the Jedi",
           "Attack of the Clones"
          ],
          "px": 305.57269334902554,
          "py": 197.22779085280817,
          "shape": "circle",
          "shape_attrs": {
           "r": 15
          },
          "value": null,
          "weight": 28,
          "x": 305.4836019800392,
          "y": 197.15264418061838
         },
         "target": {
          "index": 4,
          "label": "Obi-Wan Kenobi",
          "label_display": "center",
          "media": [
           "A New Hope",
           "The Empire Strikes Back",
           "Return of the Jedi",
           "The Phantom Menace",
           "Attack of the Clones",
           "Revenge of the Sith"
          ],
          "px": 320.170166111405,
          "py": 277.57646187084174,
          "shape": "circle",
          "shape_attrs": {
           "r": 15
          },
          "value": null,
          "weight": 50,
          "x": 320.1350306605256,
          "y": 277.65979460302145
         }
        },
        {
         "source": {
          "fixed": 0,
          "index": 0,
          "label": "Boba Fett",
          "label_display": "center",
          "media": [
           "The Empire Strikes Back",
           "Return of the Jedi",
           "Attack of the Clones"
          ],
          "px": 305.57269334902554,
          "py": 197.22779085280817,
          "shape": "circle",
          "shape_attrs": {
           "r": 15
          },
          "value": null,
          "weight": 28,
          "x": 305.4836019800392,
          "y": 197.15264418061838
         },
         "target": {
          "index": 1,
          "label": "Yoda",
          "label_display": "center",
          "media": [
           "The Empire Strikes Back",
           "Return of the Jedi",
           "The Phantom Menace",
           "Attack of the Clones",
           "Revenge of the Sith"
          ],
          "px": 401.0004374853167,
          "py": 204.00609604719617,
          "shape": "circle",
          "shape_attrs": {
           "r": 15
          },
          "value": null,
          "weight": 42,
          "x": 401.11364336614804,
          "y": 203.9373978504709
         }
        },
        {
         "source": {
          "fixed": 0,
          "index": 0,
          "label": "Boba Fett",
          "label_display": "center",
          "media": [
           "The Empire Strikes Back",
           "Return of the Jedi",
           "Attack of the Clones"
          ],
          "px": 305.57269334902554,
          "py": 197.22779085280817,
          "shape": "circle",
          "shape_attrs": {
           "r": 15
          },
          "value": null,
          "weight": 28,
          "x": 305.4836019800392,
          "y": 197.15264418061838
         },
         "target": {
          "fixed": 0,
          "index": 0,
          "label": "Boba Fett",
          "label_display": "center",
          "media": [
           "The Empire Strikes Back",
           "Return of the Jedi",
           "Attack of the Clones"
          ],
          "px": 305.57269334902554,
          "py": 197.22779085280817,
          "shape": "circle",
          "shape_attrs": {
           "r": 15
          },
          "value": null,
          "weight": 28,
          "x": 305.4836019800392,
          "y": 197.15264418061838
         }
        },
        {
         "source": {
          "index": 3,
          "label": "Darth Vader",
          "label_display": "center",
          "media": [
           "A New Hope",
           "The Empire Strikes Back",
           "Return of the Jedi",
           "Revenge of the Sith"
          ],
          "px": 415.91620418123887,
          "py": 270.1791043549457,
          "shape": "circle",
          "shape_attrs": {
           "r": 15
          },
          "value": null,
          "weight": 36,
          "x": 416.0314672740903,
          "y": 270.22545001153503
         },
         "target": {
          "index": 3,
          "label": "Darth Vader",
          "label_display": "center",
          "media": [
           "A New Hope",
           "The Empire Strikes Back",
           "Return of the Jedi",
           "Revenge of the Sith"
          ],
          "px": 415.91620418123887,
          "py": 270.1791043549457,
          "shape": "circle",
          "shape_attrs": {
           "r": 15
          },
          "value": null,
          "weight": 36,
          "x": 416.0314672740903,
          "y": 270.22545001153503
         }
        },
        {
         "source": {
          "index": 3,
          "label": "Darth Vader",
          "label_display": "center",
          "media": [
           "A New Hope",
           "The Empire Strikes Back",
           "Return of the Jedi",
           "Revenge of the Sith"
          ],
          "px": 415.91620418123887,
          "py": 270.1791043549457,
          "shape": "circle",
          "shape_attrs": {
           "r": 15
          },
          "value": null,
          "weight": 36,
          "x": 416.0314672740903,
          "y": 270.22545001153503
         },
         "target": {
          "index": 5,
          "label": "Beru Whitesun lars",
          "label_display": "center",
          "media": [
           "A New Hope",
           "Attack of the Clones",
           "Revenge of the Sith"
          ],
          "px": 381.01812215625176,
          "py": 323.39363561033457,
          "shape": "circle",
          "shape_attrs": {
           "r": 15
          },
          "value": null,
          "weight": 24,
          "x": 381.04236167350064,
          "y": 323.5324776320964
         }
        },
        {
         "source": {
          "index": 3,
          "label": "Darth Vader",
          "label_display": "center",
          "media": [
           "A New Hope",
           "The Empire Strikes Back",
           "Return of the Jedi",
           "Revenge of the Sith"
          ],
          "px": 415.91620418123887,
          "py": 270.1791043549457,
          "shape": "circle",
          "shape_attrs": {
           "r": 15
          },
          "value": null,
          "weight": 36,
          "x": 416.0314672740903,
          "y": 270.22545001153503
         },
         "target": {
          "index": 4,
          "label": "Obi-Wan Kenobi",
          "label_display": "center",
          "media": [
           "A New Hope",
           "The Empire Strikes Back",
           "Return of the Jedi",
           "The Phantom Menace",
           "Attack of the Clones",
           "Revenge of the Sith"
          ],
          "px": 320.170166111405,
          "py": 277.57646187084174,
          "shape": "circle",
          "shape_attrs": {
           "r": 15
          },
          "value": null,
          "weight": 50,
          "x": 320.1350306605256,
          "y": 277.65979460302145
         }
        },
        {
         "source": {
          "index": 3,
          "label": "Darth Vader",
          "label_display": "center",
          "media": [
           "A New Hope",
           "The Empire Strikes Back",
           "Return of the Jedi",
           "Revenge of the Sith"
          ],
          "px": 415.91620418123887,
          "py": 270.1791043549457,
          "shape": "circle",
          "shape_attrs": {
           "r": 15
          },
          "value": null,
          "weight": 36,
          "x": 416.0314672740903,
          "y": 270.22545001153503
         },
         "target": {
          "index": 1,
          "label": "Yoda",
          "label_display": "center",
          "media": [
           "The Empire Strikes Back",
           "Return of the Jedi",
           "The Phantom Menace",
           "Attack of the Clones",
           "Revenge of the Sith"
          ],
          "px": 401.0004374853167,
          "py": 204.00609604719617,
          "shape": "circle",
          "shape_attrs": {
           "r": 15
          },
          "value": null,
          "weight": 42,
          "x": 401.11364336614804,
          "y": 203.9373978504709
         }
        },
        {
         "source": {
          "index": 5,
          "label": "Beru Whitesun lars",
          "label_display": "center",
          "media": [
           "A New Hope",
           "Attack of the Clones",
           "Revenge of the Sith"
          ],
          "px": 381.01812215625176,
          "py": 323.39363561033457,
          "shape": "circle",
          "shape_attrs": {
           "r": 15
          },
          "value": null,
          "weight": 24,
          "x": 381.04236167350064,
          "y": 323.5324776320964
         },
         "target": {
          "index": 3,
          "label": "Darth Vader",
          "label_display": "center",
          "media": [
           "A New Hope",
           "The Empire Strikes Back",
           "Return of the Jedi",
           "Revenge of the Sith"
          ],
          "px": 415.91620418123887,
          "py": 270.1791043549457,
          "shape": "circle",
          "shape_attrs": {
           "r": 15
          },
          "value": null,
          "weight": 36,
          "x": 416.0314672740903,
          "y": 270.22545001153503
         }
        },
        {
         "source": {
          "index": 5,
          "label": "Beru Whitesun lars",
          "label_display": "center",
          "media": [
           "A New Hope",
           "Attack of the Clones",
           "Revenge of the Sith"
          ],
          "px": 381.01812215625176,
          "py": 323.39363561033457,
          "shape": "circle",
          "shape_attrs": {
           "r": 15
          },
          "value": null,
          "weight": 24,
          "x": 381.04236167350064,
          "y": 323.5324776320964
         },
         "target": {
          "index": 5,
          "label": "Beru Whitesun lars",
          "label_display": "center",
          "media": [
           "A New Hope",
           "Attack of the Clones",
           "Revenge of the Sith"
          ],
          "px": 381.01812215625176,
          "py": 323.39363561033457,
          "shape": "circle",
          "shape_attrs": {
           "r": 15
          },
          "value": null,
          "weight": 24,
          "x": 381.04236167350064,
          "y": 323.5324776320964
         }
        },
        {
         "source": {
          "index": 5,
          "label": "Beru Whitesun lars",
          "label_display": "center",
          "media": [
           "A New Hope",
           "Attack of the Clones",
           "Revenge of the Sith"
          ],
          "px": 381.01812215625176,
          "py": 323.39363561033457,
          "shape": "circle",
          "shape_attrs": {
           "r": 15
          },
          "value": null,
          "weight": 24,
          "x": 381.04236167350064,
          "y": 323.5324776320964
         },
         "target": {
          "index": 4,
          "label": "Obi-Wan Kenobi",
          "label_display": "center",
          "media": [
           "A New Hope",
           "The Empire Strikes Back",
           "Return of the Jedi",
           "The Phantom Menace",
           "Attack of the Clones",
           "Revenge of the Sith"
          ],
          "px": 320.170166111405,
          "py": 277.57646187084174,
          "shape": "circle",
          "shape_attrs": {
           "r": 15
          },
          "value": null,
          "weight": 50,
          "x": 320.1350306605256,
          "y": 277.65979460302145
         }
        },
        {
         "source": {
          "index": 5,
          "label": "Beru Whitesun lars",
          "label_display": "center",
          "media": [
           "A New Hope",
           "Attack of the Clones",
           "Revenge of the Sith"
          ],
          "px": 381.01812215625176,
          "py": 323.39363561033457,
          "shape": "circle",
          "shape_attrs": {
           "r": 15
          },
          "value": null,
          "weight": 24,
          "x": 381.04236167350064,
          "y": 323.5324776320964
         },
         "target": {
          "index": 1,
          "label": "Yoda",
          "label_display": "center",
          "media": [
           "The Empire Strikes Back",
           "Return of the Jedi",
           "The Phantom Menace",
           "Attack of the Clones",
           "Revenge of the Sith"
          ],
          "px": 401.0004374853167,
          "py": 204.00609604719617,
          "shape": "circle",
          "shape_attrs": {
           "r": 15
          },
          "value": null,
          "weight": 42,
          "x": 401.11364336614804,
          "y": 203.9373978504709
         }
        },
        {
         "source": {
          "index": 4,
          "label": "Obi-Wan Kenobi",
          "label_display": "center",
          "media": [
           "A New Hope",
           "The Empire Strikes Back",
           "Return of the Jedi",
           "The Phantom Menace",
           "Attack of the Clones",
           "Revenge of the Sith"
          ],
          "px": 320.170166111405,
          "py": 277.57646187084174,
          "shape": "circle",
          "shape_attrs": {
           "r": 15
          },
          "value": null,
          "weight": 50,
          "x": 320.1350306605256,
          "y": 277.65979460302145
         },
         "target": {
          "index": 3,
          "label": "Darth Vader",
          "label_display": "center",
          "media": [
           "A New Hope",
           "The Empire Strikes Back",
           "Return of the Jedi",
           "Revenge of the Sith"
          ],
          "px": 415.91620418123887,
          "py": 270.1791043549457,
          "shape": "circle",
          "shape_attrs": {
           "r": 15
          },
          "value": null,
          "weight": 36,
          "x": 416.0314672740903,
          "y": 270.22545001153503
         }
        },
        {
         "source": {
          "index": 4,
          "label": "Obi-Wan Kenobi",
          "label_display": "center",
          "media": [
           "A New Hope",
           "The Empire Strikes Back",
           "Return of the Jedi",
           "The Phantom Menace",
           "Attack of the Clones",
           "Revenge of the Sith"
          ],
          "px": 320.170166111405,
          "py": 277.57646187084174,
          "shape": "circle",
          "shape_attrs": {
           "r": 15
          },
          "value": null,
          "weight": 50,
          "x": 320.1350306605256,
          "y": 277.65979460302145
         },
         "target": {
          "index": 5,
          "label": "Beru Whitesun lars",
          "label_display": "center",
          "media": [
           "A New Hope",
           "Attack of the Clones",
           "Revenge of the Sith"
          ],
          "px": 381.01812215625176,
          "py": 323.39363561033457,
          "shape": "circle",
          "shape_attrs": {
           "r": 15
          },
          "value": null,
          "weight": 24,
          "x": 381.04236167350064,
          "y": 323.5324776320964
         }
        },
        {
         "source": {
          "index": 4,
          "label": "Obi-Wan Kenobi",
          "label_display": "center",
          "media": [
           "A New Hope",
           "The Empire Strikes Back",
           "Return of the Jedi",
           "The Phantom Menace",
           "Attack of the Clones",
           "Revenge of the Sith"
          ],
          "px": 320.170166111405,
          "py": 277.57646187084174,
          "shape": "circle",
          "shape_attrs": {
           "r": 15
          },
          "value": null,
          "weight": 50,
          "x": 320.1350306605256,
          "y": 277.65979460302145
         },
         "target": {
          "index": 4,
          "label": "Obi-Wan Kenobi",
          "label_display": "center",
          "media": [
           "A New Hope",
           "The Empire Strikes Back",
           "Return of the Jedi",
           "The Phantom Menace",
           "Attack of the Clones",
           "Revenge of the Sith"
          ],
          "px": 320.170166111405,
          "py": 277.57646187084174,
          "shape": "circle",
          "shape_attrs": {
           "r": 15
          },
          "value": null,
          "weight": 50,
          "x": 320.1350306605256,
          "y": 277.65979460302145
         }
        },
        {
         "source": {
          "index": 4,
          "label": "Obi-Wan Kenobi",
          "label_display": "center",
          "media": [
           "A New Hope",
           "The Empire Strikes Back",
           "Return of the Jedi",
           "The Phantom Menace",
           "Attack of the Clones",
           "Revenge of the Sith"
          ],
          "px": 320.170166111405,
          "py": 277.57646187084174,
          "shape": "circle",
          "shape_attrs": {
           "r": 15
          },
          "value": null,
          "weight": 50,
          "x": 320.1350306605256,
          "y": 277.65979460302145
         },
         "target": {
          "index": 1,
          "label": "Yoda",
          "label_display": "center",
          "media": [
           "The Empire Strikes Back",
           "Return of the Jedi",
           "The Phantom Menace",
           "Attack of the Clones",
           "Revenge of the Sith"
          ],
          "px": 401.0004374853167,
          "py": 204.00609604719617,
          "shape": "circle",
          "shape_attrs": {
           "r": 15
          },
          "value": null,
          "weight": 42,
          "x": 401.11364336614804,
          "y": 203.9373978504709
         }
        },
        {
         "source": {
          "index": 1,
          "label": "Yoda",
          "label_display": "center",
          "media": [
           "The Empire Strikes Back",
           "Return of the Jedi",
           "The Phantom Menace",
           "Attack of the Clones",
           "Revenge of the Sith"
          ],
          "px": 401.0004374853167,
          "py": 204.00609604719617,
          "shape": "circle",
          "shape_attrs": {
           "r": 15
          },
          "value": null,
          "weight": 42,
          "x": 401.11364336614804,
          "y": 203.9373978504709
         },
         "target": {
          "index": 3,
          "label": "Darth Vader",
          "label_display": "center",
          "media": [
           "A New Hope",
           "The Empire Strikes Back",
           "Return of the Jedi",
           "Revenge of the Sith"
          ],
          "px": 415.91620418123887,
          "py": 270.1791043549457,
          "shape": "circle",
          "shape_attrs": {
           "r": 15
          },
          "value": null,
          "weight": 36,
          "x": 416.0314672740903,
          "y": 270.22545001153503
         }
        },
        {
         "source": {
          "index": 1,
          "label": "Yoda",
          "label_display": "center",
          "media": [
           "The Empire Strikes Back",
           "Return of the Jedi",
           "The Phantom Menace",
           "Attack of the Clones",
           "Revenge of the Sith"
          ],
          "px": 401.0004374853167,
          "py": 204.00609604719617,
          "shape": "circle",
          "shape_attrs": {
           "r": 15
          },
          "value": null,
          "weight": 42,
          "x": 401.11364336614804,
          "y": 203.9373978504709
         },
         "target": {
          "index": 5,
          "label": "Beru Whitesun lars",
          "label_display": "center",
          "media": [
           "A New Hope",
           "Attack of the Clones",
           "Revenge of the Sith"
          ],
          "px": 381.01812215625176,
          "py": 323.39363561033457,
          "shape": "circle",
          "shape_attrs": {
           "r": 15
          },
          "value": null,
          "weight": 24,
          "x": 381.04236167350064,
          "y": 323.5324776320964
         }
        },
        {
         "source": {
          "index": 1,
          "label": "Yoda",
          "label_display": "center",
          "media": [
           "The Empire Strikes Back",
           "Return of the Jedi",
           "The Phantom Menace",
           "Attack of the Clones",
           "Revenge of the Sith"
          ],
          "px": 401.0004374853167,
          "py": 204.00609604719617,
          "shape": "circle",
          "shape_attrs": {
           "r": 15
          },
          "value": null,
          "weight": 42,
          "x": 401.11364336614804,
          "y": 203.9373978504709
         },
         "target": {
          "index": 4,
          "label": "Obi-Wan Kenobi",
          "label_display": "center",
          "media": [
           "A New Hope",
           "The Empire Strikes Back",
           "Return of the Jedi",
           "The Phantom Menace",
           "Attack of the Clones",
           "Revenge of the Sith"
          ],
          "px": 320.170166111405,
          "py": 277.57646187084174,
          "shape": "circle",
          "shape_attrs": {
           "r": 15
          },
          "value": null,
          "weight": 50,
          "x": 320.1350306605256,
          "y": 277.65979460302145
         }
        },
        {
         "source": {
          "index": 1,
          "label": "Yoda",
          "label_display": "center",
          "media": [
           "The Empire Strikes Back",
           "Return of the Jedi",
           "The Phantom Menace",
           "Attack of the Clones",
           "Revenge of the Sith"
          ],
          "px": 401.0004374853167,
          "py": 204.00609604719617,
          "shape": "circle",
          "shape_attrs": {
           "r": 15
          },
          "value": null,
          "weight": 42,
          "x": 401.11364336614804,
          "y": 203.9373978504709
         },
         "target": {
          "index": 1,
          "label": "Yoda",
          "label_display": "center",
          "media": [
           "The Empire Strikes Back",
           "Return of the Jedi",
           "The Phantom Menace",
           "Attack of the Clones",
           "Revenge of the Sith"
          ],
          "px": 401.0004374853167,
          "py": 204.00609604719617,
          "shape": "circle",
          "shape_attrs": {
           "r": 15
          },
          "value": null,
          "weight": 42,
          "x": 401.11364336614804,
          "y": 203.9373978504709
         }
        }
       ],
       "link_distance": 100,
       "link_matrix": {
        "type": "float",
        "values": []
       },
       "link_type": "arc",
       "node_data": [
        {
         "fixed": 0,
         "index": 0,
         "label": "Boba Fett",
         "label_display": "center",
         "media": [
          "The Empire Strikes Back",
          "Return of the Jedi",
          "Attack of the Clones"
         ],
         "px": 305.57269334902554,
         "py": 197.22779085280817,
         "shape": "circle",
         "shape_attrs": {
          "r": 15
         },
         "value": null,
         "weight": 28,
         "x": 305.4836019800392,
         "y": 197.15264418061838
        },
        {
         "index": 1,
         "label": "Yoda",
         "label_display": "center",
         "media": [
          "The Empire Strikes Back",
          "Return of the Jedi",
          "The Phantom Menace",
          "Attack of the Clones",
          "Revenge of the Sith"
         ],
         "px": 401.0004374853167,
         "py": 204.00609604719617,
         "shape": "circle",
         "shape_attrs": {
          "r": 15
         },
         "value": null,
         "weight": 42,
         "x": 401.11364336614804,
         "y": 203.9373978504709
        },
        {
         "index": 2,
         "label": "Jabba Desilijic Tiure",
         "label_display": "center",
         "media": [
          "A New Hope",
          "Return of the Jedi",
          "The Phantom Menace"
         ],
         "px": 344.9077127328109,
         "py": 178.410067370591,
         "shape": "circle",
         "shape_attrs": {
          "r": 15
         },
         "value": null,
         "weight": 26,
         "x": 344.9418029249622,
         "y": 178.28702993954698
        },
        {
         "index": 3,
         "label": "Darth Vader",
         "label_display": "center",
         "media": [
          "A New Hope",
          "The Empire Strikes Back",
          "Return of the Jedi",
          "Revenge of the Sith"
         ],
         "px": 415.91620418123887,
         "py": 270.1791043549457,
         "shape": "circle",
         "shape_attrs": {
          "r": 15
         },
         "value": null,
         "weight": 36,
         "x": 416.0314672740903,
         "y": 270.22545001153503
        },
        {
         "index": 4,
         "label": "Obi-Wan Kenobi",
         "label_display": "center",
         "media": [
          "A New Hope",
          "The Empire Strikes Back",
          "Return of the Jedi",
          "The Phantom Menace",
          "Attack of the Clones",
          "Revenge of the Sith"
         ],
         "px": 320.170166111405,
         "py": 277.57646187084174,
         "shape": "circle",
         "shape_attrs": {
          "r": 15
         },
         "value": null,
         "weight": 50,
         "x": 320.1350306605256,
         "y": 277.65979460302145
        },
        {
         "index": 5,
         "label": "Beru Whitesun lars",
         "label_display": "center",
         "media": [
          "A New Hope",
          "Attack of the Clones",
          "Revenge of the Sith"
         ],
         "px": 381.01812215625176,
         "py": 323.39363561033457,
         "shape": "circle",
         "shape_attrs": {
          "r": 15
         },
         "value": null,
         "weight": 24,
         "x": 381.04236167350064,
         "y": 323.5324776320964
        },
        {
         "index": 6,
         "label": "Mon Mothma",
         "label_display": "center",
         "media": [
          "Return of the Jedi"
         ],
         "px": 274.44664807820186,
         "py": 250.89762641363717,
         "shape": "circle",
         "shape_attrs": {
          "r": 15
         },
         "value": null,
         "weight": 12,
         "x": 274.30420723962504,
         "y": 250.91679302676826
        }
       ],
       "preserve_domain": {},
       "scales": {},
       "scales_metadata": {
        "color": {
         "dimension": "color"
        },
        "link_color": {
         "dimension": "link_color"
        },
        "x": {
         "dimension": "x",
         "orientation": "horizontal"
        },
        "y": {
         "dimension": "y",
         "orientation": "vertical"
        }
       },
       "selected": [
        0
       ],
       "selected_style": {},
       "tooltip": "IPY_MODEL_39e9068aaea54c8e83f427b0588e3371",
       "tooltip_location": "mouse",
       "tooltip_style": {
        "opacity": 0.9
       },
       "unhovered_style": {},
       "unselected_style": {},
       "visible": true,
       "x": {
        "type": "float",
        "values": []
       },
       "y": {
        "type": "float",
        "values": []
       }
      }
     },
     "7099b442e2284c43b8124822b1641f33": {
      "model_module": "bqplot",
      "model_module_version": "^0.4.1",
      "model_name": "LinearScaleModel",
      "state": {
       "_model_module_version": "^0.4.1",
       "_view_module_version": "^0.4.1",
       "allow_padding": false,
       "max": 1,
       "min": 0,
       "stabilized": false
      }
     },
     "7b5a3dcb80d148168795cf59e4709587": {
      "model_module": "bqplot",
      "model_module_version": "^0.4.1",
      "model_name": "LinearScaleModel",
      "state": {
       "_model_module_version": "^0.4.1",
       "_view_module_version": "^0.4.1",
       "allow_padding": false,
       "max": 1,
       "min": 0,
       "stabilized": false
      }
     },
     "96a4962c3aa9404fab62110028eec9c1": {
      "model_module": "bqplot",
      "model_module_version": "^0.4.1",
      "model_name": "TooltipModel",
      "state": {
       "_model_module_version": "^0.4.1",
       "_view_module_version": "^0.4.1",
       "fields": [
        "label",
        "media"
       ],
       "layout": "IPY_MODEL_4ce198f8d74f4210af22f9bc6af9fc33"
      }
     },
     "972f12a7e2cd4c69be41e1384b14de8f": {
      "model_module": "bqplot",
      "model_module_version": "^0.4.1",
      "model_name": "LinearScaleModel",
      "state": {
       "_model_module_version": "^0.4.1",
       "_view_module_version": "^0.4.1",
       "allow_padding": false,
       "max": 1,
       "min": 0,
       "stabilized": false
      }
     },
     "990b3dcf1dc4405e97acc223aac6257f": {
      "model_module": "bqplot",
      "model_module_version": "^0.4.1",
      "model_name": "FigureModel",
      "state": {
       "_dom_classes": [],
       "_model_module_version": "^0.4.1",
       "_view_module_version": "^0.4.1",
       "layout": "IPY_MODEL_e09a489565354a81b2fb145046585af8",
       "marks": [
        "IPY_MODEL_f4706212293640f6b347725fc2b433ac"
       ],
       "scale_x": "IPY_MODEL_7099b442e2284c43b8124822b1641f33",
       "scale_y": "IPY_MODEL_7b5a3dcb80d148168795cf59e4709587"
      }
     },
     "b5ae582b67224b02b1fd1141f92214df": {
      "model_module": "@jupyter-widgets/base",
      "model_module_version": "1.1.0",
      "model_name": "LayoutModel",
      "state": {}
     },
     "b74c64d03fe44823ae98cde6dba4589c": {
      "model_module": "@jupyter-widgets/base",
      "model_module_version": "1.1.0",
      "model_name": "LayoutModel",
      "state": {}
     },
     "e09a489565354a81b2fb145046585af8": {
      "model_module": "@jupyter-widgets/base",
      "model_module_version": "1.1.0",
      "model_name": "LayoutModel",
      "state": {
       "min_width": "125px"
      }
     },
     "e6b289fcffc746a18d1e3bc99b206b7f": {
      "model_module": "bqplot",
      "model_module_version": "^0.4.1",
      "model_name": "FigureModel",
      "state": {
       "_dom_classes": [],
       "_model_module_version": "^0.4.1",
       "_view_module_version": "^0.4.1",
       "layout": "IPY_MODEL_18a46bf9854942218d8729aac0169973",
       "marks": [
        "IPY_MODEL_6e994b51491d406097181081c60f427d"
       ],
       "scale_x": "IPY_MODEL_18b3c8315cff4720a3de5bf0490f9e80",
       "scale_y": "IPY_MODEL_972f12a7e2cd4c69be41e1384b14de8f"
      }
     },
     "f4706212293640f6b347725fc2b433ac": {
      "model_module": "bqplot",
      "model_module_version": "^0.4.1",
      "model_name": "GraphModel",
      "state": {
       "_model_module": "bqplot",
       "_model_module_version": "^0.4.1",
       "_view_count": null,
       "_view_module": "bqplot",
       "_view_module_version": "^0.4.1",
       "apply_clip": true,
       "charge": -600,
       "color": {
        "type": null,
        "values": null
       },
       "colors": [
        "#1f77b4",
        "#ff7f0e",
        "#2ca02c",
        "#d62728",
        "#9467bd",
        "#8c564b",
        "#e377c2",
        "#7f7f7f",
        "#bcbd22",
        "#17becf"
       ],
       "directed": false,
       "display_legend": false,
       "enable_hover": true,
       "highlight_links": true,
       "hovered_style": {},
       "interactions": {
        "click": "select",
        "hover": "tooltip"
       },
       "labels": [],
       "link_color": {
        "type": "float",
        "values": []
       },
       "link_data": [
        {
         "source": {
          "index": 3,
          "label": "Darth Vader",
          "label_display": "center",
          "media": [
           "A New Hope",
           "The Empire Strikes Back",
           "Return of the Jedi",
           "Revenge of the Sith"
          ],
          "px": 286.1160113972277,
          "py": 203.27999868082094,
          "shape": "circle",
          "shape_attrs": {
           "r": 15
          },
          "value": null,
          "weight": 36,
          "x": 286.03838221511705,
          "y": 203.21188834768566
         },
         "target": {
          "index": 3,
          "label": "Darth Vader",
          "label_display": "center",
          "media": [
           "A New Hope",
           "The Empire Strikes Back",
           "Return of the Jedi",
           "Revenge of the Sith"
          ],
          "px": 286.1160113972277,
          "py": 203.27999868082094,
          "shape": "circle",
          "shape_attrs": {
           "r": 15
          },
          "value": null,
          "weight": 36,
          "x": 286.03838221511705,
          "y": 203.21188834768566
         }
        },
        {
         "source": {
          "index": 3,
          "label": "Darth Vader",
          "label_display": "center",
          "media": [
           "A New Hope",
           "The Empire Strikes Back",
           "Return of the Jedi",
           "Revenge of the Sith"
          ],
          "px": 286.1160113972277,
          "py": 203.27999868082094,
          "shape": "circle",
          "shape_attrs": {
           "r": 15
          },
          "value": null,
          "weight": 36,
          "x": 286.03838221511705,
          "y": 203.21188834768566
         },
         "target": {
          "index": 5,
          "label": "Beru Whitesun lars",
          "label_display": "center",
          "media": [
           "A New Hope",
           "Attack of the Clones",
           "Revenge of the Sith"
          ],
          "px": 268.06316564322964,
          "py": 263.5411594264449,
          "shape": "circle",
          "shape_attrs": {
           "r": 15
          },
          "value": null,
          "weight": 24,
          "x": 267.8688266592177,
          "y": 263.57491706945547
         }
        },
        {
         "source": {
          "index": 3,
          "label": "Darth Vader",
          "label_display": "center",
          "media": [
           "A New Hope",
           "The Empire Strikes Back",
           "Return of the Jedi",
           "Revenge of the Sith"
          ],
          "px": 286.1160113972277,
          "py": 203.27999868082094,
          "shape": "circle",
          "shape_attrs": {
           "r": 15
          },
          "value": null,
          "weight": 36,
          "x": 286.03838221511705,
          "y": 203.21188834768566
         },
         "target": {
          "index": 4,
          "label": "Obi-Wan Kenobi",
          "label_display": "center",
          "media": [
           "A New Hope",
           "The Empire Strikes Back",
           "Return of the Jedi",
           "The Phantom Menace",
           "Attack of the Clones",
           "Revenge of the Sith"
          ],
          "px": 347.0555055216244,
          "py": 282.10952025713146,
          "shape": "circle",
          "shape_attrs": {
           "r": 15
          },
          "value": null,
          "weight": 50,
          "x": 347.10610314500343,
          "y": 282.22495397083145
         }
        },
        {
         "source": {
          "index": 3,
          "label": "Darth Vader",
          "label_display": "center",
          "media": [
           "A New Hope",
           "The Empire Strikes Back",
           "Return of the Jedi",
           "Revenge of the Sith"
          ],
          "px": 286.1160113972277,
          "py": 203.27999868082094,
          "shape": "circle",
          "shape_attrs": {
           "r": 15
          },
          "value": null,
          "weight": 36,
          "x": 286.03838221511705,
          "y": 203.21188834768566
         },
         "target": {
          "index": 2,
          "label": "Jabba Desilijic Tiure",
          "label_display": "center",
          "media": [
           "A New Hope",
           "Return of the Jedi",
           "The Phantom Menace"
          ],
          "px": 411.2774982903746,
          "py": 246.10066533827884,
          "shape": "circle",
          "shape_attrs": {
           "r": 15
          },
          "value": null,
          "weight": 26,
          "x": 411.40544970882263,
          "y": 246.15878974019802
         }
        },
        {
         "source": {
          "index": 5,
          "label": "Beru Whitesun lars",
          "label_display": "center",
          "media": [
           "A New Hope",
           "Attack of the Clones",
           "Revenge of the Sith"
          ],
          "px": 268.06316564322964,
          "py": 263.5411594264449,
          "shape": "circle",
          "shape_attrs": {
           "r": 15
          },
          "value": null,
          "weight": 24,
          "x": 267.8688266592177,
          "y": 263.57491706945547
         },
         "target": {
          "index": 3,
          "label": "Darth Vader",
          "label_display": "center",
          "media": [
           "A New Hope",
           "The Empire Strikes Back",
           "Return of the Jedi",
           "Revenge of the Sith"
          ],
          "px": 286.1160113972277,
          "py": 203.27999868082094,
          "shape": "circle",
          "shape_attrs": {
           "r": 15
          },
          "value": null,
          "weight": 36,
          "x": 286.03838221511705,
          "y": 203.21188834768566
         }
        },
        {
         "source": {
          "index": 5,
          "label": "Beru Whitesun lars",
          "label_display": "center",
          "media": [
           "A New Hope",
           "Attack of the Clones",
           "Revenge of the Sith"
          ],
          "px": 268.06316564322964,
          "py": 263.5411594264449,
          "shape": "circle",
          "shape_attrs": {
           "r": 15
          },
          "value": null,
          "weight": 24,
          "x": 267.8688266592177,
          "y": 263.57491706945547
         },
         "target": {
          "index": 5,
          "label": "Beru Whitesun lars",
          "label_display": "center",
          "media": [
           "A New Hope",
           "Attack of the Clones",
           "Revenge of the Sith"
          ],
          "px": 268.06316564322964,
          "py": 263.5411594264449,
          "shape": "circle",
          "shape_attrs": {
           "r": 15
          },
          "value": null,
          "weight": 24,
          "x": 267.8688266592177,
          "y": 263.57491706945547
         }
        },
        {
         "source": {
          "index": 5,
          "label": "Beru Whitesun lars",
          "label_display": "center",
          "media": [
           "A New Hope",
           "Attack of the Clones",
           "Revenge of the Sith"
          ],
          "px": 268.06316564322964,
          "py": 263.5411594264449,
          "shape": "circle",
          "shape_attrs": {
           "r": 15
          },
          "value": null,
          "weight": 24,
          "x": 267.8688266592177,
          "y": 263.57491706945547
         },
         "target": {
          "index": 4,
          "label": "Obi-Wan Kenobi",
          "label_display": "center",
          "media": [
           "A New Hope",
           "The Empire Strikes Back",
           "Return of the Jedi",
           "The Phantom Menace",
           "Attack of the Clones",
           "Revenge of the Sith"
          ],
          "px": 347.0555055216244,
          "py": 282.10952025713146,
          "shape": "circle",
          "shape_attrs": {
           "r": 15
          },
          "value": null,
          "weight": 50,
          "x": 347.10610314500343,
          "y": 282.22495397083145
         }
        },
        {
         "source": {
          "index": 5,
          "label": "Beru Whitesun lars",
          "label_display": "center",
          "media": [
           "A New Hope",
           "Attack of the Clones",
           "Revenge of the Sith"
          ],
          "px": 268.06316564322964,
          "py": 263.5411594264449,
          "shape": "circle",
          "shape_attrs": {
           "r": 15
          },
          "value": null,
          "weight": 24,
          "x": 267.8688266592177,
          "y": 263.57491706945547
         },
         "target": {
          "index": 2,
          "label": "Jabba Desilijic Tiure",
          "label_display": "center",
          "media": [
           "A New Hope",
           "Return of the Jedi",
           "The Phantom Menace"
          ],
          "px": 411.2774982903746,
          "py": 246.10066533827884,
          "shape": "circle",
          "shape_attrs": {
           "r": 15
          },
          "value": null,
          "weight": 26,
          "x": 411.40544970882263,
          "y": 246.15878974019802
         }
        },
        {
         "source": {
          "index": 4,
          "label": "Obi-Wan Kenobi",
          "label_display": "center",
          "media": [
           "A New Hope",
           "The Empire Strikes Back",
           "Return of the Jedi",
           "The Phantom Menace",
           "Attack of the Clones",
           "Revenge of the Sith"
          ],
          "px": 347.0555055216244,
          "py": 282.10952025713146,
          "shape": "circle",
          "shape_attrs": {
           "r": 15
          },
          "value": null,
          "weight": 50,
          "x": 347.10610314500343,
          "y": 282.22495397083145
         },
         "target": {
          "index": 3,
          "label": "Darth Vader",
          "label_display": "center",
          "media": [
           "A New Hope",
           "The Empire Strikes Back",
           "Return of the Jedi",
           "Revenge of the Sith"
          ],
          "px": 286.1160113972277,
          "py": 203.27999868082094,
          "shape": "circle",
          "shape_attrs": {
           "r": 15
          },
          "value": null,
          "weight": 36,
          "x": 286.03838221511705,
          "y": 203.21188834768566
         }
        },
        {
         "source": {
          "index": 4,
          "label": "Obi-Wan Kenobi",
          "label_display": "center",
          "media": [
           "A New Hope",
           "The Empire Strikes Back",
           "Return of the Jedi",
           "The Phantom Menace",
           "Attack of the Clones",
           "Revenge of the Sith"
          ],
          "px": 347.0555055216244,
          "py": 282.10952025713146,
          "shape": "circle",
          "shape_attrs": {
           "r": 15
          },
          "value": null,
          "weight": 50,
          "x": 347.10610314500343,
          "y": 282.22495397083145
         },
         "target": {
          "index": 5,
          "label": "Beru Whitesun lars",
          "label_display": "center",
          "media": [
           "A New Hope",
           "Attack of the Clones",
           "Revenge of the Sith"
          ],
          "px": 268.06316564322964,
          "py": 263.5411594264449,
          "shape": "circle",
          "shape_attrs": {
           "r": 15
          },
          "value": null,
          "weight": 24,
          "x": 267.8688266592177,
          "y": 263.57491706945547
         }
        },
        {
         "source": {
          "index": 4,
          "label": "Obi-Wan Kenobi",
          "label_display": "center",
          "media": [
           "A New Hope",
           "The Empire Strikes Back",
           "Return of the Jedi",
           "The Phantom Menace",
           "Attack of the Clones",
           "Revenge of the Sith"
          ],
          "px": 347.0555055216244,
          "py": 282.10952025713146,
          "shape": "circle",
          "shape_attrs": {
           "r": 15
          },
          "value": null,
          "weight": 50,
          "x": 347.10610314500343,
          "y": 282.22495397083145
         },
         "target": {
          "index": 4,
          "label": "Obi-Wan Kenobi",
          "label_display": "center",
          "media": [
           "A New Hope",
           "The Empire Strikes Back",
           "Return of the Jedi",
           "The Phantom Menace",
           "Attack of the Clones",
           "Revenge of the Sith"
          ],
          "px": 347.0555055216244,
          "py": 282.10952025713146,
          "shape": "circle",
          "shape_attrs": {
           "r": 15
          },
          "value": null,
          "weight": 50,
          "x": 347.10610314500343,
          "y": 282.22495397083145
         }
        },
        {
         "source": {
          "index": 4,
          "label": "Obi-Wan Kenobi",
          "label_display": "center",
          "media": [
           "A New Hope",
           "The Empire Strikes Back",
           "Return of the Jedi",
           "The Phantom Menace",
           "Attack of the Clones",
           "Revenge of the Sith"
          ],
          "px": 347.0555055216244,
          "py": 282.10952025713146,
          "shape": "circle",
          "shape_attrs": {
           "r": 15
          },
          "value": null,
          "weight": 50,
          "x": 347.10610314500343,
          "y": 282.22495397083145
         },
         "target": {
          "index": 2,
          "label": "Jabba Desilijic Tiure",
          "label_display": "center",
          "media": [
           "A New Hope",
           "Return of the Jedi",
           "The Phantom Menace"
          ],
          "px": 411.2774982903746,
          "py": 246.10066533827884,
          "shape": "circle",
          "shape_attrs": {
           "r": 15
          },
          "value": null,
          "weight": 26,
          "x": 411.40544970882263,
          "y": 246.15878974019802
         }
        },
        {
         "source": {
          "index": 2,
          "label": "Jabba Desilijic Tiure",
          "label_display": "center",
          "media": [
           "A New Hope",
           "Return of the Jedi",
           "The Phantom Menace"
          ],
          "px": 411.2774982903746,
          "py": 246.10066533827884,
          "shape": "circle",
          "shape_attrs": {
           "r": 15
          },
          "value": null,
          "weight": 26,
          "x": 411.40544970882263,
          "y": 246.15878974019802
         },
         "target": {
          "index": 3,
          "label": "Darth Vader",
          "label_display": "center",
          "media": [
           "A New Hope",
           "The Empire Strikes Back",
           "Return of the Jedi",
           "Revenge of the Sith"
          ],
          "px": 286.1160113972277,
          "py": 203.27999868082094,
          "shape": "circle",
          "shape_attrs": {
           "r": 15
          },
          "value": null,
          "weight": 36,
          "x": 286.03838221511705,
          "y": 203.21188834768566
         }
        },
        {
         "source": {
          "index": 2,
          "label": "Jabba Desilijic Tiure",
          "label_display": "center",
          "media": [
           "A New Hope",
           "Return of the Jedi",
           "The Phantom Menace"
          ],
          "px": 411.2774982903746,
          "py": 246.10066533827884,
          "shape": "circle",
          "shape_attrs": {
           "r": 15
          },
          "value": null,
          "weight": 26,
          "x": 411.40544970882263,
          "y": 246.15878974019802
         },
         "target": {
          "index": 5,
          "label": "Beru Whitesun lars",
          "label_display": "center",
          "media": [
           "A New Hope",
           "Attack of the Clones",
           "Revenge of the Sith"
          ],
          "px": 268.06316564322964,
          "py": 263.5411594264449,
          "shape": "circle",
          "shape_attrs": {
           "r": 15
          },
          "value": null,
          "weight": 24,
          "x": 267.8688266592177,
          "y": 263.57491706945547
         }
        },
        {
         "source": {
          "index": 2,
          "label": "Jabba Desilijic Tiure",
          "label_display": "center",
          "media": [
           "A New Hope",
           "Return of the Jedi",
           "The Phantom Menace"
          ],
          "px": 411.2774982903746,
          "py": 246.10066533827884,
          "shape": "circle",
          "shape_attrs": {
           "r": 15
          },
          "value": null,
          "weight": 26,
          "x": 411.40544970882263,
          "y": 246.15878974019802
         },
         "target": {
          "index": 4,
          "label": "Obi-Wan Kenobi",
          "label_display": "center",
          "media": [
           "A New Hope",
           "The Empire Strikes Back",
           "Return of the Jedi",
           "The Phantom Menace",
           "Attack of the Clones",
           "Revenge of the Sith"
          ],
          "px": 347.0555055216244,
          "py": 282.10952025713146,
          "shape": "circle",
          "shape_attrs": {
           "r": 15
          },
          "value": null,
          "weight": 50,
          "x": 347.10610314500343,
          "y": 282.22495397083145
         }
        },
        {
         "source": {
          "index": 2,
          "label": "Jabba Desilijic Tiure",
          "label_display": "center",
          "media": [
           "A New Hope",
           "Return of the Jedi",
           "The Phantom Menace"
          ],
          "px": 411.2774982903746,
          "py": 246.10066533827884,
          "shape": "circle",
          "shape_attrs": {
           "r": 15
          },
          "value": null,
          "weight": 26,
          "x": 411.40544970882263,
          "y": 246.15878974019802
         },
         "target": {
          "index": 2,
          "label": "Jabba Desilijic Tiure",
          "label_display": "center",
          "media": [
           "A New Hope",
           "Return of the Jedi",
           "The Phantom Menace"
          ],
          "px": 411.2774982903746,
          "py": 246.10066533827884,
          "shape": "circle",
          "shape_attrs": {
           "r": 15
          },
          "value": null,
          "weight": 26,
          "x": 411.40544970882263,
          "y": 246.15878974019802
         }
        },
        {
         "source": {
          "index": 3,
          "label": "Darth Vader",
          "label_display": "center",
          "media": [
           "A New Hope",
           "The Empire Strikes Back",
           "Return of the Jedi",
           "Revenge of the Sith"
          ],
          "px": 286.1160113972277,
          "py": 203.27999868082094,
          "shape": "circle",
          "shape_attrs": {
           "r": 15
          },
          "value": null,
          "weight": 36,
          "x": 286.03838221511705,
          "y": 203.21188834768566
         },
         "target": {
          "index": 3,
          "label": "Darth Vader",
          "label_display": "center",
          "media": [
           "A New Hope",
           "The Empire Strikes Back",
           "Return of the Jedi",
           "Revenge of the Sith"
          ],
          "px": 286.1160113972277,
          "py": 203.27999868082094,
          "shape": "circle",
          "shape_attrs": {
           "r": 15
          },
          "value": null,
          "weight": 36,
          "x": 286.03838221511705,
          "y": 203.21188834768566
         }
        },
        {
         "source": {
          "index": 3,
          "label": "Darth Vader",
          "label_display": "center",
          "media": [
           "A New Hope",
           "The Empire Strikes Back",
           "Return of the Jedi",
           "Revenge of the Sith"
          ],
          "px": 286.1160113972277,
          "py": 203.27999868082094,
          "shape": "circle",
          "shape_attrs": {
           "r": 15
          },
          "value": null,
          "weight": 36,
          "x": 286.03838221511705,
          "y": 203.21188834768566
         },
         "target": {
          "index": 4,
          "label": "Obi-Wan Kenobi",
          "label_display": "center",
          "media": [
           "A New Hope",
           "The Empire Strikes Back",
           "Return of the Jedi",
           "The Phantom Menace",
           "Attack of the Clones",
           "Revenge of the Sith"
          ],
          "px": 347.0555055216244,
          "py": 282.10952025713146,
          "shape": "circle",
          "shape_attrs": {
           "r": 15
          },
          "value": null,
          "weight": 50,
          "x": 347.10610314500343,
          "y": 282.22495397083145
         }
        },
        {
         "source": {
          "index": 3,
          "label": "Darth Vader",
          "label_display": "center",
          "media": [
           "A New Hope",
           "The Empire Strikes Back",
           "Return of the Jedi",
           "Revenge of the Sith"
          ],
          "px": 286.1160113972277,
          "py": 203.27999868082094,
          "shape": "circle",
          "shape_attrs": {
           "r": 15
          },
          "value": null,
          "weight": 36,
          "x": 286.03838221511705,
          "y": 203.21188834768566
         },
         "target": {
          "index": 1,
          "label": "Yoda",
          "label_display": "center",
          "media": [
           "The Empire Strikes Back",
           "Return of the Jedi",
           "The Phantom Menace",
           "Attack of the Clones",
           "Revenge of the Sith"
          ],
          "px": 382.86026645814934,
          "py": 189.54167056256384,
          "shape": "circle",
          "shape_attrs": {
           "r": 15
          },
          "value": null,
          "weight": 42,
          "x": 382.95982239343493,
          "y": 189.48199541589005
         }
        },
        {
         "source": {
          "index": 3,
          "label": "Darth Vader",
          "label_display": "center",
          "media": [
           "A New Hope",
           "The Empire Strikes Back",
           "Return of the Jedi",
           "Revenge of the Sith"
          ],
          "px": 286.1160113972277,
          "py": 203.27999868082094,
          "shape": "circle",
          "shape_attrs": {
           "r": 15
          },
          "value": null,
          "weight": 36,
          "x": 286.03838221511705,
          "y": 203.21188834768566
         },
         "target": {
          "index": 0,
          "label": "Boba Fett",
          "label_display": "center",
          "media": [
           "The Empire Strikes Back",
           "Return of the Jedi",
           "Attack of the Clones"
          ],
          "px": 317.85960209516287,
          "py": 158.14815176854148,
          "shape": "circle",
          "shape_attrs": {
           "r": 15
          },
          "value": null,
          "weight": 28,
          "x": 317.8693355956937,
          "y": 158.01067750076686
         }
        },
        {
         "source": {
          "index": 4,
          "label": "Obi-Wan Kenobi",
          "label_display": "center",
          "media": [
           "A New Hope",
           "The Empire Strikes Back",
           "Return of the Jedi",
           "The Phantom Menace",
           "Attack of the Clones",
           "Revenge of the Sith"
          ],
          "px": 347.0555055216244,
          "py": 282.10952025713146,
          "shape": "circle",
          "shape_attrs": {
           "r": 15
          },
          "value": null,
          "weight": 50,
          "x": 347.10610314500343,
          "y": 282.22495397083145
         },
         "target": {
          "index": 3,
          "label": "Darth Vader",
          "label_display": "center",
          "media": [
           "A New Hope",
           "The Empire Strikes Back",
           "Return of the Jedi",
           "Revenge of the Sith"
          ],
          "px": 286.1160113972277,
          "py": 203.27999868082094,
          "shape": "circle",
          "shape_attrs": {
           "r": 15
          },
          "value": null,
          "weight": 36,
          "x": 286.03838221511705,
          "y": 203.21188834768566
         }
        },
        {
         "source": {
          "index": 4,
          "label": "Obi-Wan Kenobi",
          "label_display": "center",
          "media": [
           "A New Hope",
           "The Empire Strikes Back",
           "Return of the Jedi",
           "The Phantom Menace",
           "Attack of the Clones",
           "Revenge of the Sith"
          ],
          "px": 347.0555055216244,
          "py": 282.10952025713146,
          "shape": "circle",
          "shape_attrs": {
           "r": 15
          },
          "value": null,
          "weight": 50,
          "x": 347.10610314500343,
          "y": 282.22495397083145
         },
         "target": {
          "index": 4,
          "label": "Obi-Wan Kenobi",
          "label_display": "center",
          "media": [
           "A New Hope",
           "The Empire Strikes Back",
           "Return of the Jedi",
           "The Phantom Menace",
           "Attack of the Clones",
           "Revenge of the Sith"
          ],
          "px": 347.0555055216244,
          "py": 282.10952025713146,
          "shape": "circle",
          "shape_attrs": {
           "r": 15
          },
          "value": null,
          "weight": 50,
          "x": 347.10610314500343,
          "y": 282.22495397083145
         }
        },
        {
         "source": {
          "index": 4,
          "label": "Obi-Wan Kenobi",
          "label_display": "center",
          "media": [
           "A New Hope",
           "The Empire Strikes Back",
           "Return of the Jedi",
           "The Phantom Menace",
           "Attack of the Clones",
           "Revenge of the Sith"
          ],
          "px": 347.0555055216244,
          "py": 282.10952025713146,
          "shape": "circle",
          "shape_attrs": {
           "r": 15
          },
          "value": null,
          "weight": 50,
          "x": 347.10610314500343,
          "y": 282.22495397083145
         },
         "target": {
          "index": 1,
          "label": "Yoda",
          "label_display": "center",
          "media": [
           "The Empire Strikes Back",
           "Return of the Jedi",
           "The Phantom Menace",
           "Attack of the Clones",
           "Revenge of the Sith"
          ],
          "px": 382.86026645814934,
          "py": 189.54167056256384,
          "shape": "circle",
          "shape_attrs": {
           "r": 15
          },
          "value": null,
          "weight": 42,
          "x": 382.95982239343493,
          "y": 189.48199541589005
         }
        },
        {
         "source": {
          "index": 4,
          "label": "Obi-Wan Kenobi",
          "label_display": "center",
          "media": [
           "A New Hope",
           "The Empire Strikes Back",
           "Return of the Jedi",
           "The Phantom Menace",
           "Attack of the Clones",
           "Revenge of the Sith"
          ],
          "px": 347.0555055216244,
          "py": 282.10952025713146,
          "shape": "circle",
          "shape_attrs": {
           "r": 15
          },
          "value": null,
          "weight": 50,
          "x": 347.10610314500343,
          "y": 282.22495397083145
         },
         "target": {
          "index": 0,
          "label": "Boba Fett",
          "label_display": "center",
          "media": [
           "The Empire Strikes Back",
           "Return of the Jedi",
           "Attack of the Clones"
          ],
          "px": 317.85960209516287,
          "py": 158.14815176854148,
          "shape": "circle",
          "shape_attrs": {
           "r": 15
          },
          "value": null,
          "weight": 28,
          "x": 317.8693355956937,
          "y": 158.01067750076686
         }
        },
        {
         "source": {
          "index": 1,
          "label": "Yoda",
          "label_display": "center",
          "media": [
           "The Empire Strikes Back",
           "Return of the Jedi",
           "The Phantom Menace",
           "Attack of the Clones",
           "Revenge of the Sith"
          ],
          "px": 382.86026645814934,
          "py": 189.54167056256384,
          "shape": "circle",
          "shape_attrs": {
           "r": 15
          },
          "value": null,
          "weight": 42,
          "x": 382.95982239343493,
          "y": 189.48199541589005
         },
         "target": {
          "index": 3,
          "label": "Darth Vader",
          "label_display": "center",
          "media": [
           "A New Hope",
           "The Empire Strikes Back",
           "Return of the Jedi",
           "Revenge of the Sith"
          ],
          "px": 286.1160113972277,
          "py": 203.27999868082094,
          "shape": "circle",
          "shape_attrs": {
           "r": 15
          },
          "value": null,
          "weight": 36,
          "x": 286.03838221511705,
          "y": 203.21188834768566
         }
        },
        {
         "source": {
          "index": 1,
          "label": "Yoda",
          "label_display": "center",
          "media": [
           "The Empire Strikes Back",
           "Return of the Jedi",
           "The Phantom Menace",
           "Attack of the Clones",
           "Revenge of the Sith"
          ],
          "px": 382.86026645814934,
          "py": 189.54167056256384,
          "shape": "circle",
          "shape_attrs": {
           "r": 15
          },
          "value": null,
          "weight": 42,
          "x": 382.95982239343493,
          "y": 189.48199541589005
         },
         "target": {
          "index": 4,
          "label": "Obi-Wan Kenobi",
          "label_display": "center",
          "media": [
           "A New Hope",
           "The Empire Strikes Back",
           "Return of the Jedi",
           "The Phantom Menace",
           "Attack of the Clones",
           "Revenge of the Sith"
          ],
          "px": 347.0555055216244,
          "py": 282.10952025713146,
          "shape": "circle",
          "shape_attrs": {
           "r": 15
          },
          "value": null,
          "weight": 50,
          "x": 347.10610314500343,
          "y": 282.22495397083145
         }
        },
        {
         "source": {
          "index": 1,
          "label": "Yoda",
          "label_display": "center",
          "media": [
           "The Empire Strikes Back",
           "Return of the Jedi",
           "The Phantom Menace",
           "Attack of the Clones",
           "Revenge of the Sith"
          ],
          "px": 382.86026645814934,
          "py": 189.54167056256384,
          "shape": "circle",
          "shape_attrs": {
           "r": 15
          },
          "value": null,
          "weight": 42,
          "x": 382.95982239343493,
          "y": 189.48199541589005
         },
         "target": {
          "index": 1,
          "label": "Yoda",
          "label_display": "center",
          "media": [
           "The Empire Strikes Back",
           "Return of the Jedi",
           "The Phantom Menace",
           "Attack of the Clones",
           "Revenge of the Sith"
          ],
          "px": 382.86026645814934,
          "py": 189.54167056256384,
          "shape": "circle",
          "shape_attrs": {
           "r": 15
          },
          "value": null,
          "weight": 42,
          "x": 382.95982239343493,
          "y": 189.48199541589005
         }
        },
        {
         "source": {
          "index": 1,
          "label": "Yoda",
          "label_display": "center",
          "media": [
           "The Empire Strikes Back",
           "Return of the Jedi",
           "The Phantom Menace",
           "Attack of the Clones",
           "Revenge of the Sith"
          ],
          "px": 382.86026645814934,
          "py": 189.54167056256384,
          "shape": "circle",
          "shape_attrs": {
           "r": 15
          },
          "value": null,
          "weight": 42,
          "x": 382.95982239343493,
          "y": 189.48199541589005
         },
         "target": {
          "index": 0,
          "label": "Boba Fett",
          "label_display": "center",
          "media": [
           "The Empire Strikes Back",
           "Return of the Jedi",
           "Attack of the Clones"
          ],
          "px": 317.85960209516287,
          "py": 158.14815176854148,
          "shape": "circle",
          "shape_attrs": {
           "r": 15
          },
          "value": null,
          "weight": 28,
          "x": 317.8693355956937,
          "y": 158.01067750076686
         }
        },
        {
         "source": {
          "index": 0,
          "label": "Boba Fett",
          "label_display": "center",
          "media": [
           "The Empire Strikes Back",
           "Return of the Jedi",
           "Attack of the Clones"
          ],
          "px": 317.85960209516287,
          "py": 158.14815176854148,
          "shape": "circle",
          "shape_attrs": {
           "r": 15
          },
          "value": null,
          "weight": 28,
          "x": 317.8693355956937,
          "y": 158.01067750076686
         },
         "target": {
          "index": 3,
          "label": "Darth Vader",
          "label_display": "center",
          "media": [
           "A New Hope",
           "The Empire Strikes Back",
           "Return of the Jedi",
           "Revenge of the Sith"
          ],
          "px": 286.1160113972277,
          "py": 203.27999868082094,
          "shape": "circle",
          "shape_attrs": {
           "r": 15
          },
          "value": null,
          "weight": 36,
          "x": 286.03838221511705,
          "y": 203.21188834768566
         }
        },
        {
         "source": {
          "index": 0,
          "label": "Boba Fett",
          "label_display": "center",
          "media": [
           "The Empire Strikes Back",
           "Return of the Jedi",
           "Attack of the Clones"
          ],
          "px": 317.85960209516287,
          "py": 158.14815176854148,
          "shape": "circle",
          "shape_attrs": {
           "r": 15
          },
          "value": null,
          "weight": 28,
          "x": 317.8693355956937,
          "y": 158.01067750076686
         },
         "target": {
          "index": 4,
          "label": "Obi-Wan Kenobi",
          "label_display": "center",
          "media": [
           "A New Hope",
           "The Empire Strikes Back",
           "Return of the Jedi",
           "The Phantom Menace",
           "Attack of the Clones",
           "Revenge of the Sith"
          ],
          "px": 347.0555055216244,
          "py": 282.10952025713146,
          "shape": "circle",
          "shape_attrs": {
           "r": 15
          },
          "value": null,
          "weight": 50,
          "x": 347.10610314500343,
          "y": 282.22495397083145
         }
        },
        {
         "source": {
          "index": 0,
          "label": "Boba Fett",
          "label_display": "center",
          "media": [
           "The Empire Strikes Back",
           "Return of the Jedi",
           "Attack of the Clones"
          ],
          "px": 317.85960209516287,
          "py": 158.14815176854148,
          "shape": "circle",
          "shape_attrs": {
           "r": 15
          },
          "value": null,
          "weight": 28,
          "x": 317.8693355956937,
          "y": 158.01067750076686
         },
         "target": {
          "index": 1,
          "label": "Yoda",
          "label_display": "center",
          "media": [
           "The Empire Strikes Back",
           "Return of the Jedi",
           "The Phantom Menace",
           "Attack of the Clones",
           "Revenge of the Sith"
          ],
          "px": 382.86026645814934,
          "py": 189.54167056256384,
          "shape": "circle",
          "shape_attrs": {
           "r": 15
          },
          "value": null,
          "weight": 42,
          "x": 382.95982239343493,
          "y": 189.48199541589005
         }
        },
        {
         "source": {
          "index": 0,
          "label": "Boba Fett",
          "label_display": "center",
          "media": [
           "The Empire Strikes Back",
           "Return of the Jedi",
           "Attack of the Clones"
          ],
          "px": 317.85960209516287,
          "py": 158.14815176854148,
          "shape": "circle",
          "shape_attrs": {
           "r": 15
          },
          "value": null,
          "weight": 28,
          "x": 317.8693355956937,
          "y": 158.01067750076686
         },
         "target": {
          "index": 0,
          "label": "Boba Fett",
          "label_display": "center",
          "media": [
           "The Empire Strikes Back",
           "Return of the Jedi",
           "Attack of the Clones"
          ],
          "px": 317.85960209516287,
          "py": 158.14815176854148,
          "shape": "circle",
          "shape_attrs": {
           "r": 15
          },
          "value": null,
          "weight": 28,
          "x": 317.8693355956937,
          "y": 158.01067750076686
         }
        },
        {
         "source": {
          "index": 3,
          "label": "Darth Vader",
          "label_display": "center",
          "media": [
           "A New Hope",
           "The Empire Strikes Back",
           "Return of the Jedi",
           "Revenge of the Sith"
          ],
          "px": 286.1160113972277,
          "py": 203.27999868082094,
          "shape": "circle",
          "shape_attrs": {
           "r": 15
          },
          "value": null,
          "weight": 36,
          "x": 286.03838221511705,
          "y": 203.21188834768566
         },
         "target": {
          "index": 3,
          "label": "Darth Vader",
          "label_display": "center",
          "media": [
           "A New Hope",
           "The Empire Strikes Back",
           "Return of the Jedi",
           "Revenge of the Sith"
          ],
          "px": 286.1160113972277,
          "py": 203.27999868082094,
          "shape": "circle",
          "shape_attrs": {
           "r": 15
          },
          "value": null,
          "weight": 36,
          "x": 286.03838221511705,
          "y": 203.21188834768566
         }
        },
        {
         "source": {
          "index": 3,
          "label": "Darth Vader",
          "label_display": "center",
          "media": [
           "A New Hope",
           "The Empire Strikes Back",
           "Return of the Jedi",
           "Revenge of the Sith"
          ],
          "px": 286.1160113972277,
          "py": 203.27999868082094,
          "shape": "circle",
          "shape_attrs": {
           "r": 15
          },
          "value": null,
          "weight": 36,
          "x": 286.03838221511705,
          "y": 203.21188834768566
         },
         "target": {
          "index": 4,
          "label": "Obi-Wan Kenobi",
          "label_display": "center",
          "media": [
           "A New Hope",
           "The Empire Strikes Back",
           "Return of the Jedi",
           "The Phantom Menace",
           "Attack of the Clones",
           "Revenge of the Sith"
          ],
          "px": 347.0555055216244,
          "py": 282.10952025713146,
          "shape": "circle",
          "shape_attrs": {
           "r": 15
          },
          "value": null,
          "weight": 50,
          "x": 347.10610314500343,
          "y": 282.22495397083145
         }
        },
        {
         "source": {
          "index": 3,
          "label": "Darth Vader",
          "label_display": "center",
          "media": [
           "A New Hope",
           "The Empire Strikes Back",
           "Return of the Jedi",
           "Revenge of the Sith"
          ],
          "px": 286.1160113972277,
          "py": 203.27999868082094,
          "shape": "circle",
          "shape_attrs": {
           "r": 15
          },
          "value": null,
          "weight": 36,
          "x": 286.03838221511705,
          "y": 203.21188834768566
         },
         "target": {
          "index": 2,
          "label": "Jabba Desilijic Tiure",
          "label_display": "center",
          "media": [
           "A New Hope",
           "Return of the Jedi",
           "The Phantom Menace"
          ],
          "px": 411.2774982903746,
          "py": 246.10066533827884,
          "shape": "circle",
          "shape_attrs": {
           "r": 15
          },
          "value": null,
          "weight": 26,
          "x": 411.40544970882263,
          "y": 246.15878974019802
         }
        },
        {
         "source": {
          "index": 3,
          "label": "Darth Vader",
          "label_display": "center",
          "media": [
           "A New Hope",
           "The Empire Strikes Back",
           "Return of the Jedi",
           "Revenge of the Sith"
          ],
          "px": 286.1160113972277,
          "py": 203.27999868082094,
          "shape": "circle",
          "shape_attrs": {
           "r": 15
          },
          "value": null,
          "weight": 36,
          "x": 286.03838221511705,
          "y": 203.21188834768566
         },
         "target": {
          "index": 1,
          "label": "Yoda",
          "label_display": "center",
          "media": [
           "The Empire Strikes Back",
           "Return of the Jedi",
           "The Phantom Menace",
           "Attack of the Clones",
           "Revenge of the Sith"
          ],
          "px": 382.86026645814934,
          "py": 189.54167056256384,
          "shape": "circle",
          "shape_attrs": {
           "r": 15
          },
          "value": null,
          "weight": 42,
          "x": 382.95982239343493,
          "y": 189.48199541589005
         }
        },
        {
         "source": {
          "index": 3,
          "label": "Darth Vader",
          "label_display": "center",
          "media": [
           "A New Hope",
           "The Empire Strikes Back",
           "Return of the Jedi",
           "Revenge of the Sith"
          ],
          "px": 286.1160113972277,
          "py": 203.27999868082094,
          "shape": "circle",
          "shape_attrs": {
           "r": 15
          },
          "value": null,
          "weight": 36,
          "x": 286.03838221511705,
          "y": 203.21188834768566
         },
         "target": {
          "index": 0,
          "label": "Boba Fett",
          "label_display": "center",
          "media": [
           "The Empire Strikes Back",
           "Return of the Jedi",
           "Attack of the Clones"
          ],
          "px": 317.85960209516287,
          "py": 158.14815176854148,
          "shape": "circle",
          "shape_attrs": {
           "r": 15
          },
          "value": null,
          "weight": 28,
          "x": 317.8693355956937,
          "y": 158.01067750076686
         }
        },
        {
         "source": {
          "index": 3,
          "label": "Darth Vader",
          "label_display": "center",
          "media": [
           "A New Hope",
           "The Empire Strikes Back",
           "Return of the Jedi",
           "Revenge of the Sith"
          ],
          "px": 286.1160113972277,
          "py": 203.27999868082094,
          "shape": "circle",
          "shape_attrs": {
           "r": 15
          },
          "value": null,
          "weight": 36,
          "x": 286.03838221511705,
          "y": 203.21188834768566
         },
         "target": {
          "index": 6,
          "label": "Mon Mothma",
          "label_display": "center",
          "media": [
           "Return of the Jedi"
          ],
          "px": 292.059123638708,
          "py": 270.96270645630767,
          "shape": "circle",
          "shape_attrs": {
           "r": 15
          },
          "value": null,
          "weight": 12,
          "x": 292.0648433771736,
          "y": 271.0604757522572
         }
        },
        {
         "source": {
          "index": 4,
          "label": "Obi-Wan Kenobi",
          "label_display": "center",
          "media": [
           "A New Hope",
           "The Empire Strikes Back",
           "Return of the Jedi",
           "The Phantom Menace",
           "Attack of the Clones",
           "Revenge of the Sith"
          ],
          "px": 347.0555055216244,
          "py": 282.10952025713146,
          "shape": "circle",
          "shape_attrs": {
           "r": 15
          },
          "value": null,
          "weight": 50,
          "x": 347.10610314500343,
          "y": 282.22495397083145
         },
         "target": {
          "index": 3,
          "label": "Darth Vader",
          "label_display": "center",
          "media": [
           "A New Hope",
           "The Empire Strikes Back",
           "Return of the Jedi",
           "Revenge of the Sith"
          ],
          "px": 286.1160113972277,
          "py": 203.27999868082094,
          "shape": "circle",
          "shape_attrs": {
           "r": 15
          },
          "value": null,
          "weight": 36,
          "x": 286.03838221511705,
          "y": 203.21188834768566
         }
        },
        {
         "source": {
          "index": 4,
          "label": "Obi-Wan Kenobi",
          "label_display": "center",
          "media": [
           "A New Hope",
           "The Empire Strikes Back",
           "Return of the Jedi",
           "The Phantom Menace",
           "Attack of the Clones",
           "Revenge of the Sith"
          ],
          "px": 347.0555055216244,
          "py": 282.10952025713146,
          "shape": "circle",
          "shape_attrs": {
           "r": 15
          },
          "value": null,
          "weight": 50,
          "x": 347.10610314500343,
          "y": 282.22495397083145
         },
         "target": {
          "index": 4,
          "label": "Obi-Wan Kenobi",
          "label_display": "center",
          "media": [
           "A New Hope",
           "The Empire Strikes Back",
           "Return of the Jedi",
           "The Phantom Menace",
           "Attack of the Clones",
           "Revenge of the Sith"
          ],
          "px": 347.0555055216244,
          "py": 282.10952025713146,
          "shape": "circle",
          "shape_attrs": {
           "r": 15
          },
          "value": null,
          "weight": 50,
          "x": 347.10610314500343,
          "y": 282.22495397083145
         }
        },
        {
         "source": {
          "index": 4,
          "label": "Obi-Wan Kenobi",
          "label_display": "center",
          "media": [
           "A New Hope",
           "The Empire Strikes Back",
           "Return of the Jedi",
           "The Phantom Menace",
           "Attack of the Clones",
           "Revenge of the Sith"
          ],
          "px": 347.0555055216244,
          "py": 282.10952025713146,
          "shape": "circle",
          "shape_attrs": {
           "r": 15
          },
          "value": null,
          "weight": 50,
          "x": 347.10610314500343,
          "y": 282.22495397083145
         },
         "target": {
          "index": 2,
          "label": "Jabba Desilijic Tiure",
          "label_display": "center",
          "media": [
           "A New Hope",
           "Return of the Jedi",
           "The Phantom Menace"
          ],
          "px": 411.2774982903746,
          "py": 246.10066533827884,
          "shape": "circle",
          "shape_attrs": {
           "r": 15
          },
          "value": null,
          "weight": 26,
          "x": 411.40544970882263,
          "y": 246.15878974019802
         }
        },
        {
         "source": {
          "index": 4,
          "label": "Obi-Wan Kenobi",
          "label_display": "center",
          "media": [
           "A New Hope",
           "The Empire Strikes Back",
           "Return of the Jedi",
           "The Phantom Menace",
           "Attack of the Clones",
           "Revenge of the Sith"
          ],
          "px": 347.0555055216244,
          "py": 282.10952025713146,
          "shape": "circle",
          "shape_attrs": {
           "r": 15
          },
          "value": null,
          "weight": 50,
          "x": 347.10610314500343,
          "y": 282.22495397083145
         },
         "target": {
          "index": 1,
          "label": "Yoda",
          "label_display": "center",
          "media": [
           "The Empire Strikes Back",
           "Return of the Jedi",
           "The Phantom Menace",
           "Attack of the Clones",
           "Revenge of the Sith"
          ],
          "px": 382.86026645814934,
          "py": 189.54167056256384,
          "shape": "circle",
          "shape_attrs": {
           "r": 15
          },
          "value": null,
          "weight": 42,
          "x": 382.95982239343493,
          "y": 189.48199541589005
         }
        },
        {
         "source": {
          "index": 4,
          "label": "Obi-Wan Kenobi",
          "label_display": "center",
          "media": [
           "A New Hope",
           "The Empire Strikes Back",
           "Return of the Jedi",
           "The Phantom Menace",
           "Attack of the Clones",
           "Revenge of the Sith"
          ],
          "px": 347.0555055216244,
          "py": 282.10952025713146,
          "shape": "circle",
          "shape_attrs": {
           "r": 15
          },
          "value": null,
          "weight": 50,
          "x": 347.10610314500343,
          "y": 282.22495397083145
         },
         "target": {
          "index": 0,
          "label": "Boba Fett",
          "label_display": "center",
          "media": [
           "The Empire Strikes Back",
           "Return of the Jedi",
           "Attack of the Clones"
          ],
          "px": 317.85960209516287,
          "py": 158.14815176854148,
          "shape": "circle",
          "shape_attrs": {
           "r": 15
          },
          "value": null,
          "weight": 28,
          "x": 317.8693355956937,
          "y": 158.01067750076686
         }
        },
        {
         "source": {
          "index": 4,
          "label": "Obi-Wan Kenobi",
          "label_display": "center",
          "media": [
           "A New Hope",
           "The Empire Strikes Back",
           "Return of the Jedi",
           "The Phantom Menace",
           "Attack of the Clones",
           "Revenge of the Sith"
          ],
          "px": 347.0555055216244,
          "py": 282.10952025713146,
          "shape": "circle",
          "shape_attrs": {
           "r": 15
          },
          "value": null,
          "weight": 50,
          "x": 347.10610314500343,
          "y": 282.22495397083145
         },
         "target": {
          "index": 6,
          "label": "Mon Mothma",
          "label_display": "center",
          "media": [
           "Return of the Jedi"
          ],
          "px": 292.059123638708,
          "py": 270.96270645630767,
          "shape": "circle",
          "shape_attrs": {
           "r": 15
          },
          "value": null,
          "weight": 12,
          "x": 292.0648433771736,
          "y": 271.0604757522572
         }
        },
        {
         "source": {
          "index": 2,
          "label": "Jabba Desilijic Tiure",
          "label_display": "center",
          "media": [
           "A New Hope",
           "Return of the Jedi",
           "The Phantom Menace"
          ],
          "px": 411.2774982903746,
          "py": 246.10066533827884,
          "shape": "circle",
          "shape_attrs": {
           "r": 15
          },
          "value": null,
          "weight": 26,
          "x": 411.40544970882263,
          "y": 246.15878974019802
         },
         "target": {
          "index": 3,
          "label": "Darth Vader",
          "label_display": "center",
          "media": [
           "A New Hope",
           "The Empire Strikes Back",
           "Return of the Jedi",
           "Revenge of the Sith"
          ],
          "px": 286.1160113972277,
          "py": 203.27999868082094,
          "shape": "circle",
          "shape_attrs": {
           "r": 15
          },
          "value": null,
          "weight": 36,
          "x": 286.03838221511705,
          "y": 203.21188834768566
         }
        },
        {
         "source": {
          "index": 2,
          "label": "Jabba Desilijic Tiure",
          "label_display": "center",
          "media": [
           "A New Hope",
           "Return of the Jedi",
           "The Phantom Menace"
          ],
          "px": 411.2774982903746,
          "py": 246.10066533827884,
          "shape": "circle",
          "shape_attrs": {
           "r": 15
          },
          "value": null,
          "weight": 26,
          "x": 411.40544970882263,
          "y": 246.15878974019802
         },
         "target": {
          "index": 4,
          "label": "Obi-Wan Kenobi",
          "label_display": "center",
          "media": [
           "A New Hope",
           "The Empire Strikes Back",
           "Return of the Jedi",
           "The Phantom Menace",
           "Attack of the Clones",
           "Revenge of the Sith"
          ],
          "px": 347.0555055216244,
          "py": 282.10952025713146,
          "shape": "circle",
          "shape_attrs": {
           "r": 15
          },
          "value": null,
          "weight": 50,
          "x": 347.10610314500343,
          "y": 282.22495397083145
         }
        },
        {
         "source": {
          "index": 2,
          "label": "Jabba Desilijic Tiure",
          "label_display": "center",
          "media": [
           "A New Hope",
           "Return of the Jedi",
           "The Phantom Menace"
          ],
          "px": 411.2774982903746,
          "py": 246.10066533827884,
          "shape": "circle",
          "shape_attrs": {
           "r": 15
          },
          "value": null,
          "weight": 26,
          "x": 411.40544970882263,
          "y": 246.15878974019802
         },
         "target": {
          "index": 2,
          "label": "Jabba Desilijic Tiure",
          "label_display": "center",
          "media": [
           "A New Hope",
           "Return of the Jedi",
           "The Phantom Menace"
          ],
          "px": 411.2774982903746,
          "py": 246.10066533827884,
          "shape": "circle",
          "shape_attrs": {
           "r": 15
          },
          "value": null,
          "weight": 26,
          "x": 411.40544970882263,
          "y": 246.15878974019802
         }
        },
        {
         "source": {
          "index": 2,
          "label": "Jabba Desilijic Tiure",
          "label_display": "center",
          "media": [
           "A New Hope",
           "Return of the Jedi",
           "The Phantom Menace"
          ],
          "px": 411.2774982903746,
          "py": 246.10066533827884,
          "shape": "circle",
          "shape_attrs": {
           "r": 15
          },
          "value": null,
          "weight": 26,
          "x": 411.40544970882263,
          "y": 246.15878974019802
         },
         "target": {
          "index": 1,
          "label": "Yoda",
          "label_display": "center",
          "media": [
           "The Empire Strikes Back",
           "Return of the Jedi",
           "The Phantom Menace",
           "Attack of the Clones",
           "Revenge of the Sith"
          ],
          "px": 382.86026645814934,
          "py": 189.54167056256384,
          "shape": "circle",
          "shape_attrs": {
           "r": 15
          },
          "value": null,
          "weight": 42,
          "x": 382.95982239343493,
          "y": 189.48199541589005
         }
        },
        {
         "source": {
          "index": 2,
          "label": "Jabba Desilijic Tiure",
          "label_display": "center",
          "media": [
           "A New Hope",
           "Return of the Jedi",
           "The Phantom Menace"
          ],
          "px": 411.2774982903746,
          "py": 246.10066533827884,
          "shape": "circle",
          "shape_attrs": {
           "r": 15
          },
          "value": null,
          "weight": 26,
          "x": 411.40544970882263,
          "y": 246.15878974019802
         },
         "target": {
          "index": 0,
          "label": "Boba Fett",
          "label_display": "center",
          "media": [
           "The Empire Strikes Back",
           "Return of the Jedi",
           "Attack of the Clones"
          ],
          "px": 317.85960209516287,
          "py": 158.14815176854148,
          "shape": "circle",
          "shape_attrs": {
           "r": 15
          },
          "value": null,
          "weight": 28,
          "x": 317.8693355956937,
          "y": 158.01067750076686
         }
        },
        {
         "source": {
          "index": 2,
          "label": "Jabba Desilijic Tiure",
          "label_display": "center",
          "media": [
           "A New Hope",
           "Return of the Jedi",
           "The Phantom Menace"
          ],
          "px": 411.2774982903746,
          "py": 246.10066533827884,
          "shape": "circle",
          "shape_attrs": {
           "r": 15
          },
          "value": null,
          "weight": 26,
          "x": 411.40544970882263,
          "y": 246.15878974019802
         },
         "target": {
          "index": 6,
          "label": "Mon Mothma",
          "label_display": "center",
          "media": [
           "Return of the Jedi"
          ],
          "px": 292.059123638708,
          "py": 270.96270645630767,
          "shape": "circle",
          "shape_attrs": {
           "r": 15
          },
          "value": null,
          "weight": 12,
          "x": 292.0648433771736,
          "y": 271.0604757522572
         }
        },
        {
         "source": {
          "index": 1,
          "label": "Yoda",
          "label_display": "center",
          "media": [
           "The Empire Strikes Back",
           "Return of the Jedi",
           "The Phantom Menace",
           "Attack of the Clones",
           "Revenge of the Sith"
          ],
          "px": 382.86026645814934,
          "py": 189.54167056256384,
          "shape": "circle",
          "shape_attrs": {
           "r": 15
          },
          "value": null,
          "weight": 42,
          "x": 382.95982239343493,
          "y": 189.48199541589005
         },
         "target": {
          "index": 3,
          "label": "Darth Vader",
          "label_display": "center",
          "media": [
           "A New Hope",
           "The Empire Strikes Back",
           "Return of the Jedi",
           "Revenge of the Sith"
          ],
          "px": 286.1160113972277,
          "py": 203.27999868082094,
          "shape": "circle",
          "shape_attrs": {
           "r": 15
          },
          "value": null,
          "weight": 36,
          "x": 286.03838221511705,
          "y": 203.21188834768566
         }
        },
        {
         "source": {
          "index": 1,
          "label": "Yoda",
          "label_display": "center",
          "media": [
           "The Empire Strikes Back",
           "Return of the Jedi",
           "The Phantom Menace",
           "Attack of the Clones",
           "Revenge of the Sith"
          ],
          "px": 382.86026645814934,
          "py": 189.54167056256384,
          "shape": "circle",
          "shape_attrs": {
           "r": 15
          },
          "value": null,
          "weight": 42,
          "x": 382.95982239343493,
          "y": 189.48199541589005
         },
         "target": {
          "index": 4,
          "label": "Obi-Wan Kenobi",
          "label_display": "center",
          "media": [
           "A New Hope",
           "The Empire Strikes Back",
           "Return of the Jedi",
           "The Phantom Menace",
           "Attack of the Clones",
           "Revenge of the Sith"
          ],
          "px": 347.0555055216244,
          "py": 282.10952025713146,
          "shape": "circle",
          "shape_attrs": {
           "r": 15
          },
          "value": null,
          "weight": 50,
          "x": 347.10610314500343,
          "y": 282.22495397083145
         }
        },
        {
         "source": {
          "index": 1,
          "label": "Yoda",
          "label_display": "center",
          "media": [
           "The Empire Strikes Back",
           "Return of the Jedi",
           "The Phantom Menace",
           "Attack of the Clones",
           "Revenge of the Sith"
          ],
          "px": 382.86026645814934,
          "py": 189.54167056256384,
          "shape": "circle",
          "shape_attrs": {
           "r": 15
          },
          "value": null,
          "weight": 42,
          "x": 382.95982239343493,
          "y": 189.48199541589005
         },
         "target": {
          "index": 2,
          "label": "Jabba Desilijic Tiure",
          "label_display": "center",
          "media": [
           "A New Hope",
           "Return of the Jedi",
           "The Phantom Menace"
          ],
          "px": 411.2774982903746,
          "py": 246.10066533827884,
          "shape": "circle",
          "shape_attrs": {
           "r": 15
          },
          "value": null,
          "weight": 26,
          "x": 411.40544970882263,
          "y": 246.15878974019802
         }
        },
        {
         "source": {
          "index": 1,
          "label": "Yoda",
          "label_display": "center",
          "media": [
           "The Empire Strikes Back",
           "Return of the Jedi",
           "The Phantom Menace",
           "Attack of the Clones",
           "Revenge of the Sith"
          ],
          "px": 382.86026645814934,
          "py": 189.54167056256384,
          "shape": "circle",
          "shape_attrs": {
           "r": 15
          },
          "value": null,
          "weight": 42,
          "x": 382.95982239343493,
          "y": 189.48199541589005
         },
         "target": {
          "index": 1,
          "label": "Yoda",
          "label_display": "center",
          "media": [
           "The Empire Strikes Back",
           "Return of the Jedi",
           "The Phantom Menace",
           "Attack of the Clones",
           "Revenge of the Sith"
          ],
          "px": 382.86026645814934,
          "py": 189.54167056256384,
          "shape": "circle",
          "shape_attrs": {
           "r": 15
          },
          "value": null,
          "weight": 42,
          "x": 382.95982239343493,
          "y": 189.48199541589005
         }
        },
        {
         "source": {
          "index": 1,
          "label": "Yoda",
          "label_display": "center",
          "media": [
           "The Empire Strikes Back",
           "Return of the Jedi",
           "The Phantom Menace",
           "Attack of the Clones",
           "Revenge of the Sith"
          ],
          "px": 382.86026645814934,
          "py": 189.54167056256384,
          "shape": "circle",
          "shape_attrs": {
           "r": 15
          },
          "value": null,
          "weight": 42,
          "x": 382.95982239343493,
          "y": 189.48199541589005
         },
         "target": {
          "index": 0,
          "label": "Boba Fett",
          "label_display": "center",
          "media": [
           "The Empire Strikes Back",
           "Return of the Jedi",
           "Attack of the Clones"
          ],
          "px": 317.85960209516287,
          "py": 158.14815176854148,
          "shape": "circle",
          "shape_attrs": {
           "r": 15
          },
          "value": null,
          "weight": 28,
          "x": 317.8693355956937,
          "y": 158.01067750076686
         }
        },
        {
         "source": {
          "index": 1,
          "label": "Yoda",
          "label_display": "center",
          "media": [
           "The Empire Strikes Back",
           "Return of the Jedi",
           "The Phantom Menace",
           "Attack of the Clones",
           "Revenge of the Sith"
          ],
          "px": 382.86026645814934,
          "py": 189.54167056256384,
          "shape": "circle",
          "shape_attrs": {
           "r": 15
          },
          "value": null,
          "weight": 42,
          "x": 382.95982239343493,
          "y": 189.48199541589005
         },
         "target": {
          "index": 6,
          "label": "Mon Mothma",
          "label_display": "center",
          "media": [
           "Return of the Jedi"
          ],
          "px": 292.059123638708,
          "py": 270.96270645630767,
          "shape": "circle",
          "shape_attrs": {
           "r": 15
          },
          "value": null,
          "weight": 12,
          "x": 292.0648433771736,
          "y": 271.0604757522572
         }
        },
        {
         "source": {
          "index": 0,
          "label": "Boba Fett",
          "label_display": "center",
          "media": [
           "The Empire Strikes Back",
           "Return of the Jedi",
           "Attack of the Clones"
          ],
          "px": 317.85960209516287,
          "py": 158.14815176854148,
          "shape": "circle",
          "shape_attrs": {
           "r": 15
          },
          "value": null,
          "weight": 28,
          "x": 317.8693355956937,
          "y": 158.01067750076686
         },
         "target": {
          "index": 3,
          "label": "Darth Vader",
          "label_display": "center",
          "media": [
           "A New Hope",
           "The Empire Strikes Back",
           "Return of the Jedi",
           "Revenge of the Sith"
          ],
          "px": 286.1160113972277,
          "py": 203.27999868082094,
          "shape": "circle",
          "shape_attrs": {
           "r": 15
          },
          "value": null,
          "weight": 36,
          "x": 286.03838221511705,
          "y": 203.21188834768566
         }
        },
        {
         "source": {
          "index": 0,
          "label": "Boba Fett",
          "label_display": "center",
          "media": [
           "The Empire Strikes Back",
           "Return of the Jedi",
           "Attack of the Clones"
          ],
          "px": 317.85960209516287,
          "py": 158.14815176854148,
          "shape": "circle",
          "shape_attrs": {
           "r": 15
          },
          "value": null,
          "weight": 28,
          "x": 317.8693355956937,
          "y": 158.01067750076686
         },
         "target": {
          "index": 4,
          "label": "Obi-Wan Kenobi",
          "label_display": "center",
          "media": [
           "A New Hope",
           "The Empire Strikes Back",
           "Return of the Jedi",
           "The Phantom Menace",
           "Attack of the Clones",
           "Revenge of the Sith"
          ],
          "px": 347.0555055216244,
          "py": 282.10952025713146,
          "shape": "circle",
          "shape_attrs": {
           "r": 15
          },
          "value": null,
          "weight": 50,
          "x": 347.10610314500343,
          "y": 282.22495397083145
         }
        },
        {
         "source": {
          "index": 0,
          "label": "Boba Fett",
          "label_display": "center",
          "media": [
           "The Empire Strikes Back",
           "Return of the Jedi",
           "Attack of the Clones"
          ],
          "px": 317.85960209516287,
          "py": 158.14815176854148,
          "shape": "circle",
          "shape_attrs": {
           "r": 15
          },
          "value": null,
          "weight": 28,
          "x": 317.8693355956937,
          "y": 158.01067750076686
         },
         "target": {
          "index": 2,
          "label": "Jabba Desilijic Tiure",
          "label_display": "center",
          "media": [
           "A New Hope",
           "Return of the Jedi",
           "The Phantom Menace"
          ],
          "px": 411.2774982903746,
          "py": 246.10066533827884,
          "shape": "circle",
          "shape_attrs": {
           "r": 15
          },
          "value": null,
          "weight": 26,
          "x": 411.40544970882263,
          "y": 246.15878974019802
         }
        },
        {
         "source": {
          "index": 0,
          "label": "Boba Fett",
          "label_display": "center",
          "media": [
           "The Empire Strikes Back",
           "Return of the Jedi",
           "Attack of the Clones"
          ],
          "px": 317.85960209516287,
          "py": 158.14815176854148,
          "shape": "circle",
          "shape_attrs": {
           "r": 15
          },
          "value": null,
          "weight": 28,
          "x": 317.8693355956937,
          "y": 158.01067750076686
         },
         "target": {
          "index": 1,
          "label": "Yoda",
          "label_display": "center",
          "media": [
           "The Empire Strikes Back",
           "Return of the Jedi",
           "The Phantom Menace",
           "Attack of the Clones",
           "Revenge of the Sith"
          ],
          "px": 382.86026645814934,
          "py": 189.54167056256384,
          "shape": "circle",
          "shape_attrs": {
           "r": 15
          },
          "value": null,
          "weight": 42,
          "x": 382.95982239343493,
          "y": 189.48199541589005
         }
        },
        {
         "source": {
          "index": 0,
          "label": "Boba Fett",
          "label_display": "center",
          "media": [
           "The Empire Strikes Back",
           "Return of the Jedi",
           "Attack of the Clones"
          ],
          "px": 317.85960209516287,
          "py": 158.14815176854148,
          "shape": "circle",
          "shape_attrs": {
           "r": 15
          },
          "value": null,
          "weight": 28,
          "x": 317.8693355956937,
          "y": 158.01067750076686
         },
         "target": {
          "index": 0,
          "label": "Boba Fett",
          "label_display": "center",
          "media": [
           "The Empire Strikes Back",
           "Return of the Jedi",
           "Attack of the Clones"
          ],
          "px": 317.85960209516287,
          "py": 158.14815176854148,
          "shape": "circle",
          "shape_attrs": {
           "r": 15
          },
          "value": null,
          "weight": 28,
          "x": 317.8693355956937,
          "y": 158.01067750076686
         }
        },
        {
         "source": {
          "index": 0,
          "label": "Boba Fett",
          "label_display": "center",
          "media": [
           "The Empire Strikes Back",
           "Return of the Jedi",
           "Attack of the Clones"
          ],
          "px": 317.85960209516287,
          "py": 158.14815176854148,
          "shape": "circle",
          "shape_attrs": {
           "r": 15
          },
          "value": null,
          "weight": 28,
          "x": 317.8693355956937,
          "y": 158.01067750076686
         },
         "target": {
          "index": 6,
          "label": "Mon Mothma",
          "label_display": "center",
          "media": [
           "Return of the Jedi"
          ],
          "px": 292.059123638708,
          "py": 270.96270645630767,
          "shape": "circle",
          "shape_attrs": {
           "r": 15
          },
          "value": null,
          "weight": 12,
          "x": 292.0648433771736,
          "y": 271.0604757522572
         }
        },
        {
         "source": {
          "index": 6,
          "label": "Mon Mothma",
          "label_display": "center",
          "media": [
           "Return of the Jedi"
          ],
          "px": 292.059123638708,
          "py": 270.96270645630767,
          "shape": "circle",
          "shape_attrs": {
           "r": 15
          },
          "value": null,
          "weight": 12,
          "x": 292.0648433771736,
          "y": 271.0604757522572
         },
         "target": {
          "index": 3,
          "label": "Darth Vader",
          "label_display": "center",
          "media": [
           "A New Hope",
           "The Empire Strikes Back",
           "Return of the Jedi",
           "Revenge of the Sith"
          ],
          "px": 286.1160113972277,
          "py": 203.27999868082094,
          "shape": "circle",
          "shape_attrs": {
           "r": 15
          },
          "value": null,
          "weight": 36,
          "x": 286.03838221511705,
          "y": 203.21188834768566
         }
        },
        {
         "source": {
          "index": 6,
          "label": "Mon Mothma",
          "label_display": "center",
          "media": [
           "Return of the Jedi"
          ],
          "px": 292.059123638708,
          "py": 270.96270645630767,
          "shape": "circle",
          "shape_attrs": {
           "r": 15
          },
          "value": null,
          "weight": 12,
          "x": 292.0648433771736,
          "y": 271.0604757522572
         },
         "target": {
          "index": 4,
          "label": "Obi-Wan Kenobi",
          "label_display": "center",
          "media": [
           "A New Hope",
           "The Empire Strikes Back",
           "Return of the Jedi",
           "The Phantom Menace",
           "Attack of the Clones",
           "Revenge of the Sith"
          ],
          "px": 347.0555055216244,
          "py": 282.10952025713146,
          "shape": "circle",
          "shape_attrs": {
           "r": 15
          },
          "value": null,
          "weight": 50,
          "x": 347.10610314500343,
          "y": 282.22495397083145
         }
        },
        {
         "source": {
          "index": 6,
          "label": "Mon Mothma",
          "label_display": "center",
          "media": [
           "Return of the Jedi"
          ],
          "px": 292.059123638708,
          "py": 270.96270645630767,
          "shape": "circle",
          "shape_attrs": {
           "r": 15
          },
          "value": null,
          "weight": 12,
          "x": 292.0648433771736,
          "y": 271.0604757522572
         },
         "target": {
          "index": 2,
          "label": "Jabba Desilijic Tiure",
          "label_display": "center",
          "media": [
           "A New Hope",
           "Return of the Jedi",
           "The Phantom Menace"
          ],
          "px": 411.2774982903746,
          "py": 246.10066533827884,
          "shape": "circle",
          "shape_attrs": {
           "r": 15
          },
          "value": null,
          "weight": 26,
          "x": 411.40544970882263,
          "y": 246.15878974019802
         }
        },
        {
         "source": {
          "index": 6,
          "label": "Mon Mothma",
          "label_display": "center",
          "media": [
           "Return of the Jedi"
          ],
          "px": 292.059123638708,
          "py": 270.96270645630767,
          "shape": "circle",
          "shape_attrs": {
           "r": 15
          },
          "value": null,
          "weight": 12,
          "x": 292.0648433771736,
          "y": 271.0604757522572
         },
         "target": {
          "index": 1,
          "label": "Yoda",
          "label_display": "center",
          "media": [
           "The Empire Strikes Back",
           "Return of the Jedi",
           "The Phantom Menace",
           "Attack of the Clones",
           "Revenge of the Sith"
          ],
          "px": 382.86026645814934,
          "py": 189.54167056256384,
          "shape": "circle",
          "shape_attrs": {
           "r": 15
          },
          "value": null,
          "weight": 42,
          "x": 382.95982239343493,
          "y": 189.48199541589005
         }
        },
        {
         "source": {
          "index": 6,
          "label": "Mon Mothma",
          "label_display": "center",
          "media": [
           "Return of the Jedi"
          ],
          "px": 292.059123638708,
          "py": 270.96270645630767,
          "shape": "circle",
          "shape_attrs": {
           "r": 15
          },
          "value": null,
          "weight": 12,
          "x": 292.0648433771736,
          "y": 271.0604757522572
         },
         "target": {
          "index": 0,
          "label": "Boba Fett",
          "label_display": "center",
          "media": [
           "The Empire Strikes Back",
           "Return of the Jedi",
           "Attack of the Clones"
          ],
          "px": 317.85960209516287,
          "py": 158.14815176854148,
          "shape": "circle",
          "shape_attrs": {
           "r": 15
          },
          "value": null,
          "weight": 28,
          "x": 317.8693355956937,
          "y": 158.01067750076686
         }
        },
        {
         "source": {
          "index": 6,
          "label": "Mon Mothma",
          "label_display": "center",
          "media": [
           "Return of the Jedi"
          ],
          "px": 292.059123638708,
          "py": 270.96270645630767,
          "shape": "circle",
          "shape_attrs": {
           "r": 15
          },
          "value": null,
          "weight": 12,
          "x": 292.0648433771736,
          "y": 271.0604757522572
         },
         "target": {
          "index": 6,
          "label": "Mon Mothma",
          "label_display": "center",
          "media": [
           "Return of the Jedi"
          ],
          "px": 292.059123638708,
          "py": 270.96270645630767,
          "shape": "circle",
          "shape_attrs": {
           "r": 15
          },
          "value": null,
          "weight": 12,
          "x": 292.0648433771736,
          "y": 271.0604757522572
         }
        },
        {
         "source": {
          "index": 4,
          "label": "Obi-Wan Kenobi",
          "label_display": "center",
          "media": [
           "A New Hope",
           "The Empire Strikes Back",
           "Return of the Jedi",
           "The Phantom Menace",
           "Attack of the Clones",
           "Revenge of the Sith"
          ],
          "px": 347.0555055216244,
          "py": 282.10952025713146,
          "shape": "circle",
          "shape_attrs": {
           "r": 15
          },
          "value": null,
          "weight": 50,
          "x": 347.10610314500343,
          "y": 282.22495397083145
         },
         "target": {
          "index": 4,
          "label": "Obi-Wan Kenobi",
          "label_display": "center",
          "media": [
           "A New Hope",
           "The Empire Strikes Back",
           "Return of the Jedi",
           "The Phantom Menace",
           "Attack of the Clones",
           "Revenge of the Sith"
          ],
          "px": 347.0555055216244,
          "py": 282.10952025713146,
          "shape": "circle",
          "shape_attrs": {
           "r": 15
          },
          "value": null,
          "weight": 50,
          "x": 347.10610314500343,
          "y": 282.22495397083145
         }
        },
        {
         "source": {
          "index": 4,
          "label": "Obi-Wan Kenobi",
          "label_display": "center",
          "media": [
           "A New Hope",
           "The Empire Strikes Back",
           "Return of the Jedi",
           "The Phantom Menace",
           "Attack of the Clones",
           "Revenge of the Sith"
          ],
          "px": 347.0555055216244,
          "py": 282.10952025713146,
          "shape": "circle",
          "shape_attrs": {
           "r": 15
          },
          "value": null,
          "weight": 50,
          "x": 347.10610314500343,
          "y": 282.22495397083145
         },
         "target": {
          "index": 2,
          "label": "Jabba Desilijic Tiure",
          "label_display": "center",
          "media": [
           "A New Hope",
           "Return of the Jedi",
           "The Phantom Menace"
          ],
          "px": 411.2774982903746,
          "py": 246.10066533827884,
          "shape": "circle",
          "shape_attrs": {
           "r": 15
          },
          "value": null,
          "weight": 26,
          "x": 411.40544970882263,
          "y": 246.15878974019802
         }
        },
        {
         "source": {
          "index": 4,
          "label": "Obi-Wan Kenobi",
          "label_display": "center",
          "media": [
           "A New Hope",
           "The Empire Strikes Back",
           "Return of the Jedi",
           "The Phantom Menace",
           "Attack of the Clones",
           "Revenge of the Sith"
          ],
          "px": 347.0555055216244,
          "py": 282.10952025713146,
          "shape": "circle",
          "shape_attrs": {
           "r": 15
          },
          "value": null,
          "weight": 50,
          "x": 347.10610314500343,
          "y": 282.22495397083145
         },
         "target": {
          "index": 1,
          "label": "Yoda",
          "label_display": "center",
          "media": [
           "The Empire Strikes Back",
           "Return of the Jedi",
           "The Phantom Menace",
           "Attack of the Clones",
           "Revenge of the Sith"
          ],
          "px": 382.86026645814934,
          "py": 189.54167056256384,
          "shape": "circle",
          "shape_attrs": {
           "r": 15
          },
          "value": null,
          "weight": 42,
          "x": 382.95982239343493,
          "y": 189.48199541589005
         }
        },
        {
         "source": {
          "index": 2,
          "label": "Jabba Desilijic Tiure",
          "label_display": "center",
          "media": [
           "A New Hope",
           "Return of the Jedi",
           "The Phantom Menace"
          ],
          "px": 411.2774982903746,
          "py": 246.10066533827884,
          "shape": "circle",
          "shape_attrs": {
           "r": 15
          },
          "value": null,
          "weight": 26,
          "x": 411.40544970882263,
          "y": 246.15878974019802
         },
         "target": {
          "index": 4,
          "label": "Obi-Wan Kenobi",
          "label_display": "center",
          "media": [
           "A New Hope",
           "The Empire Strikes Back",
           "Return of the Jedi",
           "The Phantom Menace",
           "Attack of the Clones",
           "Revenge of the Sith"
          ],
          "px": 347.0555055216244,
          "py": 282.10952025713146,
          "shape": "circle",
          "shape_attrs": {
           "r": 15
          },
          "value": null,
          "weight": 50,
          "x": 347.10610314500343,
          "y": 282.22495397083145
         }
        },
        {
         "source": {
          "index": 2,
          "label": "Jabba Desilijic Tiure",
          "label_display": "center",
          "media": [
           "A New Hope",
           "Return of the Jedi",
           "The Phantom Menace"
          ],
          "px": 411.2774982903746,
          "py": 246.10066533827884,
          "shape": "circle",
          "shape_attrs": {
           "r": 15
          },
          "value": null,
          "weight": 26,
          "x": 411.40544970882263,
          "y": 246.15878974019802
         },
         "target": {
          "index": 2,
          "label": "Jabba Desilijic Tiure",
          "label_display": "center",
          "media": [
           "A New Hope",
           "Return of the Jedi",
           "The Phantom Menace"
          ],
          "px": 411.2774982903746,
          "py": 246.10066533827884,
          "shape": "circle",
          "shape_attrs": {
           "r": 15
          },
          "value": null,
          "weight": 26,
          "x": 411.40544970882263,
          "y": 246.15878974019802
         }
        },
        {
         "source": {
          "index": 2,
          "label": "Jabba Desilijic Tiure",
          "label_display": "center",
          "media": [
           "A New Hope",
           "Return of the Jedi",
           "The Phantom Menace"
          ],
          "px": 411.2774982903746,
          "py": 246.10066533827884,
          "shape": "circle",
          "shape_attrs": {
           "r": 15
          },
          "value": null,
          "weight": 26,
          "x": 411.40544970882263,
          "y": 246.15878974019802
         },
         "target": {
          "index": 1,
          "label": "Yoda",
          "label_display": "center",
          "media": [
           "The Empire Strikes Back",
           "Return of the Jedi",
           "The Phantom Menace",
           "Attack of the Clones",
           "Revenge of the Sith"
          ],
          "px": 382.86026645814934,
          "py": 189.54167056256384,
          "shape": "circle",
          "shape_attrs": {
           "r": 15
          },
          "value": null,
          "weight": 42,
          "x": 382.95982239343493,
          "y": 189.48199541589005
         }
        },
        {
         "source": {
          "index": 1,
          "label": "Yoda",
          "label_display": "center",
          "media": [
           "The Empire Strikes Back",
           "Return of the Jedi",
           "The Phantom Menace",
           "Attack of the Clones",
           "Revenge of the Sith"
          ],
          "px": 382.86026645814934,
          "py": 189.54167056256384,
          "shape": "circle",
          "shape_attrs": {
           "r": 15
          },
          "value": null,
          "weight": 42,
          "x": 382.95982239343493,
          "y": 189.48199541589005
         },
         "target": {
          "index": 4,
          "label": "Obi-Wan Kenobi",
          "label_display": "center",
          "media": [
           "A New Hope",
           "The Empire Strikes Back",
           "Return of the Jedi",
           "The Phantom Menace",
           "Attack of the Clones",
           "Revenge of the Sith"
          ],
          "px": 347.0555055216244,
          "py": 282.10952025713146,
          "shape": "circle",
          "shape_attrs": {
           "r": 15
          },
          "value": null,
          "weight": 50,
          "x": 347.10610314500343,
          "y": 282.22495397083145
         }
        },
        {
         "source": {
          "index": 1,
          "label": "Yoda",
          "label_display": "center",
          "media": [
           "The Empire Strikes Back",
           "Return of the Jedi",
           "The Phantom Menace",
           "Attack of the Clones",
           "Revenge of the Sith"
          ],
          "px": 382.86026645814934,
          "py": 189.54167056256384,
          "shape": "circle",
          "shape_attrs": {
           "r": 15
          },
          "value": null,
          "weight": 42,
          "x": 382.95982239343493,
          "y": 189.48199541589005
         },
         "target": {
          "index": 2,
          "label": "Jabba Desilijic Tiure",
          "label_display": "center",
          "media": [
           "A New Hope",
           "Return of the Jedi",
           "The Phantom Menace"
          ],
          "px": 411.2774982903746,
          "py": 246.10066533827884,
          "shape": "circle",
          "shape_attrs": {
           "r": 15
          },
          "value": null,
          "weight": 26,
          "x": 411.40544970882263,
          "y": 246.15878974019802
         }
        },
        {
         "source": {
          "index": 1,
          "label": "Yoda",
          "label_display": "center",
          "media": [
           "The Empire Strikes Back",
           "Return of the Jedi",
           "The Phantom Menace",
           "Attack of the Clones",
           "Revenge of the Sith"
          ],
          "px": 382.86026645814934,
          "py": 189.54167056256384,
          "shape": "circle",
          "shape_attrs": {
           "r": 15
          },
          "value": null,
          "weight": 42,
          "x": 382.95982239343493,
          "y": 189.48199541589005
         },
         "target": {
          "index": 1,
          "label": "Yoda",
          "label_display": "center",
          "media": [
           "The Empire Strikes Back",
           "Return of the Jedi",
           "The Phantom Menace",
           "Attack of the Clones",
           "Revenge of the Sith"
          ],
          "px": 382.86026645814934,
          "py": 189.54167056256384,
          "shape": "circle",
          "shape_attrs": {
           "r": 15
          },
          "value": null,
          "weight": 42,
          "x": 382.95982239343493,
          "y": 189.48199541589005
         }
        },
        {
         "source": {
          "index": 5,
          "label": "Beru Whitesun lars",
          "label_display": "center",
          "media": [
           "A New Hope",
           "Attack of the Clones",
           "Revenge of the Sith"
          ],
          "px": 268.06316564322964,
          "py": 263.5411594264449,
          "shape": "circle",
          "shape_attrs": {
           "r": 15
          },
          "value": null,
          "weight": 24,
          "x": 267.8688266592177,
          "y": 263.57491706945547
         },
         "target": {
          "index": 5,
          "label": "Beru Whitesun lars",
          "label_display": "center",
          "media": [
           "A New Hope",
           "Attack of the Clones",
           "Revenge of the Sith"
          ],
          "px": 268.06316564322964,
          "py": 263.5411594264449,
          "shape": "circle",
          "shape_attrs": {
           "r": 15
          },
          "value": null,
          "weight": 24,
          "x": 267.8688266592177,
          "y": 263.57491706945547
         }
        },
        {
         "source": {
          "index": 5,
          "label": "Beru Whitesun lars",
          "label_display": "center",
          "media": [
           "A New Hope",
           "Attack of the Clones",
           "Revenge of the Sith"
          ],
          "px": 268.06316564322964,
          "py": 263.5411594264449,
          "shape": "circle",
          "shape_attrs": {
           "r": 15
          },
          "value": null,
          "weight": 24,
          "x": 267.8688266592177,
          "y": 263.57491706945547
         },
         "target": {
          "index": 4,
          "label": "Obi-Wan Kenobi",
          "label_display": "center",
          "media": [
           "A New Hope",
           "The Empire Strikes Back",
           "Return of the Jedi",
           "The Phantom Menace",
           "Attack of the Clones",
           "Revenge of the Sith"
          ],
          "px": 347.0555055216244,
          "py": 282.10952025713146,
          "shape": "circle",
          "shape_attrs": {
           "r": 15
          },
          "value": null,
          "weight": 50,
          "x": 347.10610314500343,
          "y": 282.22495397083145
         }
        },
        {
         "source": {
          "index": 5,
          "label": "Beru Whitesun lars",
          "label_display": "center",
          "media": [
           "A New Hope",
           "Attack of the Clones",
           "Revenge of the Sith"
          ],
          "px": 268.06316564322964,
          "py": 263.5411594264449,
          "shape": "circle",
          "shape_attrs": {
           "r": 15
          },
          "value": null,
          "weight": 24,
          "x": 267.8688266592177,
          "y": 263.57491706945547
         },
         "target": {
          "index": 1,
          "label": "Yoda",
          "label_display": "center",
          "media": [
           "The Empire Strikes Back",
           "Return of the Jedi",
           "The Phantom Menace",
           "Attack of the Clones",
           "Revenge of the Sith"
          ],
          "px": 382.86026645814934,
          "py": 189.54167056256384,
          "shape": "circle",
          "shape_attrs": {
           "r": 15
          },
          "value": null,
          "weight": 42,
          "x": 382.95982239343493,
          "y": 189.48199541589005
         }
        },
        {
         "source": {
          "index": 5,
          "label": "Beru Whitesun lars",
          "label_display": "center",
          "media": [
           "A New Hope",
           "Attack of the Clones",
           "Revenge of the Sith"
          ],
          "px": 268.06316564322964,
          "py": 263.5411594264449,
          "shape": "circle",
          "shape_attrs": {
           "r": 15
          },
          "value": null,
          "weight": 24,
          "x": 267.8688266592177,
          "y": 263.57491706945547
         },
         "target": {
          "index": 0,
          "label": "Boba Fett",
          "label_display": "center",
          "media": [
           "The Empire Strikes Back",
           "Return of the Jedi",
           "Attack of the Clones"
          ],
          "px": 317.85960209516287,
          "py": 158.14815176854148,
          "shape": "circle",
          "shape_attrs": {
           "r": 15
          },
          "value": null,
          "weight": 28,
          "x": 317.8693355956937,
          "y": 158.01067750076686
         }
        },
        {
         "source": {
          "index": 4,
          "label": "Obi-Wan Kenobi",
          "label_display": "center",
          "media": [
           "A New Hope",
           "The Empire Strikes Back",
           "Return of the Jedi",
           "The Phantom Menace",
           "Attack of the Clones",
           "Revenge of the Sith"
          ],
          "px": 347.0555055216244,
          "py": 282.10952025713146,
          "shape": "circle",
          "shape_attrs": {
           "r": 15
          },
          "value": null,
          "weight": 50,
          "x": 347.10610314500343,
          "y": 282.22495397083145
         },
         "target": {
          "index": 5,
          "label": "Beru Whitesun lars",
          "label_display": "center",
          "media": [
           "A New Hope",
           "Attack of the Clones",
           "Revenge of the Sith"
          ],
          "px": 268.06316564322964,
          "py": 263.5411594264449,
          "shape": "circle",
          "shape_attrs": {
           "r": 15
          },
          "value": null,
          "weight": 24,
          "x": 267.8688266592177,
          "y": 263.57491706945547
         }
        },
        {
         "source": {
          "index": 4,
          "label": "Obi-Wan Kenobi",
          "label_display": "center",
          "media": [
           "A New Hope",
           "The Empire Strikes Back",
           "Return of the Jedi",
           "The Phantom Menace",
           "Attack of the Clones",
           "Revenge of the Sith"
          ],
          "px": 347.0555055216244,
          "py": 282.10952025713146,
          "shape": "circle",
          "shape_attrs": {
           "r": 15
          },
          "value": null,
          "weight": 50,
          "x": 347.10610314500343,
          "y": 282.22495397083145
         },
         "target": {
          "index": 4,
          "label": "Obi-Wan Kenobi",
          "label_display": "center",
          "media": [
           "A New Hope",
           "The Empire Strikes Back",
           "Return of the Jedi",
           "The Phantom Menace",
           "Attack of the Clones",
           "Revenge of the Sith"
          ],
          "px": 347.0555055216244,
          "py": 282.10952025713146,
          "shape": "circle",
          "shape_attrs": {
           "r": 15
          },
          "value": null,
          "weight": 50,
          "x": 347.10610314500343,
          "y": 282.22495397083145
         }
        },
        {
         "source": {
          "index": 4,
          "label": "Obi-Wan Kenobi",
          "label_display": "center",
          "media": [
           "A New Hope",
           "The Empire Strikes Back",
           "Return of the Jedi",
           "The Phantom Menace",
           "Attack of the Clones",
           "Revenge of the Sith"
          ],
          "px": 347.0555055216244,
          "py": 282.10952025713146,
          "shape": "circle",
          "shape_attrs": {
           "r": 15
          },
          "value": null,
          "weight": 50,
          "x": 347.10610314500343,
          "y": 282.22495397083145
         },
         "target": {
          "index": 1,
          "label": "Yoda",
          "label_display": "center",
          "media": [
           "The Empire Strikes Back",
           "Return of the Jedi",
           "The Phantom Menace",
           "Attack of the Clones",
           "Revenge of the Sith"
          ],
          "px": 382.86026645814934,
          "py": 189.54167056256384,
          "shape": "circle",
          "shape_attrs": {
           "r": 15
          },
          "value": null,
          "weight": 42,
          "x": 382.95982239343493,
          "y": 189.48199541589005
         }
        },
        {
         "source": {
          "index": 4,
          "label": "Obi-Wan Kenobi",
          "label_display": "center",
          "media": [
           "A New Hope",
           "The Empire Strikes Back",
           "Return of the Jedi",
           "The Phantom Menace",
           "Attack of the Clones",
           "Revenge of the Sith"
          ],
          "px": 347.0555055216244,
          "py": 282.10952025713146,
          "shape": "circle",
          "shape_attrs": {
           "r": 15
          },
          "value": null,
          "weight": 50,
          "x": 347.10610314500343,
          "y": 282.22495397083145
         },
         "target": {
          "index": 0,
          "label": "Boba Fett",
          "label_display": "center",
          "media": [
           "The Empire Strikes Back",
           "Return of the Jedi",
           "Attack of the Clones"
          ],
          "px": 317.85960209516287,
          "py": 158.14815176854148,
          "shape": "circle",
          "shape_attrs": {
           "r": 15
          },
          "value": null,
          "weight": 28,
          "x": 317.8693355956937,
          "y": 158.01067750076686
         }
        },
        {
         "source": {
          "index": 1,
          "label": "Yoda",
          "label_display": "center",
          "media": [
           "The Empire Strikes Back",
           "Return of the Jedi",
           "The Phantom Menace",
           "Attack of the Clones",
           "Revenge of the Sith"
          ],
          "px": 382.86026645814934,
          "py": 189.54167056256384,
          "shape": "circle",
          "shape_attrs": {
           "r": 15
          },
          "value": null,
          "weight": 42,
          "x": 382.95982239343493,
          "y": 189.48199541589005
         },
         "target": {
          "index": 5,
          "label": "Beru Whitesun lars",
          "label_display": "center",
          "media": [
           "A New Hope",
           "Attack of the Clones",
           "Revenge of the Sith"
          ],
          "px": 268.06316564322964,
          "py": 263.5411594264449,
          "shape": "circle",
          "shape_attrs": {
           "r": 15
          },
          "value": null,
          "weight": 24,
          "x": 267.8688266592177,
          "y": 263.57491706945547
         }
        },
        {
         "source": {
          "index": 1,
          "label": "Yoda",
          "label_display": "center",
          "media": [
           "The Empire Strikes Back",
           "Return of the Jedi",
           "The Phantom Menace",
           "Attack of the Clones",
           "Revenge of the Sith"
          ],
          "px": 382.86026645814934,
          "py": 189.54167056256384,
          "shape": "circle",
          "shape_attrs": {
           "r": 15
          },
          "value": null,
          "weight": 42,
          "x": 382.95982239343493,
          "y": 189.48199541589005
         },
         "target": {
          "index": 4,
          "label": "Obi-Wan Kenobi",
          "label_display": "center",
          "media": [
           "A New Hope",
           "The Empire Strikes Back",
           "Return of the Jedi",
           "The Phantom Menace",
           "Attack of the Clones",
           "Revenge of the Sith"
          ],
          "px": 347.0555055216244,
          "py": 282.10952025713146,
          "shape": "circle",
          "shape_attrs": {
           "r": 15
          },
          "value": null,
          "weight": 50,
          "x": 347.10610314500343,
          "y": 282.22495397083145
         }
        },
        {
         "source": {
          "index": 1,
          "label": "Yoda",
          "label_display": "center",
          "media": [
           "The Empire Strikes Back",
           "Return of the Jedi",
           "The Phantom Menace",
           "Attack of the Clones",
           "Revenge of the Sith"
          ],
          "px": 382.86026645814934,
          "py": 189.54167056256384,
          "shape": "circle",
          "shape_attrs": {
           "r": 15
          },
          "value": null,
          "weight": 42,
          "x": 382.95982239343493,
          "y": 189.48199541589005
         },
         "target": {
          "index": 1,
          "label": "Yoda",
          "label_display": "center",
          "media": [
           "The Empire Strikes Back",
           "Return of the Jedi",
           "The Phantom Menace",
           "Attack of the Clones",
           "Revenge of the Sith"
          ],
          "px": 382.86026645814934,
          "py": 189.54167056256384,
          "shape": "circle",
          "shape_attrs": {
           "r": 15
          },
          "value": null,
          "weight": 42,
          "x": 382.95982239343493,
          "y": 189.48199541589005
         }
        },
        {
         "source": {
          "index": 1,
          "label": "Yoda",
          "label_display": "center",
          "media": [
           "The Empire Strikes Back",
           "Return of the Jedi",
           "The Phantom Menace",
           "Attack of the Clones",
           "Revenge of the Sith"
          ],
          "px": 382.86026645814934,
          "py": 189.54167056256384,
          "shape": "circle",
          "shape_attrs": {
           "r": 15
          },
          "value": null,
          "weight": 42,
          "x": 382.95982239343493,
          "y": 189.48199541589005
         },
         "target": {
          "index": 0,
          "label": "Boba Fett",
          "label_display": "center",
          "media": [
           "The Empire Strikes Back",
           "Return of the Jedi",
           "Attack of the Clones"
          ],
          "px": 317.85960209516287,
          "py": 158.14815176854148,
          "shape": "circle",
          "shape_attrs": {
           "r": 15
          },
          "value": null,
          "weight": 28,
          "x": 317.8693355956937,
          "y": 158.01067750076686
         }
        },
        {
         "source": {
          "index": 0,
          "label": "Boba Fett",
          "label_display": "center",
          "media": [
           "The Empire Strikes Back",
           "Return of the Jedi",
           "Attack of the Clones"
          ],
          "px": 317.85960209516287,
          "py": 158.14815176854148,
          "shape": "circle",
          "shape_attrs": {
           "r": 15
          },
          "value": null,
          "weight": 28,
          "x": 317.8693355956937,
          "y": 158.01067750076686
         },
         "target": {
          "index": 5,
          "label": "Beru Whitesun lars",
          "label_display": "center",
          "media": [
           "A New Hope",
           "Attack of the Clones",
           "Revenge of the Sith"
          ],
          "px": 268.06316564322964,
          "py": 263.5411594264449,
          "shape": "circle",
          "shape_attrs": {
           "r": 15
          },
          "value": null,
          "weight": 24,
          "x": 267.8688266592177,
          "y": 263.57491706945547
         }
        },
        {
         "source": {
          "index": 0,
          "label": "Boba Fett",
          "label_display": "center",
          "media": [
           "The Empire Strikes Back",
           "Return of the Jedi",
           "Attack of the Clones"
          ],
          "px": 317.85960209516287,
          "py": 158.14815176854148,
          "shape": "circle",
          "shape_attrs": {
           "r": 15
          },
          "value": null,
          "weight": 28,
          "x": 317.8693355956937,
          "y": 158.01067750076686
         },
         "target": {
          "index": 4,
          "label": "Obi-Wan Kenobi",
          "label_display": "center",
          "media": [
           "A New Hope",
           "The Empire Strikes Back",
           "Return of the Jedi",
           "The Phantom Menace",
           "Attack of the Clones",
           "Revenge of the Sith"
          ],
          "px": 347.0555055216244,
          "py": 282.10952025713146,
          "shape": "circle",
          "shape_attrs": {
           "r": 15
          },
          "value": null,
          "weight": 50,
          "x": 347.10610314500343,
          "y": 282.22495397083145
         }
        },
        {
         "source": {
          "index": 0,
          "label": "Boba Fett",
          "label_display": "center",
          "media": [
           "The Empire Strikes Back",
           "Return of the Jedi",
           "Attack of the Clones"
          ],
          "px": 317.85960209516287,
          "py": 158.14815176854148,
          "shape": "circle",
          "shape_attrs": {
           "r": 15
          },
          "value": null,
          "weight": 28,
          "x": 317.8693355956937,
          "y": 158.01067750076686
         },
         "target": {
          "index": 1,
          "label": "Yoda",
          "label_display": "center",
          "media": [
           "The Empire Strikes Back",
           "Return of the Jedi",
           "The Phantom Menace",
           "Attack of the Clones",
           "Revenge of the Sith"
          ],
          "px": 382.86026645814934,
          "py": 189.54167056256384,
          "shape": "circle",
          "shape_attrs": {
           "r": 15
          },
          "value": null,
          "weight": 42,
          "x": 382.95982239343493,
          "y": 189.48199541589005
         }
        },
        {
         "source": {
          "index": 0,
          "label": "Boba Fett",
          "label_display": "center",
          "media": [
           "The Empire Strikes Back",
           "Return of the Jedi",
           "Attack of the Clones"
          ],
          "px": 317.85960209516287,
          "py": 158.14815176854148,
          "shape": "circle",
          "shape_attrs": {
           "r": 15
          },
          "value": null,
          "weight": 28,
          "x": 317.8693355956937,
          "y": 158.01067750076686
         },
         "target": {
          "index": 0,
          "label": "Boba Fett",
          "label_display": "center",
          "media": [
           "The Empire Strikes Back",
           "Return of the Jedi",
           "Attack of the Clones"
          ],
          "px": 317.85960209516287,
          "py": 158.14815176854148,
          "shape": "circle",
          "shape_attrs": {
           "r": 15
          },
          "value": null,
          "weight": 28,
          "x": 317.8693355956937,
          "y": 158.01067750076686
         }
        },
        {
         "source": {
          "index": 3,
          "label": "Darth Vader",
          "label_display": "center",
          "media": [
           "A New Hope",
           "The Empire Strikes Back",
           "Return of the Jedi",
           "Revenge of the Sith"
          ],
          "px": 286.1160113972277,
          "py": 203.27999868082094,
          "shape": "circle",
          "shape_attrs": {
           "r": 15
          },
          "value": null,
          "weight": 36,
          "x": 286.03838221511705,
          "y": 203.21188834768566
         },
         "target": {
          "index": 3,
          "label": "Darth Vader",
          "label_display": "center",
          "media": [
           "A New Hope",
           "The Empire Strikes Back",
           "Return of the Jedi",
           "Revenge of the Sith"
          ],
          "px": 286.1160113972277,
          "py": 203.27999868082094,
          "shape": "circle",
          "shape_attrs": {
           "r": 15
          },
          "value": null,
          "weight": 36,
          "x": 286.03838221511705,
          "y": 203.21188834768566
         }
        },
        {
         "source": {
          "index": 3,
          "label": "Darth Vader",
          "label_display": "center",
          "media": [
           "A New Hope",
           "The Empire Strikes Back",
           "Return of the Jedi",
           "Revenge of the Sith"
          ],
          "px": 286.1160113972277,
          "py": 203.27999868082094,
          "shape": "circle",
          "shape_attrs": {
           "r": 15
          },
          "value": null,
          "weight": 36,
          "x": 286.03838221511705,
          "y": 203.21188834768566
         },
         "target": {
          "index": 5,
          "label": "Beru Whitesun lars",
          "label_display": "center",
          "media": [
           "A New Hope",
           "Attack of the Clones",
           "Revenge of the Sith"
          ],
          "px": 268.06316564322964,
          "py": 263.5411594264449,
          "shape": "circle",
          "shape_attrs": {
           "r": 15
          },
          "value": null,
          "weight": 24,
          "x": 267.8688266592177,
          "y": 263.57491706945547
         }
        },
        {
         "source": {
          "index": 3,
          "label": "Darth Vader",
          "label_display": "center",
          "media": [
           "A New Hope",
           "The Empire Strikes Back",
           "Return of the Jedi",
           "Revenge of the Sith"
          ],
          "px": 286.1160113972277,
          "py": 203.27999868082094,
          "shape": "circle",
          "shape_attrs": {
           "r": 15
          },
          "value": null,
          "weight": 36,
          "x": 286.03838221511705,
          "y": 203.21188834768566
         },
         "target": {
          "index": 4,
          "label": "Obi-Wan Kenobi",
          "label_display": "center",
          "media": [
           "A New Hope",
           "The Empire Strikes Back",
           "Return of the Jedi",
           "The Phantom Menace",
           "Attack of the Clones",
           "Revenge of the Sith"
          ],
          "px": 347.0555055216244,
          "py": 282.10952025713146,
          "shape": "circle",
          "shape_attrs": {
           "r": 15
          },
          "value": null,
          "weight": 50,
          "x": 347.10610314500343,
          "y": 282.22495397083145
         }
        },
        {
         "source": {
          "index": 3,
          "label": "Darth Vader",
          "label_display": "center",
          "media": [
           "A New Hope",
           "The Empire Strikes Back",
           "Return of the Jedi",
           "Revenge of the Sith"
          ],
          "px": 286.1160113972277,
          "py": 203.27999868082094,
          "shape": "circle",
          "shape_attrs": {
           "r": 15
          },
          "value": null,
          "weight": 36,
          "x": 286.03838221511705,
          "y": 203.21188834768566
         },
         "target": {
          "index": 1,
          "label": "Yoda",
          "label_display": "center",
          "media": [
           "The Empire Strikes Back",
           "Return of the Jedi",
           "The Phantom Menace",
           "Attack of the Clones",
           "Revenge of the Sith"
          ],
          "px": 382.86026645814934,
          "py": 189.54167056256384,
          "shape": "circle",
          "shape_attrs": {
           "r": 15
          },
          "value": null,
          "weight": 42,
          "x": 382.95982239343493,
          "y": 189.48199541589005
         }
        },
        {
         "source": {
          "index": 5,
          "label": "Beru Whitesun lars",
          "label_display": "center",
          "media": [
           "A New Hope",
           "Attack of the Clones",
           "Revenge of the Sith"
          ],
          "px": 268.06316564322964,
          "py": 263.5411594264449,
          "shape": "circle",
          "shape_attrs": {
           "r": 15
          },
          "value": null,
          "weight": 24,
          "x": 267.8688266592177,
          "y": 263.57491706945547
         },
         "target": {
          "index": 3,
          "label": "Darth Vader",
          "label_display": "center",
          "media": [
           "A New Hope",
           "The Empire Strikes Back",
           "Return of the Jedi",
           "Revenge of the Sith"
          ],
          "px": 286.1160113972277,
          "py": 203.27999868082094,
          "shape": "circle",
          "shape_attrs": {
           "r": 15
          },
          "value": null,
          "weight": 36,
          "x": 286.03838221511705,
          "y": 203.21188834768566
         }
        },
        {
         "source": {
          "index": 5,
          "label": "Beru Whitesun lars",
          "label_display": "center",
          "media": [
           "A New Hope",
           "Attack of the Clones",
           "Revenge of the Sith"
          ],
          "px": 268.06316564322964,
          "py": 263.5411594264449,
          "shape": "circle",
          "shape_attrs": {
           "r": 15
          },
          "value": null,
          "weight": 24,
          "x": 267.8688266592177,
          "y": 263.57491706945547
         },
         "target": {
          "index": 5,
          "label": "Beru Whitesun lars",
          "label_display": "center",
          "media": [
           "A New Hope",
           "Attack of the Clones",
           "Revenge of the Sith"
          ],
          "px": 268.06316564322964,
          "py": 263.5411594264449,
          "shape": "circle",
          "shape_attrs": {
           "r": 15
          },
          "value": null,
          "weight": 24,
          "x": 267.8688266592177,
          "y": 263.57491706945547
         }
        },
        {
         "source": {
          "index": 5,
          "label": "Beru Whitesun lars",
          "label_display": "center",
          "media": [
           "A New Hope",
           "Attack of the Clones",
           "Revenge of the Sith"
          ],
          "px": 268.06316564322964,
          "py": 263.5411594264449,
          "shape": "circle",
          "shape_attrs": {
           "r": 15
          },
          "value": null,
          "weight": 24,
          "x": 267.8688266592177,
          "y": 263.57491706945547
         },
         "target": {
          "index": 4,
          "label": "Obi-Wan Kenobi",
          "label_display": "center",
          "media": [
           "A New Hope",
           "The Empire Strikes Back",
           "Return of the Jedi",
           "The Phantom Menace",
           "Attack of the Clones",
           "Revenge of the Sith"
          ],
          "px": 347.0555055216244,
          "py": 282.10952025713146,
          "shape": "circle",
          "shape_attrs": {
           "r": 15
          },
          "value": null,
          "weight": 50,
          "x": 347.10610314500343,
          "y": 282.22495397083145
         }
        },
        {
         "source": {
          "index": 5,
          "label": "Beru Whitesun lars",
          "label_display": "center",
          "media": [
           "A New Hope",
           "Attack of the Clones",
           "Revenge of the Sith"
          ],
          "px": 268.06316564322964,
          "py": 263.5411594264449,
          "shape": "circle",
          "shape_attrs": {
           "r": 15
          },
          "value": null,
          "weight": 24,
          "x": 267.8688266592177,
          "y": 263.57491706945547
         },
         "target": {
          "index": 1,
          "label": "Yoda",
          "label_display": "center",
          "media": [
           "The Empire Strikes Back",
           "Return of the Jedi",
           "The Phantom Menace",
           "Attack of the Clones",
           "Revenge of the Sith"
          ],
          "px": 382.86026645814934,
          "py": 189.54167056256384,
          "shape": "circle",
          "shape_attrs": {
           "r": 15
          },
          "value": null,
          "weight": 42,
          "x": 382.95982239343493,
          "y": 189.48199541589005
         }
        },
        {
         "source": {
          "index": 4,
          "label": "Obi-Wan Kenobi",
          "label_display": "center",
          "media": [
           "A New Hope",
           "The Empire Strikes Back",
           "Return of the Jedi",
           "The Phantom Menace",
           "Attack of the Clones",
           "Revenge of the Sith"
          ],
          "px": 347.0555055216244,
          "py": 282.10952025713146,
          "shape": "circle",
          "shape_attrs": {
           "r": 15
          },
          "value": null,
          "weight": 50,
          "x": 347.10610314500343,
          "y": 282.22495397083145
         },
         "target": {
          "index": 3,
          "label": "Darth Vader",
          "label_display": "center",
          "media": [
           "A New Hope",
           "The Empire Strikes Back",
           "Return of the Jedi",
           "Revenge of the Sith"
          ],
          "px": 286.1160113972277,
          "py": 203.27999868082094,
          "shape": "circle",
          "shape_attrs": {
           "r": 15
          },
          "value": null,
          "weight": 36,
          "x": 286.03838221511705,
          "y": 203.21188834768566
         }
        },
        {
         "source": {
          "index": 4,
          "label": "Obi-Wan Kenobi",
          "label_display": "center",
          "media": [
           "A New Hope",
           "The Empire Strikes Back",
           "Return of the Jedi",
           "The Phantom Menace",
           "Attack of the Clones",
           "Revenge of the Sith"
          ],
          "px": 347.0555055216244,
          "py": 282.10952025713146,
          "shape": "circle",
          "shape_attrs": {
           "r": 15
          },
          "value": null,
          "weight": 50,
          "x": 347.10610314500343,
          "y": 282.22495397083145
         },
         "target": {
          "index": 5,
          "label": "Beru Whitesun lars",
          "label_display": "center",
          "media": [
           "A New Hope",
           "Attack of the Clones",
           "Revenge of the Sith"
          ],
          "px": 268.06316564322964,
          "py": 263.5411594264449,
          "shape": "circle",
          "shape_attrs": {
           "r": 15
          },
          "value": null,
          "weight": 24,
          "x": 267.8688266592177,
          "y": 263.57491706945547
         }
        },
        {
         "source": {
          "index": 4,
          "label": "Obi-Wan Kenobi",
          "label_display": "center",
          "media": [
           "A New Hope",
           "The Empire Strikes Back",
           "Return of the Jedi",
           "The Phantom Menace",
           "Attack of the Clones",
           "Revenge of the Sith"
          ],
          "px": 347.0555055216244,
          "py": 282.10952025713146,
          "shape": "circle",
          "shape_attrs": {
           "r": 15
          },
          "value": null,
          "weight": 50,
          "x": 347.10610314500343,
          "y": 282.22495397083145
         },
         "target": {
          "index": 4,
          "label": "Obi-Wan Kenobi",
          "label_display": "center",
          "media": [
           "A New Hope",
           "The Empire Strikes Back",
           "Return of the Jedi",
           "The Phantom Menace",
           "Attack of the Clones",
           "Revenge of the Sith"
          ],
          "px": 347.0555055216244,
          "py": 282.10952025713146,
          "shape": "circle",
          "shape_attrs": {
           "r": 15
          },
          "value": null,
          "weight": 50,
          "x": 347.10610314500343,
          "y": 282.22495397083145
         }
        },
        {
         "source": {
          "index": 4,
          "label": "Obi-Wan Kenobi",
          "label_display": "center",
          "media": [
           "A New Hope",
           "The Empire Strikes Back",
           "Return of the Jedi",
           "The Phantom Menace",
           "Attack of the Clones",
           "Revenge of the Sith"
          ],
          "px": 347.0555055216244,
          "py": 282.10952025713146,
          "shape": "circle",
          "shape_attrs": {
           "r": 15
          },
          "value": null,
          "weight": 50,
          "x": 347.10610314500343,
          "y": 282.22495397083145
         },
         "target": {
          "index": 1,
          "label": "Yoda",
          "label_display": "center",
          "media": [
           "The Empire Strikes Back",
           "Return of the Jedi",
           "The Phantom Menace",
           "Attack of the Clones",
           "Revenge of the Sith"
          ],
          "px": 382.86026645814934,
          "py": 189.54167056256384,
          "shape": "circle",
          "shape_attrs": {
           "r": 15
          },
          "value": null,
          "weight": 42,
          "x": 382.95982239343493,
          "y": 189.48199541589005
         }
        },
        {
         "source": {
          "index": 1,
          "label": "Yoda",
          "label_display": "center",
          "media": [
           "The Empire Strikes Back",
           "Return of the Jedi",
           "The Phantom Menace",
           "Attack of the Clones",
           "Revenge of the Sith"
          ],
          "px": 382.86026645814934,
          "py": 189.54167056256384,
          "shape": "circle",
          "shape_attrs": {
           "r": 15
          },
          "value": null,
          "weight": 42,
          "x": 382.95982239343493,
          "y": 189.48199541589005
         },
         "target": {
          "index": 3,
          "label": "Darth Vader",
          "label_display": "center",
          "media": [
           "A New Hope",
           "The Empire Strikes Back",
           "Return of the Jedi",
           "Revenge of the Sith"
          ],
          "px": 286.1160113972277,
          "py": 203.27999868082094,
          "shape": "circle",
          "shape_attrs": {
           "r": 15
          },
          "value": null,
          "weight": 36,
          "x": 286.03838221511705,
          "y": 203.21188834768566
         }
        },
        {
         "source": {
          "index": 1,
          "label": "Yoda",
          "label_display": "center",
          "media": [
           "The Empire Strikes Back",
           "Return of the Jedi",
           "The Phantom Menace",
           "Attack of the Clones",
           "Revenge of the Sith"
          ],
          "px": 382.86026645814934,
          "py": 189.54167056256384,
          "shape": "circle",
          "shape_attrs": {
           "r": 15
          },
          "value": null,
          "weight": 42,
          "x": 382.95982239343493,
          "y": 189.48199541589005
         },
         "target": {
          "index": 5,
          "label": "Beru Whitesun lars",
          "label_display": "center",
          "media": [
           "A New Hope",
           "Attack of the Clones",
           "Revenge of the Sith"
          ],
          "px": 268.06316564322964,
          "py": 263.5411594264449,
          "shape": "circle",
          "shape_attrs": {
           "r": 15
          },
          "value": null,
          "weight": 24,
          "x": 267.8688266592177,
          "y": 263.57491706945547
         }
        },
        {
         "source": {
          "index": 1,
          "label": "Yoda",
          "label_display": "center",
          "media": [
           "The Empire Strikes Back",
           "Return of the Jedi",
           "The Phantom Menace",
           "Attack of the Clones",
           "Revenge of the Sith"
          ],
          "px": 382.86026645814934,
          "py": 189.54167056256384,
          "shape": "circle",
          "shape_attrs": {
           "r": 15
          },
          "value": null,
          "weight": 42,
          "x": 382.95982239343493,
          "y": 189.48199541589005
         },
         "target": {
          "index": 4,
          "label": "Obi-Wan Kenobi",
          "label_display": "center",
          "media": [
           "A New Hope",
           "The Empire Strikes Back",
           "Return of the Jedi",
           "The Phantom Menace",
           "Attack of the Clones",
           "Revenge of the Sith"
          ],
          "px": 347.0555055216244,
          "py": 282.10952025713146,
          "shape": "circle",
          "shape_attrs": {
           "r": 15
          },
          "value": null,
          "weight": 50,
          "x": 347.10610314500343,
          "y": 282.22495397083145
         }
        },
        {
         "source": {
          "index": 1,
          "label": "Yoda",
          "label_display": "center",
          "media": [
           "The Empire Strikes Back",
           "Return of the Jedi",
           "The Phantom Menace",
           "Attack of the Clones",
           "Revenge of the Sith"
          ],
          "px": 382.86026645814934,
          "py": 189.54167056256384,
          "shape": "circle",
          "shape_attrs": {
           "r": 15
          },
          "value": null,
          "weight": 42,
          "x": 382.95982239343493,
          "y": 189.48199541589005
         },
         "target": {
          "index": 1,
          "label": "Yoda",
          "label_display": "center",
          "media": [
           "The Empire Strikes Back",
           "Return of the Jedi",
           "The Phantom Menace",
           "Attack of the Clones",
           "Revenge of the Sith"
          ],
          "px": 382.86026645814934,
          "py": 189.54167056256384,
          "shape": "circle",
          "shape_attrs": {
           "r": 15
          },
          "value": null,
          "weight": 42,
          "x": 382.95982239343493,
          "y": 189.48199541589005
         }
        }
       ],
       "link_distance": 100,
       "link_matrix": {
        "type": "float",
        "values": []
       },
       "link_type": "arc",
       "node_data": [
        {
         "index": 0,
         "label": "Boba Fett",
         "label_display": "center",
         "media": [
          "The Empire Strikes Back",
          "Return of the Jedi",
          "Attack of the Clones"
         ],
         "px": 317.85960209516287,
         "py": 158.14815176854148,
         "shape": "circle",
         "shape_attrs": {
          "r": 15
         },
         "value": null,
         "weight": 28,
         "x": 317.8693355956937,
         "y": 158.01067750076686
        },
        {
         "index": 1,
         "label": "Yoda",
         "label_display": "center",
         "media": [
          "The Empire Strikes Back",
          "Return of the Jedi",
          "The Phantom Menace",
          "Attack of the Clones",
          "Revenge of the Sith"
         ],
         "px": 382.86026645814934,
         "py": 189.54167056256384,
         "shape": "circle",
         "shape_attrs": {
          "r": 15
         },
         "value": null,
         "weight": 42,
         "x": 382.95982239343493,
         "y": 189.48199541589005
        },
        {
         "index": 2,
         "label": "Jabba Desilijic Tiure",
         "label_display": "center",
         "media": [
          "A New Hope",
          "Return of the Jedi",
          "The Phantom Menace"
         ],
         "px": 411.2774982903746,
         "py": 246.10066533827884,
         "shape": "circle",
         "shape_attrs": {
          "r": 15
         },
         "value": null,
         "weight": 26,
         "x": 411.40544970882263,
         "y": 246.15878974019802
        },
        {
         "index": 3,
         "label": "Darth Vader",
         "label_display": "center",
         "media": [
          "A New Hope",
          "The Empire Strikes Back",
          "Return of the Jedi",
          "Revenge of the Sith"
         ],
         "px": 286.1160113972277,
         "py": 203.27999868082094,
         "shape": "circle",
         "shape_attrs": {
          "r": 15
         },
         "value": null,
         "weight": 36,
         "x": 286.03838221511705,
         "y": 203.21188834768566
        },
        {
         "index": 4,
         "label": "Obi-Wan Kenobi",
         "label_display": "center",
         "media": [
          "A New Hope",
          "The Empire Strikes Back",
          "Return of the Jedi",
          "The Phantom Menace",
          "Attack of the Clones",
          "Revenge of the Sith"
         ],
         "px": 347.0555055216244,
         "py": 282.10952025713146,
         "shape": "circle",
         "shape_attrs": {
          "r": 15
         },
         "value": null,
         "weight": 50,
         "x": 347.10610314500343,
         "y": 282.22495397083145
        },
        {
         "index": 5,
         "label": "Beru Whitesun lars",
         "label_display": "center",
         "media": [
          "A New Hope",
          "Attack of the Clones",
          "Revenge of the Sith"
         ],
         "px": 268.06316564322964,
         "py": 263.5411594264449,
         "shape": "circle",
         "shape_attrs": {
          "r": 15
         },
         "value": null,
         "weight": 24,
         "x": 267.8688266592177,
         "y": 263.57491706945547
        },
        {
         "index": 6,
         "label": "Mon Mothma",
         "label_display": "center",
         "media": [
          "Return of the Jedi"
         ],
         "px": 292.059123638708,
         "py": 270.96270645630767,
         "shape": "circle",
         "shape_attrs": {
          "r": 15
         },
         "value": null,
         "weight": 12,
         "x": 292.0648433771736,
         "y": 271.0604757522572
        }
       ],
       "preserve_domain": {},
       "scales": {},
       "scales_metadata": {
        "color": {
         "dimension": "color"
        },
        "link_color": {
         "dimension": "link_color"
        },
        "x": {
         "dimension": "x",
         "orientation": "horizontal"
        },
        "y": {
         "dimension": "y",
         "orientation": "vertical"
        }
       },
       "selected": [],
       "selected_style": {},
       "tooltip": "IPY_MODEL_96a4962c3aa9404fab62110028eec9c1",
       "tooltip_location": "mouse",
       "tooltip_style": {
        "opacity": 0.9
       },
       "unhovered_style": {},
       "unselected_style": {},
       "visible": true,
       "x": {
        "type": "float",
        "values": []
       },
       "y": {
        "type": "float",
        "values": []
       }
      }
     },
     "fdf63957fda543b4b751d9b5d0025765": {
      "model_module": "bqplot",
      "model_module_version": "^0.4.1",
      "model_name": "TooltipModel",
      "state": {
       "_model_module_version": "^0.4.1",
       "_view_module_version": "^0.4.1",
       "fields": [
        "label",
        "media"
       ],
       "layout": "IPY_MODEL_b74c64d03fe44823ae98cde6dba4589c"
      }
     }
    },
    "version_major": 2,
    "version_minor": 0
   }
  }
 },
 "nbformat": 4,
 "nbformat_minor": 2
}
